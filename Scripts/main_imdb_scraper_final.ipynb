{
 "cells": [
  {
   "cell_type": "markdown",
   "id": "5b86742c",
   "metadata": {},
   "source": [
    "**IMDB scraper script inspired by SkeyRahaman 2019 (GitHub)**"
   ]
  },
  {
   "cell_type": "code",
   "execution_count": 1,
   "id": "0f889cd1",
   "metadata": {
    "ExecuteTime": {
     "end_time": "2021-09-05T07:04:44.212043Z",
     "start_time": "2021-09-05T07:04:43.635431Z"
    }
   },
   "outputs": [],
   "source": [
    "import pandas as pd\n",
    "from bs4 import BeautifulSoup\n",
    "import requests\n",
    "from tqdm import tqdm"
   ]
  },
  {
   "cell_type": "code",
   "execution_count": 15,
   "id": "8ee0c09a",
   "metadata": {
    "ExecuteTime": {
     "end_time": "2021-09-05T07:14:48.148297Z",
     "start_time": "2021-09-05T07:14:48.143840Z"
    }
   },
   "outputs": [],
   "source": [
    "proxies = {\n",
    "  'http': 'http://206.189.157.23',\n",
    "  'https': 'http://206.189.157.23',\n",
    "}"
   ]
  },
  {
   "cell_type": "code",
   "execution_count": 27,
   "id": "9ecce77f",
   "metadata": {
    "ExecuteTime": {
     "end_time": "2021-09-05T07:17:36.927193Z",
     "start_time": "2021-09-05T07:17:36.922483Z"
    }
   },
   "outputs": [],
   "source": [
    "url = \"https://www.imdb.com/list/ls021389931/\""
   ]
  },
  {
   "cell_type": "code",
   "execution_count": 28,
   "id": "804fa2c1",
   "metadata": {
    "ExecuteTime": {
     "end_time": "2021-09-05T07:17:38.535641Z",
     "start_time": "2021-09-05T07:17:38.525745Z"
    }
   },
   "outputs": [],
   "source": [
    "def all_page_link(start_url):\n",
    "    all_urls = []\n",
    "    url = start_url\n",
    "    while(url != None):            #Loop around all the required webpages and terminates when last page arive!\n",
    "        all_urls.append(url)\n",
    "        soup = BeautifulSoup(requests.get(url, proxies=proxies).text,\"html.parser\")\n",
    "        next_links = soup.find_all(class_='flat-button lister-page-next next-page')    #Extracts the next page link.\n",
    "        if (len(next_links) == 0):         # If their is no next page, it returns 0.\n",
    "            url = None\n",
    "        else:\n",
    "            next_page = \"https://www.imdb.com\" + next_links[0].get('href')\n",
    "            url = next_page\n",
    "    return all_urls"
   ]
  },
  {
   "cell_type": "code",
   "execution_count": 29,
   "id": "df2269c4",
   "metadata": {
    "ExecuteTime": {
     "end_time": "2021-09-05T07:17:39.206374Z",
     "start_time": "2021-09-05T07:17:39.195614Z"
    }
   },
   "outputs": [],
   "source": [
    "def director_and_actor(Director_and_star):\n",
    "    Director_and_star =  Director_and_star.replace(\"\\n\",\"\")\n",
    "    Director_and_star = Director_and_star.replace(\"|\",\"\")\n",
    "    Director_and_star = Director_and_star.split(\"Stars:\")\n",
    "    Director_and_star[0] = Director_and_star[0].replace(\"Director:\",\"\")\n",
    "    Director_and_star[0] = Director_and_star[0].replace(\"Directors:\",\"\")\n",
    "    for i in range(10):\n",
    "        Director_and_star[0]=Director_and_star[0].replace(\"  \",\" \")\n",
    "    director = Director_and_star[0][1:]\n",
    "    stars = Director_and_star[1]\n",
    "    stars = stars.replace(\":\",\"\")\n",
    "    return director,stars"
   ]
  },
  {
   "cell_type": "code",
   "execution_count": 30,
   "id": "e708af20",
   "metadata": {
    "ExecuteTime": {
     "end_time": "2021-09-05T07:17:39.937184Z",
     "start_time": "2021-09-05T07:17:39.929395Z"
    }
   },
   "outputs": [],
   "source": [
    "def votes_and_gross_conveter(votes_and_gross):\n",
    "    votes_and_gross_list = []\n",
    "    for i in votes_and_gross:\n",
    "        votes_and_gross_list.append(i.text)\n",
    "    if(len(votes_and_gross)==2):\n",
    "        votes=votes_and_gross_list[0]\n",
    "        gross = votes_and_gross_list[1]\n",
    "    else:\n",
    "        votes=votes_and_gross_list[0]\n",
    "        gross = None\n",
    "    \n",
    "    return votes,gross"
   ]
  },
  {
   "cell_type": "code",
   "execution_count": 31,
   "id": "f761f920",
   "metadata": {
    "ExecuteTime": {
     "end_time": "2021-09-05T07:18:14.557659Z",
     "start_time": "2021-09-05T07:17:40.902939Z"
    }
   },
   "outputs": [
    {
     "name": "stderr",
     "output_type": "stream",
     "text": [
      "100%|██████████| 2/2 [00:17<00:00,  8.95s/it]\n"
     ]
    }
   ],
   "source": [
    "main_array = []\n",
    "for url in tqdm(all_page_link(url)):     #Runs the function for all the pages.\n",
    "    soup = BeautifulSoup(requests.get(url, proxies=proxies).text,\"html.parser\")         #Extracts out the main html code.\n",
    "    for link in soup.find_all(class_='lister-item-content'):\n",
    "        id = int(link.find('span',{\"class\":\"lister-item-index unbold text-primary\"}).text[:-1])\n",
    "        name = link.find('a').text\n",
    "        year = link.find('span',{\"class\":\"lister-item-year text-muted unbold\"}).text[1:5]\n",
    "        run_time = link.find('span',{\"class\":\"runtime\"}).text\n",
    "        genre = link.find('span',{\"class\":\"genre\"}).text[1:]\n",
    "        rating = link.find('span',{\"class\":\"ipl-rating-star__rating\"}).text\n",
    "        about = link.find_all('p')[1].text[5:]\n",
    "        director,actors = director_and_actor(link.find_all('p',{\"class\":\"text-muted text-small\"})[1].text)\n",
    "        votes, gross = votes_and_gross_conveter(link.find_all('span',{\"name\":\"nv\"}))\n",
    "        votes = int(votes.replace(\",\",\"\"))\n",
    "        list_of_all = [id,name,year,run_time,genre,rating,about,director,actors,votes,gross]\n",
    "        main_array.append(list_of_all)"
   ]
  },
  {
   "cell_type": "code",
   "execution_count": 32,
   "id": "fe33760a",
   "metadata": {
    "ExecuteTime": {
     "end_time": "2021-09-05T07:18:16.489924Z",
     "start_time": "2021-09-05T07:18:16.484064Z"
    }
   },
   "outputs": [],
   "source": [
    "index = [\"id\",\"name\",\"year\",\"run_time\",\"genre\",\"rating\",\"about\",\"director\",\"actors\",\"votes\",\"gross\"]"
   ]
  },
  {
   "cell_type": "code",
   "execution_count": 33,
   "id": "036bd3c9",
   "metadata": {
    "ExecuteTime": {
     "end_time": "2021-09-05T07:18:17.561874Z",
     "start_time": "2021-09-05T07:18:17.545378Z"
    }
   },
   "outputs": [],
   "source": [
    "df = pd.DataFrame(main_array,columns=index)"
   ]
  },
  {
   "cell_type": "code",
   "execution_count": 34,
   "id": "5337a2c1",
   "metadata": {
    "ExecuteTime": {
     "end_time": "2021-09-05T07:18:19.000274Z",
     "start_time": "2021-09-05T07:18:18.975023Z"
    }
   },
   "outputs": [
    {
     "data": {
      "text/html": [
       "<div>\n",
       "<style scoped>\n",
       "    .dataframe tbody tr th:only-of-type {\n",
       "        vertical-align: middle;\n",
       "    }\n",
       "\n",
       "    .dataframe tbody tr th {\n",
       "        vertical-align: top;\n",
       "    }\n",
       "\n",
       "    .dataframe thead th {\n",
       "        text-align: right;\n",
       "    }\n",
       "</style>\n",
       "<table border=\"1\" class=\"dataframe\">\n",
       "  <thead>\n",
       "    <tr style=\"text-align: right;\">\n",
       "      <th></th>\n",
       "      <th>id</th>\n",
       "      <th>name</th>\n",
       "      <th>year</th>\n",
       "      <th>run_time</th>\n",
       "      <th>genre</th>\n",
       "      <th>rating</th>\n",
       "      <th>about</th>\n",
       "      <th>director</th>\n",
       "      <th>actors</th>\n",
       "      <th>votes</th>\n",
       "      <th>gross</th>\n",
       "    </tr>\n",
       "  </thead>\n",
       "  <tbody>\n",
       "    <tr>\n",
       "      <th>0</th>\n",
       "      <td>1</td>\n",
       "      <td>Malèna</td>\n",
       "      <td>2000</td>\n",
       "      <td>108 min</td>\n",
       "      <td>Comedy, Drama, Romance</td>\n",
       "      <td>7.5</td>\n",
       "      <td>st the war climate, a teenage boy discovering ...</td>\n",
       "      <td>Giuseppe Tornatore</td>\n",
       "      <td>Monica Bellucci, Giuseppe Sulfaro, Luciano Fed...</td>\n",
       "      <td>95926</td>\n",
       "      <td>$3.43M</td>\n",
       "    </tr>\n",
       "    <tr>\n",
       "      <th>1</th>\n",
       "      <td>2</td>\n",
       "      <td>Le fabuleux destin d'Amélie Poulain</td>\n",
       "      <td>2001</td>\n",
       "      <td>122 min</td>\n",
       "      <td>Comedy, Romance</td>\n",
       "      <td>8.3</td>\n",
       "      <td>ie is an innocent and naive girl in Paris with...</td>\n",
       "      <td>Jean-Pierre Jeunet</td>\n",
       "      <td>Audrey Tautou, Mathieu Kassovitz, Rufus, Lorel...</td>\n",
       "      <td>723413</td>\n",
       "      <td>$33.23M</td>\n",
       "    </tr>\n",
       "    <tr>\n",
       "      <th>2</th>\n",
       "      <td>3</td>\n",
       "      <td>Un long dimanche de fiançailles</td>\n",
       "      <td>2004</td>\n",
       "      <td>133 min</td>\n",
       "      <td>Drama, Mystery, Romance</td>\n",
       "      <td>7.6</td>\n",
       "      <td>s the story of a young woman's relentless sear...</td>\n",
       "      <td>Jean-Pierre Jeunet</td>\n",
       "      <td>Audrey Tautou, Gaspard Ulliel, Jodie Foster, D...</td>\n",
       "      <td>72193</td>\n",
       "      <td>$6.17M</td>\n",
       "    </tr>\n",
       "    <tr>\n",
       "      <th>3</th>\n",
       "      <td>4</td>\n",
       "      <td>Fa yeung nin wah</td>\n",
       "      <td>2000</td>\n",
       "      <td>98 min</td>\n",
       "      <td>Drama, Romance</td>\n",
       "      <td>8.1</td>\n",
       "      <td>neighbors form a strong bond after both suspec...</td>\n",
       "      <td>Kar-Wai Wong</td>\n",
       "      <td>Tony Chiu-Wai Leung, Maggie Cheung, Siu Ping-L...</td>\n",
       "      <td>135583</td>\n",
       "      <td>$2.73M</td>\n",
       "    </tr>\n",
       "    <tr>\n",
       "      <th>4</th>\n",
       "      <td>5</td>\n",
       "      <td>The Curious Case of Benjamin Button</td>\n",
       "      <td>2008</td>\n",
       "      <td>166 min</td>\n",
       "      <td>Drama, Fantasy, Romance</td>\n",
       "      <td>7.8</td>\n",
       "      <td>s the story of Benjamin Button, a man who star...</td>\n",
       "      <td>David Fincher</td>\n",
       "      <td>Brad Pitt, Cate Blanchett, Tilda Swinton, Juli...</td>\n",
       "      <td>612107</td>\n",
       "      <td>$127.51M</td>\n",
       "    </tr>\n",
       "  </tbody>\n",
       "</table>\n",
       "</div>"
      ],
      "text/plain": [
       "   id                                 name  year run_time  \\\n",
       "0   1                               Malèna  2000  108 min   \n",
       "1   2  Le fabuleux destin d'Amélie Poulain  2001  122 min   \n",
       "2   3      Un long dimanche de fiançailles  2004  133 min   \n",
       "3   4                     Fa yeung nin wah  2000   98 min   \n",
       "4   5  The Curious Case of Benjamin Button  2008  166 min   \n",
       "\n",
       "                                 genre rating  \\\n",
       "0   Comedy, Drama, Romance                7.5   \n",
       "1          Comedy, Romance                8.3   \n",
       "2  Drama, Mystery, Romance                7.6   \n",
       "3           Drama, Romance                8.1   \n",
       "4  Drama, Fantasy, Romance                7.8   \n",
       "\n",
       "                                               about             director  \\\n",
       "0  st the war climate, a teenage boy discovering ...  Giuseppe Tornatore    \n",
       "1  ie is an innocent and naive girl in Paris with...  Jean-Pierre Jeunet    \n",
       "2  s the story of a young woman's relentless sear...  Jean-Pierre Jeunet    \n",
       "3  neighbors form a strong bond after both suspec...        Kar-Wai Wong    \n",
       "4  s the story of Benjamin Button, a man who star...       David Fincher    \n",
       "\n",
       "                                              actors   votes     gross  \n",
       "0  Monica Bellucci, Giuseppe Sulfaro, Luciano Fed...   95926    $3.43M  \n",
       "1  Audrey Tautou, Mathieu Kassovitz, Rufus, Lorel...  723413   $33.23M  \n",
       "2  Audrey Tautou, Gaspard Ulliel, Jodie Foster, D...   72193    $6.17M  \n",
       "3  Tony Chiu-Wai Leung, Maggie Cheung, Siu Ping-L...  135583    $2.73M  \n",
       "4  Brad Pitt, Cate Blanchett, Tilda Swinton, Juli...  612107  $127.51M  "
      ]
     },
     "execution_count": 34,
     "metadata": {},
     "output_type": "execute_result"
    }
   ],
   "source": [
    "df.head(5)"
   ]
  },
  {
   "cell_type": "code",
   "execution_count": 35,
   "id": "f8bc4b61",
   "metadata": {
    "ExecuteTime": {
     "end_time": "2021-09-05T07:18:21.755319Z",
     "start_time": "2021-09-05T07:18:21.731161Z"
    }
   },
   "outputs": [
    {
     "name": "stdout",
     "output_type": "stream",
     "text": [
      "<class 'pandas.core.frame.DataFrame'>\n",
      "RangeIndex: 200 entries, 0 to 199\n",
      "Data columns (total 11 columns):\n",
      " #   Column    Non-Null Count  Dtype \n",
      "---  ------    --------------  ----- \n",
      " 0   id        200 non-null    int64 \n",
      " 1   name      200 non-null    object\n",
      " 2   year      200 non-null    object\n",
      " 3   run_time  200 non-null    object\n",
      " 4   genre     200 non-null    object\n",
      " 5   rating    200 non-null    object\n",
      " 6   about     200 non-null    object\n",
      " 7   director  200 non-null    object\n",
      " 8   actors    200 non-null    object\n",
      " 9   votes     200 non-null    int64 \n",
      " 10  gross     168 non-null    object\n",
      "dtypes: int64(2), object(9)\n",
      "memory usage: 17.3+ KB\n"
     ]
    }
   ],
   "source": [
    "df.info()"
   ]
  },
  {
   "cell_type": "code",
   "execution_count": 36,
   "id": "52a58465",
   "metadata": {
    "ExecuteTime": {
     "end_time": "2021-09-05T07:18:23.128665Z",
     "start_time": "2021-09-05T07:18:23.115399Z"
    }
   },
   "outputs": [
    {
     "data": {
      "text/plain": [
       "0      st the war climate, a teenage boy discovering ...\n",
       "1      ie is an innocent and naive girl in Paris with...\n",
       "2      s the story of a young woman's relentless sear...\n",
       "3      neighbors form a strong bond after both suspec...\n",
       "4      s the story of Benjamin Button, a man who star...\n",
       "                             ...                        \n",
       "195    velist struggling with writer's block finds ro...\n",
       "196    stated Peter takes a Hawaiian vacation in orde...\n",
       "197    story of two North Carolina teens, Landon Cart...\n",
       "198    he 1930s, a Bronx native moves to Hollywood an...\n",
       "199    ean-cut high school student relies on the scho...\n",
       "Name: about, Length: 200, dtype: object"
      ]
     },
     "execution_count": 36,
     "metadata": {},
     "output_type": "execute_result"
    }
   ],
   "source": [
    "df['about']"
   ]
  },
  {
   "cell_type": "code",
   "execution_count": 37,
   "id": "20afd7a1",
   "metadata": {
    "ExecuteTime": {
     "end_time": "2021-09-05T07:18:25.657294Z",
     "start_time": "2021-09-05T07:18:25.633117Z"
    }
   },
   "outputs": [
    {
     "data": {
      "text/html": [
       "<div>\n",
       "<style scoped>\n",
       "    .dataframe tbody tr th:only-of-type {\n",
       "        vertical-align: middle;\n",
       "    }\n",
       "\n",
       "    .dataframe tbody tr th {\n",
       "        vertical-align: top;\n",
       "    }\n",
       "\n",
       "    .dataframe thead th {\n",
       "        text-align: right;\n",
       "    }\n",
       "</style>\n",
       "<table border=\"1\" class=\"dataframe\">\n",
       "  <thead>\n",
       "    <tr style=\"text-align: right;\">\n",
       "      <th></th>\n",
       "      <th>id</th>\n",
       "      <th>name</th>\n",
       "      <th>year</th>\n",
       "      <th>run_time</th>\n",
       "      <th>genre</th>\n",
       "      <th>rating</th>\n",
       "      <th>about</th>\n",
       "      <th>director</th>\n",
       "      <th>actors</th>\n",
       "      <th>votes</th>\n",
       "      <th>gross</th>\n",
       "    </tr>\n",
       "  </thead>\n",
       "  <tbody>\n",
       "    <tr>\n",
       "      <th>0</th>\n",
       "      <td>1</td>\n",
       "      <td>Malèna</td>\n",
       "      <td>2000</td>\n",
       "      <td>108 min</td>\n",
       "      <td>Comedy, Drama, Romance</td>\n",
       "      <td>7.5</td>\n",
       "      <td>st the war climate, a teenage boy discovering ...</td>\n",
       "      <td>Giuseppe Tornatore</td>\n",
       "      <td>Monica Bellucci, Giuseppe Sulfaro, Luciano Fed...</td>\n",
       "      <td>95926</td>\n",
       "      <td>$3.43M</td>\n",
       "    </tr>\n",
       "    <tr>\n",
       "      <th>1</th>\n",
       "      <td>2</td>\n",
       "      <td>Le fabuleux destin d'Amélie Poulain</td>\n",
       "      <td>2001</td>\n",
       "      <td>122 min</td>\n",
       "      <td>Comedy, Romance</td>\n",
       "      <td>8.3</td>\n",
       "      <td>ie is an innocent and naive girl in Paris with...</td>\n",
       "      <td>Jean-Pierre Jeunet</td>\n",
       "      <td>Audrey Tautou, Mathieu Kassovitz, Rufus, Lorel...</td>\n",
       "      <td>723413</td>\n",
       "      <td>$33.23M</td>\n",
       "    </tr>\n",
       "    <tr>\n",
       "      <th>2</th>\n",
       "      <td>3</td>\n",
       "      <td>Un long dimanche de fiançailles</td>\n",
       "      <td>2004</td>\n",
       "      <td>133 min</td>\n",
       "      <td>Drama, Mystery, Romance</td>\n",
       "      <td>7.6</td>\n",
       "      <td>s the story of a young woman's relentless sear...</td>\n",
       "      <td>Jean-Pierre Jeunet</td>\n",
       "      <td>Audrey Tautou, Gaspard Ulliel, Jodie Foster, D...</td>\n",
       "      <td>72193</td>\n",
       "      <td>$6.17M</td>\n",
       "    </tr>\n",
       "    <tr>\n",
       "      <th>3</th>\n",
       "      <td>4</td>\n",
       "      <td>Fa yeung nin wah</td>\n",
       "      <td>2000</td>\n",
       "      <td>98 min</td>\n",
       "      <td>Drama, Romance</td>\n",
       "      <td>8.1</td>\n",
       "      <td>neighbors form a strong bond after both suspec...</td>\n",
       "      <td>Kar-Wai Wong</td>\n",
       "      <td>Tony Chiu-Wai Leung, Maggie Cheung, Siu Ping-L...</td>\n",
       "      <td>135583</td>\n",
       "      <td>$2.73M</td>\n",
       "    </tr>\n",
       "    <tr>\n",
       "      <th>4</th>\n",
       "      <td>5</td>\n",
       "      <td>The Curious Case of Benjamin Button</td>\n",
       "      <td>2008</td>\n",
       "      <td>166 min</td>\n",
       "      <td>Drama, Fantasy, Romance</td>\n",
       "      <td>7.8</td>\n",
       "      <td>s the story of Benjamin Button, a man who star...</td>\n",
       "      <td>David Fincher</td>\n",
       "      <td>Brad Pitt, Cate Blanchett, Tilda Swinton, Juli...</td>\n",
       "      <td>612107</td>\n",
       "      <td>$127.51M</td>\n",
       "    </tr>\n",
       "  </tbody>\n",
       "</table>\n",
       "</div>"
      ],
      "text/plain": [
       "   id                                 name  year run_time  \\\n",
       "0   1                               Malèna  2000  108 min   \n",
       "1   2  Le fabuleux destin d'Amélie Poulain  2001  122 min   \n",
       "2   3      Un long dimanche de fiançailles  2004  133 min   \n",
       "3   4                     Fa yeung nin wah  2000   98 min   \n",
       "4   5  The Curious Case of Benjamin Button  2008  166 min   \n",
       "\n",
       "                                 genre rating  \\\n",
       "0   Comedy, Drama, Romance                7.5   \n",
       "1          Comedy, Romance                8.3   \n",
       "2  Drama, Mystery, Romance                7.6   \n",
       "3           Drama, Romance                8.1   \n",
       "4  Drama, Fantasy, Romance                7.8   \n",
       "\n",
       "                                               about             director  \\\n",
       "0  st the war climate, a teenage boy discovering ...  Giuseppe Tornatore    \n",
       "1  ie is an innocent and naive girl in Paris with...  Jean-Pierre Jeunet    \n",
       "2  s the story of a young woman's relentless sear...  Jean-Pierre Jeunet    \n",
       "3  neighbors form a strong bond after both suspec...        Kar-Wai Wong    \n",
       "4  s the story of Benjamin Button, a man who star...       David Fincher    \n",
       "\n",
       "                                              actors   votes     gross  \n",
       "0  Monica Bellucci, Giuseppe Sulfaro, Luciano Fed...   95926    $3.43M  \n",
       "1  Audrey Tautou, Mathieu Kassovitz, Rufus, Lorel...  723413   $33.23M  \n",
       "2  Audrey Tautou, Gaspard Ulliel, Jodie Foster, D...   72193    $6.17M  \n",
       "3  Tony Chiu-Wai Leung, Maggie Cheung, Siu Ping-L...  135583    $2.73M  \n",
       "4  Brad Pitt, Cate Blanchett, Tilda Swinton, Juli...  612107  $127.51M  "
      ]
     },
     "execution_count": 37,
     "metadata": {},
     "output_type": "execute_result"
    }
   ],
   "source": [
    "df.head()"
   ]
  },
  {
   "cell_type": "code",
   "execution_count": 38,
   "id": "b122b25c",
   "metadata": {
    "ExecuteTime": {
     "end_time": "2021-09-05T07:18:54.154625Z",
     "start_time": "2021-09-05T07:18:54.126889Z"
    }
   },
   "outputs": [],
   "source": [
    "df.to_csv('tenth_200_romantic_movies.csv')"
   ]
  },
  {
   "cell_type": "code",
   "execution_count": null,
   "id": "378f5cb0",
   "metadata": {},
   "outputs": [],
   "source": []
  }
 ],
 "metadata": {
  "kernelspec": {
   "display_name": "Python 3",
   "language": "python",
   "name": "python3"
  },
  "language_info": {
   "codemirror_mode": {
    "name": "ipython",
    "version": 3
   },
   "file_extension": ".py",
   "mimetype": "text/x-python",
   "name": "python",
   "nbconvert_exporter": "python",
   "pygments_lexer": "ipython3",
   "version": "3.8.8"
  },
  "latex_envs": {
   "LaTeX_envs_menu_present": true,
   "autoclose": false,
   "autocomplete": true,
   "bibliofile": "biblio.bib",
   "cite_by": "apalike",
   "current_citInitial": 1,
   "eqLabelWithNumbers": true,
   "eqNumInitial": 1,
   "hotkeys": {
    "equation": "Ctrl-E",
    "itemize": "Ctrl-I"
   },
   "labels_anchors": false,
   "latex_user_defs": false,
   "report_style_numbering": false,
   "user_envs_cfg": false
  }
 },
 "nbformat": 4,
 "nbformat_minor": 5
}
