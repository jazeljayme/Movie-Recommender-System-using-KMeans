{
 "cells": [
  {
   "cell_type": "code",
   "execution_count": 24,
   "id": "0f889cd1",
   "metadata": {
    "ExecuteTime": {
     "end_time": "2021-08-29T06:45:26.403850Z",
     "start_time": "2021-08-29T06:45:26.384869Z"
    }
   },
   "outputs": [],
   "source": [
    "import pandas as pd\n",
    "from bs4 import BeautifulSoup\n",
    "import requests\n",
    "from tqdm import tqdm"
   ]
  },
  {
   "cell_type": "code",
   "execution_count": 49,
   "id": "9ecce77f",
   "metadata": {
    "ExecuteTime": {
     "end_time": "2021-08-29T06:51:17.368881Z",
     "start_time": "2021-08-29T06:51:17.358910Z"
    }
   },
   "outputs": [],
   "source": [
    "url = \"https://www.imdb.com/list/ls006405458/\""
   ]
  },
  {
   "cell_type": "code",
   "execution_count": 50,
   "id": "804fa2c1",
   "metadata": {
    "ExecuteTime": {
     "end_time": "2021-08-29T06:51:17.986227Z",
     "start_time": "2021-08-29T06:51:17.965278Z"
    }
   },
   "outputs": [],
   "source": [
    "def all_page_link(start_url):\n",
    "    all_urls = []\n",
    "    url = start_url\n",
    "    while(url != None):            #Loop around all the required webpages and terminates when last page arive!\n",
    "        all_urls.append(url)\n",
    "        soup = BeautifulSoup(requests.get(url).text,\"html.parser\")\n",
    "        next_links = soup.find_all(class_='flat-button lister-page-next next-page')    #Extracts the next page link.\n",
    "        if (len(next_links) == 0):         # If their is no next page, it returns 0.\n",
    "            url = None\n",
    "        else:\n",
    "            next_page = \"https://www.imdb.com\" + next_links[0].get('href')\n",
    "            url = next_page\n",
    "    return all_urls"
   ]
  },
  {
   "cell_type": "code",
   "execution_count": 51,
   "id": "df2269c4",
   "metadata": {
    "ExecuteTime": {
     "end_time": "2021-08-29T06:51:18.727034Z",
     "start_time": "2021-08-29T06:51:18.711074Z"
    }
   },
   "outputs": [],
   "source": [
    "def director_and_actor(Director_and_star):\n",
    "    Director_and_star =  Director_and_star.replace(\"\\n\",\"\")\n",
    "    Director_and_star = Director_and_star.replace(\"|\",\"\")\n",
    "    Director_and_star = Director_and_star.split(\"Stars:\")\n",
    "    Director_and_star[0] = Director_and_star[0].replace(\"Director:\",\"\")\n",
    "    Director_and_star[0] = Director_and_star[0].replace(\"Directors:\",\"\")\n",
    "    for i in range(10):\n",
    "        Director_and_star[0]=Director_and_star[0].replace(\"  \",\" \")\n",
    "    director = Director_and_star[0][1:]\n",
    "    stars = Director_and_star[1]\n",
    "    stars = stars.replace(\":\",\"\")\n",
    "    return director,stars"
   ]
  },
  {
   "cell_type": "code",
   "execution_count": 52,
   "id": "e708af20",
   "metadata": {
    "ExecuteTime": {
     "end_time": "2021-08-29T06:51:19.482007Z",
     "start_time": "2021-08-29T06:51:19.462062Z"
    }
   },
   "outputs": [],
   "source": [
    "def votes_and_gross_conveter(votes_and_gross):\n",
    "    votes_and_gross_list = []\n",
    "    for i in votes_and_gross:\n",
    "        votes_and_gross_list.append(i.text)\n",
    "    if(len(votes_and_gross)==2):\n",
    "        votes=votes_and_gross_list[0]\n",
    "        gross = votes_and_gross_list[1]\n",
    "    else:\n",
    "        votes=votes_and_gross_list[0]\n",
    "        gross = None\n",
    "    \n",
    "    return votes,gross"
   ]
  },
  {
   "cell_type": "code",
   "execution_count": 53,
   "id": "f761f920",
   "metadata": {
    "ExecuteTime": {
     "end_time": "2021-08-29T06:51:26.627319Z",
     "start_time": "2021-08-29T06:51:20.289708Z"
    }
   },
   "outputs": [
    {
     "name": "stderr",
     "output_type": "stream",
     "text": [
      "  0%|                                                                                            | 0/1 [00:03<?, ?it/s]\n"
     ]
    },
    {
     "ename": "AttributeError",
     "evalue": "'NoneType' object has no attribute 'text'",
     "output_type": "error",
     "traceback": [
      "\u001b[1;31m---------------------------------------------------------------------------\u001b[0m",
      "\u001b[1;31mAttributeError\u001b[0m                            Traceback (most recent call last)",
      "\u001b[1;32m<ipython-input-53-825647bc06f8>\u001b[0m in \u001b[0;36m<module>\u001b[1;34m\u001b[0m\n\u001b[0;32m      8\u001b[0m         \u001b[0mrun_time\u001b[0m \u001b[1;33m=\u001b[0m \u001b[0mlink\u001b[0m\u001b[1;33m.\u001b[0m\u001b[0mfind\u001b[0m\u001b[1;33m(\u001b[0m\u001b[1;34m'span'\u001b[0m\u001b[1;33m,\u001b[0m\u001b[1;33m{\u001b[0m\u001b[1;34m\"class\"\u001b[0m\u001b[1;33m:\u001b[0m\u001b[1;34m\"runtime\"\u001b[0m\u001b[1;33m}\u001b[0m\u001b[1;33m)\u001b[0m\u001b[1;33m.\u001b[0m\u001b[0mtext\u001b[0m\u001b[1;33m\u001b[0m\u001b[1;33m\u001b[0m\u001b[0m\n\u001b[0;32m      9\u001b[0m         \u001b[0mgenre\u001b[0m \u001b[1;33m=\u001b[0m \u001b[0mlink\u001b[0m\u001b[1;33m.\u001b[0m\u001b[0mfind\u001b[0m\u001b[1;33m(\u001b[0m\u001b[1;34m'span'\u001b[0m\u001b[1;33m,\u001b[0m\u001b[1;33m{\u001b[0m\u001b[1;34m\"class\"\u001b[0m\u001b[1;33m:\u001b[0m\u001b[1;34m\"genre\"\u001b[0m\u001b[1;33m}\u001b[0m\u001b[1;33m)\u001b[0m\u001b[1;33m.\u001b[0m\u001b[0mtext\u001b[0m\u001b[1;33m[\u001b[0m\u001b[1;36m1\u001b[0m\u001b[1;33m:\u001b[0m\u001b[1;33m]\u001b[0m\u001b[1;33m\u001b[0m\u001b[1;33m\u001b[0m\u001b[0m\n\u001b[1;32m---> 10\u001b[1;33m         \u001b[0mrating\u001b[0m \u001b[1;33m=\u001b[0m \u001b[0mlink\u001b[0m\u001b[1;33m.\u001b[0m\u001b[0mfind\u001b[0m\u001b[1;33m(\u001b[0m\u001b[1;34m'span'\u001b[0m\u001b[1;33m,\u001b[0m\u001b[1;33m{\u001b[0m\u001b[1;34m\"class\"\u001b[0m\u001b[1;33m:\u001b[0m\u001b[1;34m\"ipl-rating-star__rating\"\u001b[0m\u001b[1;33m}\u001b[0m\u001b[1;33m)\u001b[0m\u001b[1;33m.\u001b[0m\u001b[0mtext\u001b[0m\u001b[1;33m\u001b[0m\u001b[1;33m\u001b[0m\u001b[0m\n\u001b[0m\u001b[0;32m     11\u001b[0m         \u001b[0mabout\u001b[0m \u001b[1;33m=\u001b[0m \u001b[0mlink\u001b[0m\u001b[1;33m.\u001b[0m\u001b[0mfind_all\u001b[0m\u001b[1;33m(\u001b[0m\u001b[1;34m'p'\u001b[0m\u001b[1;33m)\u001b[0m\u001b[1;33m[\u001b[0m\u001b[1;36m1\u001b[0m\u001b[1;33m]\u001b[0m\u001b[1;33m.\u001b[0m\u001b[0mtext\u001b[0m\u001b[1;33m[\u001b[0m\u001b[1;36m5\u001b[0m\u001b[1;33m:\u001b[0m\u001b[1;33m]\u001b[0m\u001b[1;33m\u001b[0m\u001b[1;33m\u001b[0m\u001b[0m\n\u001b[0;32m     12\u001b[0m         \u001b[0mdirector\u001b[0m\u001b[1;33m,\u001b[0m\u001b[0mactors\u001b[0m \u001b[1;33m=\u001b[0m \u001b[0mdirector_and_actor\u001b[0m\u001b[1;33m(\u001b[0m\u001b[0mlink\u001b[0m\u001b[1;33m.\u001b[0m\u001b[0mfind_all\u001b[0m\u001b[1;33m(\u001b[0m\u001b[1;34m'p'\u001b[0m\u001b[1;33m,\u001b[0m\u001b[1;33m{\u001b[0m\u001b[1;34m\"class\"\u001b[0m\u001b[1;33m:\u001b[0m\u001b[1;34m\"text-muted text-small\"\u001b[0m\u001b[1;33m}\u001b[0m\u001b[1;33m)\u001b[0m\u001b[1;33m[\u001b[0m\u001b[1;36m1\u001b[0m\u001b[1;33m]\u001b[0m\u001b[1;33m.\u001b[0m\u001b[0mtext\u001b[0m\u001b[1;33m)\u001b[0m\u001b[1;33m\u001b[0m\u001b[1;33m\u001b[0m\u001b[0m\n",
      "\u001b[1;31mAttributeError\u001b[0m: 'NoneType' object has no attribute 'text'"
     ]
    }
   ],
   "source": [
    "main_array = []\n",
    "for url in tqdm(all_page_link(url)):     #Runs the function for all the pages.\n",
    "    soup = BeautifulSoup(requests.get(url).text,\"html.parser\")         #Extracts out the main html code.\n",
    "    for link in soup.find_all(class_='lister-item-content'):\n",
    "        id = int(link.find('span',{\"class\":\"lister-item-index unbold text-primary\"}).text[:-1])\n",
    "        name = link.find('a').text\n",
    "        year = link.find('span',{\"class\":\"lister-item-year text-muted unbold\"}).text[1:5]\n",
    "        run_time = link.find('span',{\"class\":\"runtime\"}).text\n",
    "        genre = link.find('span',{\"class\":\"genre\"}).text[1:]\n",
    "        rating = link.find('span',{\"class\":\"ipl-rating-star__rating\"}).text\n",
    "        about = link.find_all('p')[1].text[5:]\n",
    "        director,actors = director_and_actor(link.find_all('p',{\"class\":\"text-muted text-small\"})[1].text)\n",
    "        votes, gross = votes_and_gross_conveter(link.find_all('span',{\"name\":\"nv\"}))\n",
    "        votes = int(votes.replace(\",\",\"\"))\n",
    "        list_of_all = [id,name,year,run_time,genre,rating,about,director,actors,votes,gross]\n",
    "        main_array.append(list_of_all)"
   ]
  },
  {
   "cell_type": "code",
   "execution_count": 54,
   "id": "fe33760a",
   "metadata": {
    "ExecuteTime": {
     "end_time": "2021-08-29T06:51:29.847668Z",
     "start_time": "2021-08-29T06:51:29.838688Z"
    }
   },
   "outputs": [],
   "source": [
    "index = [\"id\",\"name\",\"year\",\"run_time\",\"genre\",\"rating\",\"about\",\"director\",\"actors\",\"votes\",\"gross\"]"
   ]
  },
  {
   "cell_type": "code",
   "execution_count": 55,
   "id": "036bd3c9",
   "metadata": {
    "ExecuteTime": {
     "end_time": "2021-08-29T06:51:30.932733Z",
     "start_time": "2021-08-29T06:51:30.919766Z"
    }
   },
   "outputs": [],
   "source": [
    "df = pd.DataFrame(main_array,columns=index)"
   ]
  },
  {
   "cell_type": "code",
   "execution_count": 56,
   "id": "5337a2c1",
   "metadata": {
    "ExecuteTime": {
     "end_time": "2021-08-29T06:51:32.556950Z",
     "start_time": "2021-08-29T06:51:32.520047Z"
    }
   },
   "outputs": [
    {
     "data": {
      "text/html": [
       "<div>\n",
       "<style scoped>\n",
       "    .dataframe tbody tr th:only-of-type {\n",
       "        vertical-align: middle;\n",
       "    }\n",
       "\n",
       "    .dataframe tbody tr th {\n",
       "        vertical-align: top;\n",
       "    }\n",
       "\n",
       "    .dataframe thead th {\n",
       "        text-align: right;\n",
       "    }\n",
       "</style>\n",
       "<table border=\"1\" class=\"dataframe\">\n",
       "  <thead>\n",
       "    <tr style=\"text-align: right;\">\n",
       "      <th></th>\n",
       "      <th>id</th>\n",
       "      <th>name</th>\n",
       "      <th>year</th>\n",
       "      <th>run_time</th>\n",
       "      <th>genre</th>\n",
       "      <th>rating</th>\n",
       "      <th>about</th>\n",
       "      <th>director</th>\n",
       "      <th>actors</th>\n",
       "      <th>votes</th>\n",
       "      <th>gross</th>\n",
       "    </tr>\n",
       "  </thead>\n",
       "  <tbody>\n",
       "    <tr>\n",
       "      <th>0</th>\n",
       "      <td>1</td>\n",
       "      <td>Climax!</td>\n",
       "      <td>1954</td>\n",
       "      <td>52 min</td>\n",
       "      <td>Drama</td>\n",
       "      <td>5.7</td>\n",
       "      <td>ican spy James Bond must outsmart card wiz and...</td>\n",
       "      <td>William H. Brown Jr.</td>\n",
       "      <td>William Lundigan, Barry Nelson, Peter Lorre, L...</td>\n",
       "      <td>1184</td>\n",
       "      <td>None</td>\n",
       "    </tr>\n",
       "    <tr>\n",
       "      <th>1</th>\n",
       "      <td>2</td>\n",
       "      <td>Dr. No</td>\n",
       "      <td>1962</td>\n",
       "      <td>110 min</td>\n",
       "      <td>Action, Adventure, Thriller</td>\n",
       "      <td>7.2</td>\n",
       "      <td>sourceful British government agent seeks answe...</td>\n",
       "      <td>Terence Young</td>\n",
       "      <td>Sean Connery, Ursula Andress, Bernard Lee, Jos...</td>\n",
       "      <td>155242</td>\n",
       "      <td>$16.07M</td>\n",
       "    </tr>\n",
       "    <tr>\n",
       "      <th>2</th>\n",
       "      <td>3</td>\n",
       "      <td>From Russia with Love</td>\n",
       "      <td>1963</td>\n",
       "      <td>115 min</td>\n",
       "      <td>Action, Adventure, Thriller</td>\n",
       "      <td>7.4</td>\n",
       "      <td>s Bond willingly falls into an assassination p...</td>\n",
       "      <td>Terence Young</td>\n",
       "      <td>Sean Connery, Robert Shaw, Lotte Lenya, Daniel...</td>\n",
       "      <td>124843</td>\n",
       "      <td>$24.80M</td>\n",
       "    </tr>\n",
       "    <tr>\n",
       "      <th>3</th>\n",
       "      <td>4</td>\n",
       "      <td>Goldfinger</td>\n",
       "      <td>1964</td>\n",
       "      <td>110 min</td>\n",
       "      <td>Action, Adventure, Thriller</td>\n",
       "      <td>7.7</td>\n",
       "      <td>e investigating a gold magnate's smuggling, Ja...</td>\n",
       "      <td>Guy Hamilton</td>\n",
       "      <td>Sean Connery, Gert Fröbe, Honor Blackman, Shir...</td>\n",
       "      <td>179231</td>\n",
       "      <td>$51.08M</td>\n",
       "    </tr>\n",
       "    <tr>\n",
       "      <th>4</th>\n",
       "      <td>5</td>\n",
       "      <td>Thunderball</td>\n",
       "      <td>1965</td>\n",
       "      <td>130 min</td>\n",
       "      <td>Action, Adventure, Thriller</td>\n",
       "      <td>7</td>\n",
       "      <td>s Bond heads to the Bahamas to recover two nuc...</td>\n",
       "      <td>Terence Young</td>\n",
       "      <td>Sean Connery, Claudine Auger, Adolfo Celi, Luc...</td>\n",
       "      <td>110763</td>\n",
       "      <td>$63.60M</td>\n",
       "    </tr>\n",
       "  </tbody>\n",
       "</table>\n",
       "</div>"
      ],
      "text/plain": [
       "   id                   name  year run_time  \\\n",
       "0   1                Climax!  1954   52 min   \n",
       "1   2                 Dr. No  1962  110 min   \n",
       "2   3  From Russia with Love  1963  115 min   \n",
       "3   4             Goldfinger  1964  110 min   \n",
       "4   5            Thunderball  1965  130 min   \n",
       "\n",
       "                                     genre rating  \\\n",
       "0                        Drama                5.7   \n",
       "1  Action, Adventure, Thriller                7.2   \n",
       "2  Action, Adventure, Thriller                7.4   \n",
       "3  Action, Adventure, Thriller                7.7   \n",
       "4  Action, Adventure, Thriller                  7   \n",
       "\n",
       "                                               about               director  \\\n",
       "0  ican spy James Bond must outsmart card wiz and...  William H. Brown Jr.    \n",
       "1  sourceful British government agent seeks answe...         Terence Young    \n",
       "2  s Bond willingly falls into an assassination p...         Terence Young    \n",
       "3  e investigating a gold magnate's smuggling, Ja...          Guy Hamilton    \n",
       "4  s Bond heads to the Bahamas to recover two nuc...         Terence Young    \n",
       "\n",
       "                                              actors   votes    gross  \n",
       "0  William Lundigan, Barry Nelson, Peter Lorre, L...    1184     None  \n",
       "1  Sean Connery, Ursula Andress, Bernard Lee, Jos...  155242  $16.07M  \n",
       "2  Sean Connery, Robert Shaw, Lotte Lenya, Daniel...  124843  $24.80M  \n",
       "3  Sean Connery, Gert Fröbe, Honor Blackman, Shir...  179231  $51.08M  \n",
       "4  Sean Connery, Claudine Auger, Adolfo Celi, Luc...  110763  $63.60M  "
      ]
     },
     "execution_count": 56,
     "metadata": {},
     "output_type": "execute_result"
    }
   ],
   "source": [
    "df.head(5)"
   ]
  },
  {
   "cell_type": "code",
   "execution_count": 57,
   "id": "f8bc4b61",
   "metadata": {
    "ExecuteTime": {
     "end_time": "2021-08-29T06:51:40.386338Z",
     "start_time": "2021-08-29T06:51:40.356413Z"
    }
   },
   "outputs": [
    {
     "name": "stdout",
     "output_type": "stream",
     "text": [
      "<class 'pandas.core.frame.DataFrame'>\n",
      "RangeIndex: 27 entries, 0 to 26\n",
      "Data columns (total 11 columns):\n",
      " #   Column    Non-Null Count  Dtype \n",
      "---  ------    --------------  ----- \n",
      " 0   id        27 non-null     int64 \n",
      " 1   name      27 non-null     object\n",
      " 2   year      27 non-null     object\n",
      " 3   run_time  27 non-null     object\n",
      " 4   genre     27 non-null     object\n",
      " 5   rating    27 non-null     object\n",
      " 6   about     27 non-null     object\n",
      " 7   director  27 non-null     object\n",
      " 8   actors    27 non-null     object\n",
      " 9   votes     27 non-null     int64 \n",
      " 10  gross     25 non-null     object\n",
      "dtypes: int64(2), object(9)\n",
      "memory usage: 2.4+ KB\n"
     ]
    }
   ],
   "source": [
    "df.info()"
   ]
  },
  {
   "cell_type": "code",
   "execution_count": 58,
   "id": "52a58465",
   "metadata": {
    "ExecuteTime": {
     "end_time": "2021-08-29T06:51:41.255303Z",
     "start_time": "2021-08-29T06:51:41.231336Z"
    }
   },
   "outputs": [
    {
     "data": {
      "text/plain": [
       "0     ican spy James Bond must outsmart card wiz and...\n",
       "1     sourceful British government agent seeks answe...\n",
       "2     s Bond willingly falls into an assassination p...\n",
       "3     e investigating a gold magnate's smuggling, Ja...\n",
       "4     s Bond heads to the Bahamas to recover two nuc...\n",
       "5     et Agent James Bond and the Japanese Secret Se...\n",
       "6     n early spy spoof, aging Sir James Bond comes ...\n",
       "7     s Bond woos a mob boss' daughter and goes unde...\n",
       "8     amond smuggling investigation leads James Bond...\n",
       "9     s Bond is sent to stop a diabolically brillian...\n",
       "10    s Bond is targeted by the world's most expensi...\n",
       "11    s Bond investigates the hijacking of British a...\n",
       "12    s Bond investigates the mid-air theft of a spa...\n",
       "13    s Bond is assigned to find a missing British v...\n",
       "14    ke Fabergé egg, and a fellow Agent's death, le...\n",
       "15    P.E.C.T.R.E. Agent has stolen two American nuc...\n",
       "16    recovery of a microchip off the body of a fell...\n",
       "17    s Bond is sent to investigate a KGB policy to ...\n",
       "18    r capturing a drug lord, Felix Leiter is left ...\n",
       "19    s after a friend and fellow 00 agent is killed...\n",
       "20    s Bond sets out to stop a media mogul's plan t...\n",
       "21    s Bond uncovers a nuclear plot while protectin...\n",
       "22    s Bond is sent to investigate the connection b...\n",
       "23    r earning 00 status and a licence to kill, Sec...\n",
       "24    s Bond descends into mystery as he tries to st...\n",
       "25    s Bond's loyalty to M is tested when her past ...\n",
       "26    yptic message from James Bond's past sends him...\n",
       "Name: about, dtype: object"
      ]
     },
     "execution_count": 58,
     "metadata": {},
     "output_type": "execute_result"
    }
   ],
   "source": [
    "df['about']"
   ]
  },
  {
   "cell_type": "code",
   "execution_count": 59,
   "id": "20afd7a1",
   "metadata": {
    "ExecuteTime": {
     "end_time": "2021-08-29T06:52:09.021298Z",
     "start_time": "2021-08-29T06:52:08.987388Z"
    }
   },
   "outputs": [
    {
     "data": {
      "text/html": [
       "<div>\n",
       "<style scoped>\n",
       "    .dataframe tbody tr th:only-of-type {\n",
       "        vertical-align: middle;\n",
       "    }\n",
       "\n",
       "    .dataframe tbody tr th {\n",
       "        vertical-align: top;\n",
       "    }\n",
       "\n",
       "    .dataframe thead th {\n",
       "        text-align: right;\n",
       "    }\n",
       "</style>\n",
       "<table border=\"1\" class=\"dataframe\">\n",
       "  <thead>\n",
       "    <tr style=\"text-align: right;\">\n",
       "      <th></th>\n",
       "      <th>id</th>\n",
       "      <th>name</th>\n",
       "      <th>year</th>\n",
       "      <th>run_time</th>\n",
       "      <th>genre</th>\n",
       "      <th>rating</th>\n",
       "      <th>about</th>\n",
       "      <th>director</th>\n",
       "      <th>actors</th>\n",
       "      <th>votes</th>\n",
       "      <th>gross</th>\n",
       "    </tr>\n",
       "  </thead>\n",
       "  <tbody>\n",
       "    <tr>\n",
       "      <th>0</th>\n",
       "      <td>1</td>\n",
       "      <td>Climax!</td>\n",
       "      <td>1954</td>\n",
       "      <td>52 min</td>\n",
       "      <td>Drama</td>\n",
       "      <td>5.7</td>\n",
       "      <td>ican spy James Bond must outsmart card wiz and...</td>\n",
       "      <td>William H. Brown Jr.</td>\n",
       "      <td>William Lundigan, Barry Nelson, Peter Lorre, L...</td>\n",
       "      <td>1184</td>\n",
       "      <td>None</td>\n",
       "    </tr>\n",
       "    <tr>\n",
       "      <th>1</th>\n",
       "      <td>2</td>\n",
       "      <td>Dr. No</td>\n",
       "      <td>1962</td>\n",
       "      <td>110 min</td>\n",
       "      <td>Action, Adventure, Thriller</td>\n",
       "      <td>7.2</td>\n",
       "      <td>sourceful British government agent seeks answe...</td>\n",
       "      <td>Terence Young</td>\n",
       "      <td>Sean Connery, Ursula Andress, Bernard Lee, Jos...</td>\n",
       "      <td>155242</td>\n",
       "      <td>$16.07M</td>\n",
       "    </tr>\n",
       "    <tr>\n",
       "      <th>2</th>\n",
       "      <td>3</td>\n",
       "      <td>From Russia with Love</td>\n",
       "      <td>1963</td>\n",
       "      <td>115 min</td>\n",
       "      <td>Action, Adventure, Thriller</td>\n",
       "      <td>7.4</td>\n",
       "      <td>s Bond willingly falls into an assassination p...</td>\n",
       "      <td>Terence Young</td>\n",
       "      <td>Sean Connery, Robert Shaw, Lotte Lenya, Daniel...</td>\n",
       "      <td>124843</td>\n",
       "      <td>$24.80M</td>\n",
       "    </tr>\n",
       "    <tr>\n",
       "      <th>3</th>\n",
       "      <td>4</td>\n",
       "      <td>Goldfinger</td>\n",
       "      <td>1964</td>\n",
       "      <td>110 min</td>\n",
       "      <td>Action, Adventure, Thriller</td>\n",
       "      <td>7.7</td>\n",
       "      <td>e investigating a gold magnate's smuggling, Ja...</td>\n",
       "      <td>Guy Hamilton</td>\n",
       "      <td>Sean Connery, Gert Fröbe, Honor Blackman, Shir...</td>\n",
       "      <td>179231</td>\n",
       "      <td>$51.08M</td>\n",
       "    </tr>\n",
       "    <tr>\n",
       "      <th>4</th>\n",
       "      <td>5</td>\n",
       "      <td>Thunderball</td>\n",
       "      <td>1965</td>\n",
       "      <td>130 min</td>\n",
       "      <td>Action, Adventure, Thriller</td>\n",
       "      <td>7</td>\n",
       "      <td>s Bond heads to the Bahamas to recover two nuc...</td>\n",
       "      <td>Terence Young</td>\n",
       "      <td>Sean Connery, Claudine Auger, Adolfo Celi, Luc...</td>\n",
       "      <td>110763</td>\n",
       "      <td>$63.60M</td>\n",
       "    </tr>\n",
       "  </tbody>\n",
       "</table>\n",
       "</div>"
      ],
      "text/plain": [
       "   id                   name  year run_time  \\\n",
       "0   1                Climax!  1954   52 min   \n",
       "1   2                 Dr. No  1962  110 min   \n",
       "2   3  From Russia with Love  1963  115 min   \n",
       "3   4             Goldfinger  1964  110 min   \n",
       "4   5            Thunderball  1965  130 min   \n",
       "\n",
       "                                     genre rating  \\\n",
       "0                        Drama                5.7   \n",
       "1  Action, Adventure, Thriller                7.2   \n",
       "2  Action, Adventure, Thriller                7.4   \n",
       "3  Action, Adventure, Thriller                7.7   \n",
       "4  Action, Adventure, Thriller                  7   \n",
       "\n",
       "                                               about               director  \\\n",
       "0  ican spy James Bond must outsmart card wiz and...  William H. Brown Jr.    \n",
       "1  sourceful British government agent seeks answe...         Terence Young    \n",
       "2  s Bond willingly falls into an assassination p...         Terence Young    \n",
       "3  e investigating a gold magnate's smuggling, Ja...          Guy Hamilton    \n",
       "4  s Bond heads to the Bahamas to recover two nuc...         Terence Young    \n",
       "\n",
       "                                              actors   votes    gross  \n",
       "0  William Lundigan, Barry Nelson, Peter Lorre, L...    1184     None  \n",
       "1  Sean Connery, Ursula Andress, Bernard Lee, Jos...  155242  $16.07M  \n",
       "2  Sean Connery, Robert Shaw, Lotte Lenya, Daniel...  124843  $24.80M  \n",
       "3  Sean Connery, Gert Fröbe, Honor Blackman, Shir...  179231  $51.08M  \n",
       "4  Sean Connery, Claudine Auger, Adolfo Celi, Luc...  110763  $63.60M  "
      ]
     },
     "execution_count": 59,
     "metadata": {},
     "output_type": "execute_result"
    }
   ],
   "source": [
    "df.head()"
   ]
  },
  {
   "cell_type": "code",
   "execution_count": 60,
   "id": "b122b25c",
   "metadata": {
    "ExecuteTime": {
     "end_time": "2021-08-29T06:52:25.551282Z",
     "start_time": "2021-08-29T06:52:25.535325Z"
    }
   },
   "outputs": [],
   "source": [
    "df.to_csv('fifth_27_jb.csv')"
   ]
  },
  {
   "cell_type": "code",
   "execution_count": null,
   "id": "378f5cb0",
   "metadata": {},
   "outputs": [],
   "source": []
  }
 ],
 "metadata": {
  "kernelspec": {
   "display_name": "Python 3",
   "language": "python",
   "name": "python3"
  },
  "language_info": {
   "codemirror_mode": {
    "name": "ipython",
    "version": 3
   },
   "file_extension": ".py",
   "mimetype": "text/x-python",
   "name": "python",
   "nbconvert_exporter": "python",
   "pygments_lexer": "ipython3",
   "version": "3.8.8"
  },
  "latex_envs": {
   "LaTeX_envs_menu_present": true,
   "autoclose": false,
   "autocomplete": true,
   "bibliofile": "biblio.bib",
   "cite_by": "apalike",
   "current_citInitial": 1,
   "eqLabelWithNumbers": true,
   "eqNumInitial": 1,
   "hotkeys": {
    "equation": "Ctrl-E",
    "itemize": "Ctrl-I"
   },
   "labels_anchors": false,
   "latex_user_defs": false,
   "report_style_numbering": false,
   "user_envs_cfg": false
  }
 },
 "nbformat": 4,
 "nbformat_minor": 5
}
