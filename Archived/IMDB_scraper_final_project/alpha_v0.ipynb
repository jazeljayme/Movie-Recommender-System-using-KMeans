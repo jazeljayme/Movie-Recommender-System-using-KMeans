{
 "cells": [
  {
   "cell_type": "code",
   "execution_count": 1,
   "id": "dba94385",
   "metadata": {
    "ExecuteTime": {
     "end_time": "2021-08-29T06:10:15.028957Z",
     "start_time": "2021-08-29T06:10:13.917045Z"
    }
   },
   "outputs": [],
   "source": [
    "import pandas as pd\n",
    "from bs4 import BeautifulSoup\n",
    "import requests\n",
    "from tqdm import tqdm"
   ]
  },
  {
   "cell_type": "code",
   "execution_count": 2,
   "id": "50f259b6",
   "metadata": {
    "ExecuteTime": {
     "end_time": "2021-08-29T06:10:27.705074Z",
     "start_time": "2021-08-29T06:10:27.689119Z"
    }
   },
   "outputs": [],
   "source": [
    "url = \"https://www.imdb.com/list/ls068082370/\""
   ]
  },
  {
   "cell_type": "code",
   "execution_count": 3,
   "id": "c32354f5",
   "metadata": {
    "ExecuteTime": {
     "end_time": "2021-08-29T06:10:38.501015Z",
     "start_time": "2021-08-29T06:10:38.493037Z"
    }
   },
   "outputs": [],
   "source": [
    "def all_page_link(start_url):\n",
    "    all_urls = []\n",
    "    url = start_url\n",
    "    while(url != None):            #Loop around all the required webpages and terminates when last page arive!\n",
    "        all_urls.append(url)\n",
    "        soup = BeautifulSoup(requests.get(url).text,\"html.parser\")\n",
    "        next_links = soup.find_all(class_='flat-button lister-page-next next-page')    #Extracts the next page link.\n",
    "        if (len(next_links) == 0):         # If their is no next page, it returns 0.\n",
    "            url = None\n",
    "        else:\n",
    "            next_page = \"https://www.imdb.com\" + next_links[0].get('href')\n",
    "            url = next_page\n",
    "    return all_urls"
   ]
  },
  {
   "cell_type": "code",
   "execution_count": 4,
   "id": "f96124bb",
   "metadata": {
    "ExecuteTime": {
     "end_time": "2021-08-29T06:10:47.191578Z",
     "start_time": "2021-08-29T06:10:47.175619Z"
    }
   },
   "outputs": [],
   "source": [
    "def director_and_actor(Director_and_star):\n",
    "    Director_and_star =  Director_and_star.replace(\"\\n\",\"\")\n",
    "    Director_and_star = Director_and_star.replace(\"|\",\"\")\n",
    "    Director_and_star = Director_and_star.split(\"Stars:\")\n",
    "    Director_and_star[0] = Director_and_star[0].replace(\"Director:\",\"\")\n",
    "    Director_and_star[0] = Director_and_star[0].replace(\"Directors:\",\"\")\n",
    "    for i in range(10):\n",
    "        Director_and_star[0]=Director_and_star[0].replace(\"  \",\" \")\n",
    "    director = Director_and_star[0][1:]\n",
    "    stars = Director_and_star[1]\n",
    "    stars = stars.replace(\":\",\"\")\n",
    "    return director,stars"
   ]
  },
  {
   "cell_type": "code",
   "execution_count": 5,
   "id": "9c68f9c8",
   "metadata": {
    "ExecuteTime": {
     "end_time": "2021-08-29T06:10:55.937536Z",
     "start_time": "2021-08-29T06:10:55.915557Z"
    }
   },
   "outputs": [],
   "source": [
    "def votes_and_gross_conveter(votes_and_gross):\n",
    "    votes_and_gross_list = []\n",
    "    for i in votes_and_gross:\n",
    "        votes_and_gross_list.append(i.text)\n",
    "    if(len(votes_and_gross)==2):\n",
    "        votes=votes_and_gross_list[0]\n",
    "        gross = votes_and_gross_list[1]\n",
    "    else:\n",
    "        votes=votes_and_gross_list[0]\n",
    "        gross = None\n",
    "    \n",
    "    return votes,gross"
   ]
  },
  {
   "cell_type": "code",
   "execution_count": 6,
   "id": "385361e8",
   "metadata": {
    "ExecuteTime": {
     "end_time": "2021-08-29T06:11:55.799909Z",
     "start_time": "2021-08-29T06:11:11.501476Z"
    }
   },
   "outputs": [
    {
     "name": "stderr",
     "output_type": "stream",
     "text": [
      "100%|████████████████████████████████████████████████████████████████████████████████████| 3/3 [00:21<00:00,  7.29s/it]\n"
     ]
    }
   ],
   "source": [
    "main_array = []\n",
    "for url in tqdm(all_page_link(\"https://www.imdb.com/list/ls068082370/\")):     #Runs the function for all the pages.\n",
    "    soup = BeautifulSoup(requests.get(url).text,\"html.parser\")         #Extracts out the main html code.\n",
    "    for link in soup.find_all(class_='lister-item-content'):\n",
    "        id = int(link.find('span',{\"class\":\"lister-item-index unbold text-primary\"}).text[:-1])\n",
    "        name = link.find('a').text\n",
    "        year = link.find('span',{\"class\":\"lister-item-year text-muted unbold\"}).text[1:5]\n",
    "        run_time = link.find('span',{\"class\":\"runtime\"}).text\n",
    "        genre = link.find('span',{\"class\":\"genre\"}).text[1:]\n",
    "        rating = link.find('span',{\"class\":\"ipl-rating-star__rating\"}).text\n",
    "        about = link.find_all('p')[1].text[5:]\n",
    "        director,actors = director_and_actor(link.find_all('p',{\"class\":\"text-muted text-small\"})[1].text)\n",
    "        votes, gross = votes_and_gross_conveter(link.find_all('span',{\"name\":\"nv\"}))\n",
    "        votes = int(votes.replace(\",\",\"\"))\n",
    "        list_of_all = [id,name,year,run_time,genre,rating,about,director,actors,votes,gross]\n",
    "        main_array.append(list_of_all)"
   ]
  },
  {
   "cell_type": "code",
   "execution_count": 7,
   "id": "32f6ac84",
   "metadata": {
    "ExecuteTime": {
     "end_time": "2021-08-29T06:12:06.086470Z",
     "start_time": "2021-08-29T06:12:06.080486Z"
    }
   },
   "outputs": [],
   "source": [
    "index = [\"id\",\"name\",\"year\",\"run_time\",\"genre\",\"rating\",\"about\",\"director\",\"actors\",\"votes\",\"gross\"]"
   ]
  },
  {
   "cell_type": "code",
   "execution_count": 8,
   "id": "3b7051a4",
   "metadata": {
    "ExecuteTime": {
     "end_time": "2021-08-29T06:12:19.739659Z",
     "start_time": "2021-08-29T06:12:19.708740Z"
    }
   },
   "outputs": [],
   "source": [
    "df = pd.DataFrame(main_array,columns=index)"
   ]
  },
  {
   "cell_type": "code",
   "execution_count": 9,
   "id": "695bad75",
   "metadata": {
    "ExecuteTime": {
     "end_time": "2021-08-29T06:12:27.773139Z",
     "start_time": "2021-08-29T06:12:27.721277Z"
    }
   },
   "outputs": [
    {
     "data": {
      "text/html": [
       "<div>\n",
       "<style scoped>\n",
       "    .dataframe tbody tr th:only-of-type {\n",
       "        vertical-align: middle;\n",
       "    }\n",
       "\n",
       "    .dataframe tbody tr th {\n",
       "        vertical-align: top;\n",
       "    }\n",
       "\n",
       "    .dataframe thead th {\n",
       "        text-align: right;\n",
       "    }\n",
       "</style>\n",
       "<table border=\"1\" class=\"dataframe\">\n",
       "  <thead>\n",
       "    <tr style=\"text-align: right;\">\n",
       "      <th></th>\n",
       "      <th>id</th>\n",
       "      <th>name</th>\n",
       "      <th>year</th>\n",
       "      <th>run_time</th>\n",
       "      <th>genre</th>\n",
       "      <th>rating</th>\n",
       "      <th>about</th>\n",
       "      <th>director</th>\n",
       "      <th>actors</th>\n",
       "      <th>votes</th>\n",
       "      <th>gross</th>\n",
       "    </tr>\n",
       "  </thead>\n",
       "  <tbody>\n",
       "    <tr>\n",
       "      <th>0</th>\n",
       "      <td>1</td>\n",
       "      <td>The Shawshank Redemption</td>\n",
       "      <td>1994</td>\n",
       "      <td>142 min</td>\n",
       "      <td>Drama</td>\n",
       "      <td>9.3</td>\n",
       "      <td>imprisoned men bond over a number of years, fi...</td>\n",
       "      <td>Frank Darabont</td>\n",
       "      <td>Tim Robbins, Morgan Freeman, Bob Gunton, Willi...</td>\n",
       "      <td>2451775</td>\n",
       "      <td>$28.34M</td>\n",
       "    </tr>\n",
       "    <tr>\n",
       "      <th>1</th>\n",
       "      <td>2</td>\n",
       "      <td>The Godfather</td>\n",
       "      <td>1972</td>\n",
       "      <td>175 min</td>\n",
       "      <td>Crime, Drama</td>\n",
       "      <td>9.2</td>\n",
       "      <td>rganized crime dynasty's aging patriarch trans...</td>\n",
       "      <td>Francis Ford Coppola</td>\n",
       "      <td>Marlon Brando, Al Pacino, James Caan, Diane Ke...</td>\n",
       "      <td>1696937</td>\n",
       "      <td>$134.97M</td>\n",
       "    </tr>\n",
       "    <tr>\n",
       "      <th>2</th>\n",
       "      <td>3</td>\n",
       "      <td>The Dark Knight</td>\n",
       "      <td>2008</td>\n",
       "      <td>152 min</td>\n",
       "      <td>Action, Crime, Drama</td>\n",
       "      <td>9</td>\n",
       "      <td>the menace known as the Joker wreaks havoc an...</td>\n",
       "      <td>Christopher Nolan</td>\n",
       "      <td>Christian Bale, Heath Ledger, Aaron Eckhart, M...</td>\n",
       "      <td>2407467</td>\n",
       "      <td>$534.86M</td>\n",
       "    </tr>\n",
       "    <tr>\n",
       "      <th>3</th>\n",
       "      <td>4</td>\n",
       "      <td>The Godfather: Part II</td>\n",
       "      <td>1974</td>\n",
       "      <td>202 min</td>\n",
       "      <td>Crime, Drama</td>\n",
       "      <td>9</td>\n",
       "      <td>early life and career of Vito Corleone in 1920...</td>\n",
       "      <td>Francis Ford Coppola</td>\n",
       "      <td>Al Pacino, Robert De Niro, Robert Duvall, Dian...</td>\n",
       "      <td>1178645</td>\n",
       "      <td>$57.30M</td>\n",
       "    </tr>\n",
       "    <tr>\n",
       "      <th>4</th>\n",
       "      <td>5</td>\n",
       "      <td>Pulp Fiction</td>\n",
       "      <td>1994</td>\n",
       "      <td>154 min</td>\n",
       "      <td>Crime, Drama</td>\n",
       "      <td>8.9</td>\n",
       "      <td>lives of two mob hitmen, a boxer, a gangster a...</td>\n",
       "      <td>Quentin Tarantino</td>\n",
       "      <td>John Travolta, Uma Thurman, Samuel L. Jackson,...</td>\n",
       "      <td>1900380</td>\n",
       "      <td>$107.93M</td>\n",
       "    </tr>\n",
       "  </tbody>\n",
       "</table>\n",
       "</div>"
      ],
      "text/plain": [
       "   id                      name  year run_time  \\\n",
       "0   1  The Shawshank Redemption  1994  142 min   \n",
       "1   2             The Godfather  1972  175 min   \n",
       "2   3           The Dark Knight  2008  152 min   \n",
       "3   4    The Godfather: Part II  1974  202 min   \n",
       "4   5              Pulp Fiction  1994  154 min   \n",
       "\n",
       "                              genre rating  \\\n",
       "0                 Drama                9.3   \n",
       "1          Crime, Drama                9.2   \n",
       "2  Action, Crime, Drama                  9   \n",
       "3          Crime, Drama                  9   \n",
       "4          Crime, Drama                8.9   \n",
       "\n",
       "                                               about               director  \\\n",
       "0  imprisoned men bond over a number of years, fi...        Frank Darabont    \n",
       "1  rganized crime dynasty's aging patriarch trans...  Francis Ford Coppola    \n",
       "2   the menace known as the Joker wreaks havoc an...     Christopher Nolan    \n",
       "3  early life and career of Vito Corleone in 1920...  Francis Ford Coppola    \n",
       "4  lives of two mob hitmen, a boxer, a gangster a...     Quentin Tarantino    \n",
       "\n",
       "                                              actors    votes     gross  \n",
       "0  Tim Robbins, Morgan Freeman, Bob Gunton, Willi...  2451775   $28.34M  \n",
       "1  Marlon Brando, Al Pacino, James Caan, Diane Ke...  1696937  $134.97M  \n",
       "2  Christian Bale, Heath Ledger, Aaron Eckhart, M...  2407467  $534.86M  \n",
       "3  Al Pacino, Robert De Niro, Robert Duvall, Dian...  1178645   $57.30M  \n",
       "4  John Travolta, Uma Thurman, Samuel L. Jackson,...  1900380  $107.93M  "
      ]
     },
     "execution_count": 9,
     "metadata": {},
     "output_type": "execute_result"
    }
   ],
   "source": [
    "df.head(5)"
   ]
  },
  {
   "cell_type": "code",
   "execution_count": 10,
   "id": "8ce08e15",
   "metadata": {
    "ExecuteTime": {
     "end_time": "2021-08-29T06:12:40.029995Z",
     "start_time": "2021-08-29T06:12:40.004065Z"
    }
   },
   "outputs": [
    {
     "name": "stdout",
     "output_type": "stream",
     "text": [
      "<class 'pandas.core.frame.DataFrame'>\n",
      "RangeIndex: 250 entries, 0 to 249\n",
      "Data columns (total 11 columns):\n",
      " #   Column    Non-Null Count  Dtype \n",
      "---  ------    --------------  ----- \n",
      " 0   id        250 non-null    int64 \n",
      " 1   name      250 non-null    object\n",
      " 2   year      250 non-null    object\n",
      " 3   run_time  250 non-null    object\n",
      " 4   genre     250 non-null    object\n",
      " 5   rating    250 non-null    object\n",
      " 6   about     250 non-null    object\n",
      " 7   director  250 non-null    object\n",
      " 8   actors    250 non-null    object\n",
      " 9   votes     250 non-null    int64 \n",
      " 10  gross     224 non-null    object\n",
      "dtypes: int64(2), object(9)\n",
      "memory usage: 21.6+ KB\n"
     ]
    }
   ],
   "source": [
    "df.info()"
   ]
  },
  {
   "cell_type": "code",
   "execution_count": 11,
   "id": "18fd7c9f",
   "metadata": {
    "ExecuteTime": {
     "end_time": "2021-08-29T06:13:38.796136Z",
     "start_time": "2021-08-29T06:13:38.781208Z"
    }
   },
   "outputs": [
    {
     "data": {
      "text/plain": [
       "0      imprisoned men bond over a number of years, fi...\n",
       "1      rganized crime dynasty's aging patriarch trans...\n",
       "2       the menace known as the Joker wreaks havoc an...\n",
       "3      early life and career of Vito Corleone in 1920...\n",
       "4      lives of two mob hitmen, a boxer, a gangster a...\n",
       "                             ...                        \n",
       "245    ior and pacifist Princess Nausicaä desperately...\n",
       "246    ivate detective takes on a case that involves ...\n",
       "247    rse is put in charge of a mute actress and fin...\n",
       "248    or Midwest family is forced off their land. Th...\n",
       "249     a killer shark unleashes chaos on a beach com...\n",
       "Name: about, Length: 250, dtype: object"
      ]
     },
     "execution_count": 11,
     "metadata": {},
     "output_type": "execute_result"
    }
   ],
   "source": [
    "df['about']"
   ]
  },
  {
   "cell_type": "code",
   "execution_count": 12,
   "id": "a74af4e3",
   "metadata": {
    "ExecuteTime": {
     "end_time": "2021-08-29T06:41:03.017225Z",
     "start_time": "2021-08-29T06:41:02.989305Z"
    }
   },
   "outputs": [],
   "source": [
    "df.to_csv('first_250.csv')"
   ]
  },
  {
   "cell_type": "code",
   "execution_count": null,
   "id": "9f060f9a",
   "metadata": {},
   "outputs": [],
   "source": []
  }
 ],
 "metadata": {
  "kernelspec": {
   "display_name": "Python 3",
   "language": "python",
   "name": "python3"
  },
  "language_info": {
   "codemirror_mode": {
    "name": "ipython",
    "version": 3
   },
   "file_extension": ".py",
   "mimetype": "text/x-python",
   "name": "python",
   "nbconvert_exporter": "python",
   "pygments_lexer": "ipython3",
   "version": "3.8.8"
  },
  "latex_envs": {
   "LaTeX_envs_menu_present": true,
   "autoclose": false,
   "autocomplete": true,
   "bibliofile": "biblio.bib",
   "cite_by": "apalike",
   "current_citInitial": 1,
   "eqLabelWithNumbers": true,
   "eqNumInitial": 1,
   "hotkeys": {
    "equation": "Ctrl-E",
    "itemize": "Ctrl-I"
   },
   "labels_anchors": false,
   "latex_user_defs": false,
   "report_style_numbering": false,
   "user_envs_cfg": false
  }
 },
 "nbformat": 4,
 "nbformat_minor": 5
}
