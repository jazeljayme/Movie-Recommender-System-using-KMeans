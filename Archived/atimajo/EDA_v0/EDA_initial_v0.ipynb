{
 "cells": [
  {
   "cell_type": "code",
   "execution_count": 1,
   "id": "aeb649cc",
   "metadata": {
    "ExecuteTime": {
     "end_time": "2021-09-05T10:34:10.095981Z",
     "start_time": "2021-09-05T10:34:08.507400Z"
    }
   },
   "outputs": [],
   "source": [
    "import pandas as pd\n",
    "import numpy as np\n",
    "import matplotlib.pyplot as plt\n",
    "import seaborn as sns"
   ]
  },
  {
   "cell_type": "markdown",
   "id": "cd9c59aa",
   "metadata": {},
   "source": [
    "# Initial Exploration and Cleaning"
   ]
  },
  {
   "cell_type": "code",
   "execution_count": 2,
   "id": "69de76eb",
   "metadata": {
    "ExecuteTime": {
     "end_time": "2021-09-05T10:34:10.157847Z",
     "start_time": "2021-09-05T10:34:10.099302Z"
    }
   },
   "outputs": [
    {
     "data": {
      "text/html": [
       "<div>\n",
       "<style scoped>\n",
       "    .dataframe tbody tr th:only-of-type {\n",
       "        vertical-align: middle;\n",
       "    }\n",
       "\n",
       "    .dataframe tbody tr th {\n",
       "        vertical-align: top;\n",
       "    }\n",
       "\n",
       "    .dataframe thead th {\n",
       "        text-align: right;\n",
       "    }\n",
       "</style>\n",
       "<table border=\"1\" class=\"dataframe\">\n",
       "  <thead>\n",
       "    <tr style=\"text-align: right;\">\n",
       "      <th></th>\n",
       "      <th>Unnamed: 0</th>\n",
       "      <th>Unnamed: 0.1</th>\n",
       "      <th>id</th>\n",
       "      <th>name</th>\n",
       "      <th>year</th>\n",
       "      <th>run_time</th>\n",
       "      <th>genre</th>\n",
       "      <th>rating</th>\n",
       "      <th>about</th>\n",
       "      <th>director</th>\n",
       "      <th>actors</th>\n",
       "      <th>votes</th>\n",
       "      <th>gross</th>\n",
       "    </tr>\n",
       "  </thead>\n",
       "  <tbody>\n",
       "    <tr>\n",
       "      <th>0</th>\n",
       "      <td>0</td>\n",
       "      <td>0</td>\n",
       "      <td>1</td>\n",
       "      <td>The Shawshank Redemption</td>\n",
       "      <td>1994</td>\n",
       "      <td>142 min</td>\n",
       "      <td>Drama</td>\n",
       "      <td>9.3</td>\n",
       "      <td>imprisoned men bond over a number of years, fi...</td>\n",
       "      <td>Frank Darabont</td>\n",
       "      <td>Tim Robbins, Morgan Freeman, Bob Gunton, Willi...</td>\n",
       "      <td>2451775</td>\n",
       "      <td>$28.34M</td>\n",
       "    </tr>\n",
       "    <tr>\n",
       "      <th>1</th>\n",
       "      <td>1</td>\n",
       "      <td>1</td>\n",
       "      <td>2</td>\n",
       "      <td>The Godfather</td>\n",
       "      <td>1972</td>\n",
       "      <td>175 min</td>\n",
       "      <td>Crime, Drama</td>\n",
       "      <td>9.2</td>\n",
       "      <td>rganized crime dynasty's aging patriarch trans...</td>\n",
       "      <td>Francis Ford Coppola</td>\n",
       "      <td>Marlon Brando, Al Pacino, James Caan, Diane Ke...</td>\n",
       "      <td>1696937</td>\n",
       "      <td>$134.97M</td>\n",
       "    </tr>\n",
       "    <tr>\n",
       "      <th>2</th>\n",
       "      <td>2</td>\n",
       "      <td>2</td>\n",
       "      <td>3</td>\n",
       "      <td>The Dark Knight</td>\n",
       "      <td>2008</td>\n",
       "      <td>152 min</td>\n",
       "      <td>Action, Crime, Drama</td>\n",
       "      <td>9.0</td>\n",
       "      <td>the menace known as the Joker wreaks havoc an...</td>\n",
       "      <td>Christopher Nolan</td>\n",
       "      <td>Christian Bale, Heath Ledger, Aaron Eckhart, M...</td>\n",
       "      <td>2407467</td>\n",
       "      <td>$534.86M</td>\n",
       "    </tr>\n",
       "    <tr>\n",
       "      <th>3</th>\n",
       "      <td>3</td>\n",
       "      <td>3</td>\n",
       "      <td>4</td>\n",
       "      <td>The Godfather: Part II</td>\n",
       "      <td>1974</td>\n",
       "      <td>202 min</td>\n",
       "      <td>Crime, Drama</td>\n",
       "      <td>9.0</td>\n",
       "      <td>early life and career of Vito Corleone in 1920...</td>\n",
       "      <td>Francis Ford Coppola</td>\n",
       "      <td>Al Pacino, Robert De Niro, Robert Duvall, Dian...</td>\n",
       "      <td>1178645</td>\n",
       "      <td>$57.30M</td>\n",
       "    </tr>\n",
       "    <tr>\n",
       "      <th>4</th>\n",
       "      <td>4</td>\n",
       "      <td>4</td>\n",
       "      <td>5</td>\n",
       "      <td>Pulp Fiction</td>\n",
       "      <td>1994</td>\n",
       "      <td>154 min</td>\n",
       "      <td>Crime, Drama</td>\n",
       "      <td>8.9</td>\n",
       "      <td>lives of two mob hitmen, a boxer, a gangster a...</td>\n",
       "      <td>Quentin Tarantino</td>\n",
       "      <td>John Travolta, Uma Thurman, Samuel L. Jackson,...</td>\n",
       "      <td>1900380</td>\n",
       "      <td>$107.93M</td>\n",
       "    </tr>\n",
       "  </tbody>\n",
       "</table>\n",
       "</div>"
      ],
      "text/plain": [
       "   Unnamed: 0  Unnamed: 0.1  id                      name  year run_time  \\\n",
       "0           0             0   1  The Shawshank Redemption  1994  142 min   \n",
       "1           1             1   2             The Godfather  1972  175 min   \n",
       "2           2             2   3           The Dark Knight  2008  152 min   \n",
       "3           3             3   4    The Godfather: Part II  1974  202 min   \n",
       "4           4             4   5              Pulp Fiction  1994  154 min   \n",
       "\n",
       "                              genre  rating  \\\n",
       "0                 Drama                 9.3   \n",
       "1          Crime, Drama                 9.2   \n",
       "2  Action, Crime, Drama                 9.0   \n",
       "3          Crime, Drama                 9.0   \n",
       "4          Crime, Drama                 8.9   \n",
       "\n",
       "                                               about               director  \\\n",
       "0  imprisoned men bond over a number of years, fi...        Frank Darabont    \n",
       "1  rganized crime dynasty's aging patriarch trans...  Francis Ford Coppola    \n",
       "2   the menace known as the Joker wreaks havoc an...     Christopher Nolan    \n",
       "3  early life and career of Vito Corleone in 1920...  Francis Ford Coppola    \n",
       "4  lives of two mob hitmen, a boxer, a gangster a...     Quentin Tarantino    \n",
       "\n",
       "                                              actors    votes     gross  \n",
       "0  Tim Robbins, Morgan Freeman, Bob Gunton, Willi...  2451775   $28.34M  \n",
       "1  Marlon Brando, Al Pacino, James Caan, Diane Ke...  1696937  $134.97M  \n",
       "2  Christian Bale, Heath Ledger, Aaron Eckhart, M...  2407467  $534.86M  \n",
       "3  Al Pacino, Robert De Niro, Robert Duvall, Dian...  1178645   $57.30M  \n",
       "4  John Travolta, Uma Thurman, Samuel L. Jackson,...  1900380  $107.93M  "
      ]
     },
     "execution_count": 2,
     "metadata": {},
     "output_type": "execute_result"
    }
   ],
   "source": [
    "df = pd.read_csv('final.csv')\n",
    "df.head()"
   ]
  },
  {
   "cell_type": "code",
   "execution_count": 3,
   "id": "0898ea92",
   "metadata": {
    "ExecuteTime": {
     "end_time": "2021-09-05T10:34:10.173758Z",
     "start_time": "2021-09-05T10:34:10.160793Z"
    }
   },
   "outputs": [
    {
     "data": {
      "text/plain": [
       "Index(['Unnamed: 0', 'Unnamed: 0.1', 'id', 'name', 'year', 'run_time', 'genre',\n",
       "       'rating', 'about', 'director', 'actors', 'votes', 'gross'],\n",
       "      dtype='object')"
      ]
     },
     "execution_count": 3,
     "metadata": {},
     "output_type": "execute_result"
    }
   ],
   "source": [
    "df.columns"
   ]
  },
  {
   "cell_type": "code",
   "execution_count": 4,
   "id": "7362106e",
   "metadata": {
    "ExecuteTime": {
     "end_time": "2021-09-05T10:34:10.220631Z",
     "start_time": "2021-09-05T10:34:10.177749Z"
    }
   },
   "outputs": [
    {
     "data": {
      "text/html": [
       "<div>\n",
       "<style scoped>\n",
       "    .dataframe tbody tr th:only-of-type {\n",
       "        vertical-align: middle;\n",
       "    }\n",
       "\n",
       "    .dataframe tbody tr th {\n",
       "        vertical-align: top;\n",
       "    }\n",
       "\n",
       "    .dataframe thead th {\n",
       "        text-align: right;\n",
       "    }\n",
       "</style>\n",
       "<table border=\"1\" class=\"dataframe\">\n",
       "  <thead>\n",
       "    <tr style=\"text-align: right;\">\n",
       "      <th></th>\n",
       "      <th>id</th>\n",
       "      <th>name</th>\n",
       "      <th>year</th>\n",
       "      <th>run_time</th>\n",
       "      <th>genre</th>\n",
       "      <th>rating</th>\n",
       "      <th>about</th>\n",
       "      <th>director</th>\n",
       "      <th>actors</th>\n",
       "      <th>votes</th>\n",
       "      <th>gross</th>\n",
       "    </tr>\n",
       "  </thead>\n",
       "  <tbody>\n",
       "    <tr>\n",
       "      <th>0</th>\n",
       "      <td>1</td>\n",
       "      <td>The Shawshank Redemption</td>\n",
       "      <td>1994</td>\n",
       "      <td>142 min</td>\n",
       "      <td>Drama</td>\n",
       "      <td>9.3</td>\n",
       "      <td>imprisoned men bond over a number of years, fi...</td>\n",
       "      <td>Frank Darabont</td>\n",
       "      <td>Tim Robbins, Morgan Freeman, Bob Gunton, Willi...</td>\n",
       "      <td>2451775</td>\n",
       "      <td>$28.34M</td>\n",
       "    </tr>\n",
       "    <tr>\n",
       "      <th>1</th>\n",
       "      <td>2</td>\n",
       "      <td>The Godfather</td>\n",
       "      <td>1972</td>\n",
       "      <td>175 min</td>\n",
       "      <td>Crime, Drama</td>\n",
       "      <td>9.2</td>\n",
       "      <td>rganized crime dynasty's aging patriarch trans...</td>\n",
       "      <td>Francis Ford Coppola</td>\n",
       "      <td>Marlon Brando, Al Pacino, James Caan, Diane Ke...</td>\n",
       "      <td>1696937</td>\n",
       "      <td>$134.97M</td>\n",
       "    </tr>\n",
       "    <tr>\n",
       "      <th>2</th>\n",
       "      <td>3</td>\n",
       "      <td>The Dark Knight</td>\n",
       "      <td>2008</td>\n",
       "      <td>152 min</td>\n",
       "      <td>Action, Crime, Drama</td>\n",
       "      <td>9.0</td>\n",
       "      <td>the menace known as the Joker wreaks havoc an...</td>\n",
       "      <td>Christopher Nolan</td>\n",
       "      <td>Christian Bale, Heath Ledger, Aaron Eckhart, M...</td>\n",
       "      <td>2407467</td>\n",
       "      <td>$534.86M</td>\n",
       "    </tr>\n",
       "    <tr>\n",
       "      <th>3</th>\n",
       "      <td>4</td>\n",
       "      <td>The Godfather: Part II</td>\n",
       "      <td>1974</td>\n",
       "      <td>202 min</td>\n",
       "      <td>Crime, Drama</td>\n",
       "      <td>9.0</td>\n",
       "      <td>early life and career of Vito Corleone in 1920...</td>\n",
       "      <td>Francis Ford Coppola</td>\n",
       "      <td>Al Pacino, Robert De Niro, Robert Duvall, Dian...</td>\n",
       "      <td>1178645</td>\n",
       "      <td>$57.30M</td>\n",
       "    </tr>\n",
       "    <tr>\n",
       "      <th>4</th>\n",
       "      <td>5</td>\n",
       "      <td>Pulp Fiction</td>\n",
       "      <td>1994</td>\n",
       "      <td>154 min</td>\n",
       "      <td>Crime, Drama</td>\n",
       "      <td>8.9</td>\n",
       "      <td>lives of two mob hitmen, a boxer, a gangster a...</td>\n",
       "      <td>Quentin Tarantino</td>\n",
       "      <td>John Travolta, Uma Thurman, Samuel L. Jackson,...</td>\n",
       "      <td>1900380</td>\n",
       "      <td>$107.93M</td>\n",
       "    </tr>\n",
       "  </tbody>\n",
       "</table>\n",
       "</div>"
      ],
      "text/plain": [
       "   id                      name  year run_time  \\\n",
       "0   1  The Shawshank Redemption  1994  142 min   \n",
       "1   2             The Godfather  1972  175 min   \n",
       "2   3           The Dark Knight  2008  152 min   \n",
       "3   4    The Godfather: Part II  1974  202 min   \n",
       "4   5              Pulp Fiction  1994  154 min   \n",
       "\n",
       "                              genre  rating  \\\n",
       "0                 Drama                 9.3   \n",
       "1          Crime, Drama                 9.2   \n",
       "2  Action, Crime, Drama                 9.0   \n",
       "3          Crime, Drama                 9.0   \n",
       "4          Crime, Drama                 8.9   \n",
       "\n",
       "                                               about               director  \\\n",
       "0  imprisoned men bond over a number of years, fi...        Frank Darabont    \n",
       "1  rganized crime dynasty's aging patriarch trans...  Francis Ford Coppola    \n",
       "2   the menace known as the Joker wreaks havoc an...     Christopher Nolan    \n",
       "3  early life and career of Vito Corleone in 1920...  Francis Ford Coppola    \n",
       "4  lives of two mob hitmen, a boxer, a gangster a...     Quentin Tarantino    \n",
       "\n",
       "                                              actors    votes     gross  \n",
       "0  Tim Robbins, Morgan Freeman, Bob Gunton, Willi...  2451775   $28.34M  \n",
       "1  Marlon Brando, Al Pacino, James Caan, Diane Ke...  1696937  $134.97M  \n",
       "2  Christian Bale, Heath Ledger, Aaron Eckhart, M...  2407467  $534.86M  \n",
       "3  Al Pacino, Robert De Niro, Robert Duvall, Dian...  1178645   $57.30M  \n",
       "4  John Travolta, Uma Thurman, Samuel L. Jackson,...  1900380  $107.93M  "
      ]
     },
     "execution_count": 4,
     "metadata": {},
     "output_type": "execute_result"
    }
   ],
   "source": [
    "df_clean = df.drop(['Unnamed: 0','Unnamed: 0.1'], axis=1)\n",
    "df_clean.head()"
   ]
  },
  {
   "cell_type": "code",
   "execution_count": 5,
   "id": "39d6afbe",
   "metadata": {
    "ExecuteTime": {
     "end_time": "2021-09-05T10:34:10.252556Z",
     "start_time": "2021-09-05T10:34:10.224622Z"
    }
   },
   "outputs": [
    {
     "name": "stdout",
     "output_type": "stream",
     "text": [
      "<class 'pandas.core.frame.DataFrame'>\n",
      "RangeIndex: 1359 entries, 0 to 1358\n",
      "Data columns (total 11 columns):\n",
      " #   Column    Non-Null Count  Dtype  \n",
      "---  ------    --------------  -----  \n",
      " 0   id        1359 non-null   int64  \n",
      " 1   name      1359 non-null   object \n",
      " 2   year      1359 non-null   object \n",
      " 3   run_time  1359 non-null   object \n",
      " 4   genre     1359 non-null   object \n",
      " 5   rating    1359 non-null   float64\n",
      " 6   about     1359 non-null   object \n",
      " 7   director  1257 non-null   object \n",
      " 8   actors    1359 non-null   object \n",
      " 9   votes     1359 non-null   int64  \n",
      " 10  gross     944 non-null    object \n",
      "dtypes: float64(1), int64(2), object(8)\n",
      "memory usage: 116.9+ KB\n"
     ]
    }
   ],
   "source": [
    "df_clean.info()"
   ]
  },
  {
   "cell_type": "markdown",
   "id": "0122004f",
   "metadata": {},
   "source": [
    "numerical columns:\n",
    "\n",
    "- year -> int\n",
    "- run_time -> int -> change to runtime_minutes\n",
    "- rating -> float (DONE)\n",
    "- votes -> int (DONE)\n",
    "- gross -> float -> change to gross_millions"
   ]
  },
  {
   "cell_type": "code",
   "execution_count": 6,
   "id": "98e1eadf",
   "metadata": {
    "ExecuteTime": {
     "end_time": "2021-09-05T10:34:10.284460Z",
     "start_time": "2021-09-05T10:34:10.258530Z"
    }
   },
   "outputs": [],
   "source": [
    "# non integer characters\n",
    "df_clean = df_clean[df_clean['year'] != 'I) (']\n",
    "df_clean = df_clean[df_clean['year'] != 'II) ']"
   ]
  },
  {
   "cell_type": "code",
   "execution_count": 7,
   "id": "7b2c7b8a",
   "metadata": {
    "ExecuteTime": {
     "end_time": "2021-09-05T10:34:10.300428Z",
     "start_time": "2021-09-05T10:34:10.291445Z"
    }
   },
   "outputs": [],
   "source": [
    "df_clean['year'] = df_clean['year'].astype(np.int64)"
   ]
  },
  {
   "cell_type": "code",
   "execution_count": 8,
   "id": "480ace44",
   "metadata": {
    "ExecuteTime": {
     "end_time": "2021-09-05T10:34:10.362252Z",
     "start_time": "2021-09-05T10:34:10.305411Z"
    }
   },
   "outputs": [
    {
     "data": {
      "text/html": [
       "<div>\n",
       "<style scoped>\n",
       "    .dataframe tbody tr th:only-of-type {\n",
       "        vertical-align: middle;\n",
       "    }\n",
       "\n",
       "    .dataframe tbody tr th {\n",
       "        vertical-align: top;\n",
       "    }\n",
       "\n",
       "    .dataframe thead th {\n",
       "        text-align: right;\n",
       "    }\n",
       "</style>\n",
       "<table border=\"1\" class=\"dataframe\">\n",
       "  <thead>\n",
       "    <tr style=\"text-align: right;\">\n",
       "      <th></th>\n",
       "      <th>id</th>\n",
       "      <th>name</th>\n",
       "      <th>year</th>\n",
       "      <th>run_time</th>\n",
       "      <th>genre</th>\n",
       "      <th>rating</th>\n",
       "      <th>about</th>\n",
       "      <th>director</th>\n",
       "      <th>actors</th>\n",
       "      <th>votes</th>\n",
       "      <th>gross</th>\n",
       "    </tr>\n",
       "  </thead>\n",
       "  <tbody>\n",
       "    <tr>\n",
       "      <th>0</th>\n",
       "      <td>1</td>\n",
       "      <td>The Shawshank Redemption</td>\n",
       "      <td>1994</td>\n",
       "      <td>142</td>\n",
       "      <td>Drama</td>\n",
       "      <td>9.3</td>\n",
       "      <td>imprisoned men bond over a number of years, fi...</td>\n",
       "      <td>Frank Darabont</td>\n",
       "      <td>Tim Robbins, Morgan Freeman, Bob Gunton, Willi...</td>\n",
       "      <td>2451775</td>\n",
       "      <td>$28.34M</td>\n",
       "    </tr>\n",
       "    <tr>\n",
       "      <th>1</th>\n",
       "      <td>2</td>\n",
       "      <td>The Godfather</td>\n",
       "      <td>1972</td>\n",
       "      <td>175</td>\n",
       "      <td>Crime, Drama</td>\n",
       "      <td>9.2</td>\n",
       "      <td>rganized crime dynasty's aging patriarch trans...</td>\n",
       "      <td>Francis Ford Coppola</td>\n",
       "      <td>Marlon Brando, Al Pacino, James Caan, Diane Ke...</td>\n",
       "      <td>1696937</td>\n",
       "      <td>$134.97M</td>\n",
       "    </tr>\n",
       "    <tr>\n",
       "      <th>2</th>\n",
       "      <td>3</td>\n",
       "      <td>The Dark Knight</td>\n",
       "      <td>2008</td>\n",
       "      <td>152</td>\n",
       "      <td>Action, Crime, Drama</td>\n",
       "      <td>9.0</td>\n",
       "      <td>the menace known as the Joker wreaks havoc an...</td>\n",
       "      <td>Christopher Nolan</td>\n",
       "      <td>Christian Bale, Heath Ledger, Aaron Eckhart, M...</td>\n",
       "      <td>2407467</td>\n",
       "      <td>$534.86M</td>\n",
       "    </tr>\n",
       "    <tr>\n",
       "      <th>3</th>\n",
       "      <td>4</td>\n",
       "      <td>The Godfather: Part II</td>\n",
       "      <td>1974</td>\n",
       "      <td>202</td>\n",
       "      <td>Crime, Drama</td>\n",
       "      <td>9.0</td>\n",
       "      <td>early life and career of Vito Corleone in 1920...</td>\n",
       "      <td>Francis Ford Coppola</td>\n",
       "      <td>Al Pacino, Robert De Niro, Robert Duvall, Dian...</td>\n",
       "      <td>1178645</td>\n",
       "      <td>$57.30M</td>\n",
       "    </tr>\n",
       "    <tr>\n",
       "      <th>4</th>\n",
       "      <td>5</td>\n",
       "      <td>Pulp Fiction</td>\n",
       "      <td>1994</td>\n",
       "      <td>154</td>\n",
       "      <td>Crime, Drama</td>\n",
       "      <td>8.9</td>\n",
       "      <td>lives of two mob hitmen, a boxer, a gangster a...</td>\n",
       "      <td>Quentin Tarantino</td>\n",
       "      <td>John Travolta, Uma Thurman, Samuel L. Jackson,...</td>\n",
       "      <td>1900380</td>\n",
       "      <td>$107.93M</td>\n",
       "    </tr>\n",
       "    <tr>\n",
       "      <th>...</th>\n",
       "      <td>...</td>\n",
       "      <td>...</td>\n",
       "      <td>...</td>\n",
       "      <td>...</td>\n",
       "      <td>...</td>\n",
       "      <td>...</td>\n",
       "      <td>...</td>\n",
       "      <td>...</td>\n",
       "      <td>...</td>\n",
       "      <td>...</td>\n",
       "      <td>...</td>\n",
       "    </tr>\n",
       "    <tr>\n",
       "      <th>1354</th>\n",
       "      <td>196</td>\n",
       "      <td>Ruby Sparks</td>\n",
       "      <td>2012</td>\n",
       "      <td>104</td>\n",
       "      <td>Comedy, Drama, Fantasy</td>\n",
       "      <td>7.2</td>\n",
       "      <td>velist struggling with writer's block finds ro...</td>\n",
       "      <td>Jonathan Dayton, Valerie Faris</td>\n",
       "      <td>Paul Dano, Zoe Kazan, Annette Bening, Antonio ...</td>\n",
       "      <td>98057</td>\n",
       "      <td>$2.54M</td>\n",
       "    </tr>\n",
       "    <tr>\n",
       "      <th>1355</th>\n",
       "      <td>197</td>\n",
       "      <td>Forgetting Sarah Marshall</td>\n",
       "      <td>2008</td>\n",
       "      <td>111</td>\n",
       "      <td>Comedy, Drama, Romance</td>\n",
       "      <td>7.1</td>\n",
       "      <td>stated Peter takes a Hawaiian vacation in orde...</td>\n",
       "      <td>Nicholas Stoller</td>\n",
       "      <td>Kristen Bell, Jason Segel, Paul Rudd, Mila Kunis</td>\n",
       "      <td>272993</td>\n",
       "      <td>$63.17M</td>\n",
       "    </tr>\n",
       "    <tr>\n",
       "      <th>1356</th>\n",
       "      <td>198</td>\n",
       "      <td>A Walk to Remember</td>\n",
       "      <td>2002</td>\n",
       "      <td>101</td>\n",
       "      <td>Drama, Romance</td>\n",
       "      <td>7.3</td>\n",
       "      <td>story of two North Carolina teens, Landon Cart...</td>\n",
       "      <td>Adam Shankman</td>\n",
       "      <td>Mandy Moore, Shane West, Peter Coyote, Daryl H...</td>\n",
       "      <td>204304</td>\n",
       "      <td>$41.23M</td>\n",
       "    </tr>\n",
       "    <tr>\n",
       "      <th>1357</th>\n",
       "      <td>199</td>\n",
       "      <td>Café Society</td>\n",
       "      <td>2016</td>\n",
       "      <td>96</td>\n",
       "      <td>Comedy, Drama, Romance</td>\n",
       "      <td>6.6</td>\n",
       "      <td>he 1930s, a Bronx native moves to Hollywood an...</td>\n",
       "      <td>Woody Allen</td>\n",
       "      <td>Jesse Eisenberg, Kristen Stewart, Steve Carell...</td>\n",
       "      <td>73899</td>\n",
       "      <td>$11.10M</td>\n",
       "    </tr>\n",
       "    <tr>\n",
       "      <th>1358</th>\n",
       "      <td>200</td>\n",
       "      <td>Easy A</td>\n",
       "      <td>2010</td>\n",
       "      <td>92</td>\n",
       "      <td>Comedy, Drama, Romance</td>\n",
       "      <td>7.0</td>\n",
       "      <td>ean-cut high school student relies on the scho...</td>\n",
       "      <td>Will Gluck</td>\n",
       "      <td>Emma Stone, Amanda Bynes, Penn Badgley, Dan Byrd</td>\n",
       "      <td>371420</td>\n",
       "      <td>$58.40M</td>\n",
       "    </tr>\n",
       "  </tbody>\n",
       "</table>\n",
       "<p>1299 rows × 11 columns</p>\n",
       "</div>"
      ],
      "text/plain": [
       "       id                       name  year run_time  \\\n",
       "0       1   The Shawshank Redemption  1994     142    \n",
       "1       2              The Godfather  1972     175    \n",
       "2       3            The Dark Knight  2008     152    \n",
       "3       4     The Godfather: Part II  1974     202    \n",
       "4       5               Pulp Fiction  1994     154    \n",
       "...   ...                        ...   ...      ...   \n",
       "1354  196                Ruby Sparks  2012     104    \n",
       "1355  197  Forgetting Sarah Marshall  2008     111    \n",
       "1356  198         A Walk to Remember  2002     101    \n",
       "1357  199               Café Society  2016      96    \n",
       "1358  200                     Easy A  2010      92    \n",
       "\n",
       "                                   genre  rating  \\\n",
       "0                      Drama                 9.3   \n",
       "1               Crime, Drama                 9.2   \n",
       "2       Action, Crime, Drama                 9.0   \n",
       "3               Crime, Drama                 9.0   \n",
       "4               Crime, Drama                 8.9   \n",
       "...                                  ...     ...   \n",
       "1354  Comedy, Drama, Fantasy                 7.2   \n",
       "1355  Comedy, Drama, Romance                 7.1   \n",
       "1356          Drama, Romance                 7.3   \n",
       "1357  Comedy, Drama, Romance                 6.6   \n",
       "1358  Comedy, Drama, Romance                 7.0   \n",
       "\n",
       "                                                  about  \\\n",
       "0     imprisoned men bond over a number of years, fi...   \n",
       "1     rganized crime dynasty's aging patriarch trans...   \n",
       "2      the menace known as the Joker wreaks havoc an...   \n",
       "3     early life and career of Vito Corleone in 1920...   \n",
       "4     lives of two mob hitmen, a boxer, a gangster a...   \n",
       "...                                                 ...   \n",
       "1354  velist struggling with writer's block finds ro...   \n",
       "1355  stated Peter takes a Hawaiian vacation in orde...   \n",
       "1356  story of two North Carolina teens, Landon Cart...   \n",
       "1357  he 1930s, a Bronx native moves to Hollywood an...   \n",
       "1358  ean-cut high school student relies on the scho...   \n",
       "\n",
       "                             director  \\\n",
       "0                     Frank Darabont    \n",
       "1               Francis Ford Coppola    \n",
       "2                  Christopher Nolan    \n",
       "3               Francis Ford Coppola    \n",
       "4                  Quentin Tarantino    \n",
       "...                               ...   \n",
       "1354  Jonathan Dayton, Valerie Faris    \n",
       "1355                Nicholas Stoller    \n",
       "1356                   Adam Shankman    \n",
       "1357                     Woody Allen    \n",
       "1358                      Will Gluck    \n",
       "\n",
       "                                                 actors    votes     gross  \n",
       "0     Tim Robbins, Morgan Freeman, Bob Gunton, Willi...  2451775   $28.34M  \n",
       "1     Marlon Brando, Al Pacino, James Caan, Diane Ke...  1696937  $134.97M  \n",
       "2     Christian Bale, Heath Ledger, Aaron Eckhart, M...  2407467  $534.86M  \n",
       "3     Al Pacino, Robert De Niro, Robert Duvall, Dian...  1178645   $57.30M  \n",
       "4     John Travolta, Uma Thurman, Samuel L. Jackson,...  1900380  $107.93M  \n",
       "...                                                 ...      ...       ...  \n",
       "1354  Paul Dano, Zoe Kazan, Annette Bening, Antonio ...    98057    $2.54M  \n",
       "1355   Kristen Bell, Jason Segel, Paul Rudd, Mila Kunis   272993   $63.17M  \n",
       "1356  Mandy Moore, Shane West, Peter Coyote, Daryl H...   204304   $41.23M  \n",
       "1357  Jesse Eisenberg, Kristen Stewart, Steve Carell...    73899   $11.10M  \n",
       "1358   Emma Stone, Amanda Bynes, Penn Badgley, Dan Byrd   371420   $58.40M  \n",
       "\n",
       "[1299 rows x 11 columns]"
      ]
     },
     "execution_count": 8,
     "metadata": {},
     "output_type": "execute_result"
    }
   ],
   "source": [
    "df_clean['run_time'] = df_clean['run_time'].map(lambda x: x.rstrip('min'))\n",
    "df_clean"
   ]
  },
  {
   "cell_type": "code",
   "execution_count": 9,
   "id": "fb6b33ab",
   "metadata": {
    "ExecuteTime": {
     "end_time": "2021-09-05T10:34:10.378215Z",
     "start_time": "2021-09-05T10:34:10.365246Z"
    }
   },
   "outputs": [],
   "source": [
    "df_clean['run_time'] = df_clean['run_time'].astype(np.int64)"
   ]
  },
  {
   "cell_type": "code",
   "execution_count": 10,
   "id": "5a777eb5",
   "metadata": {
    "ExecuteTime": {
     "end_time": "2021-09-05T10:34:10.410125Z",
     "start_time": "2021-09-05T10:34:10.382212Z"
    }
   },
   "outputs": [
    {
     "name": "stdout",
     "output_type": "stream",
     "text": [
      "<class 'pandas.core.frame.DataFrame'>\n",
      "Int64Index: 1299 entries, 0 to 1358\n",
      "Data columns (total 11 columns):\n",
      " #   Column    Non-Null Count  Dtype  \n",
      "---  ------    --------------  -----  \n",
      " 0   id        1299 non-null   int64  \n",
      " 1   name      1299 non-null   object \n",
      " 2   year      1299 non-null   int64  \n",
      " 3   run_time  1299 non-null   int64  \n",
      " 4   genre     1299 non-null   object \n",
      " 5   rating    1299 non-null   float64\n",
      " 6   about     1299 non-null   object \n",
      " 7   director  1197 non-null   object \n",
      " 8   actors    1299 non-null   object \n",
      " 9   votes     1299 non-null   int64  \n",
      " 10  gross     892 non-null    object \n",
      "dtypes: float64(1), int64(4), object(6)\n",
      "memory usage: 121.8+ KB\n"
     ]
    }
   ],
   "source": [
    "df_clean.info()"
   ]
  },
  {
   "cell_type": "code",
   "execution_count": 11,
   "id": "532d1c70",
   "metadata": {
    "ExecuteTime": {
     "end_time": "2021-09-05T10:34:10.441042Z",
     "start_time": "2021-09-05T10:34:10.414115Z"
    }
   },
   "outputs": [
    {
     "data": {
      "text/plain": [
       "407"
      ]
     },
     "execution_count": 11,
     "metadata": {},
     "output_type": "execute_result"
    }
   ],
   "source": [
    "np.sum(df_clean['gross'].isnull())"
   ]
  },
  {
   "cell_type": "code",
   "execution_count": 12,
   "id": "f4d8f0df",
   "metadata": {
    "ExecuteTime": {
     "end_time": "2021-09-05T10:34:11.311013Z",
     "start_time": "2021-09-05T10:34:10.445034Z"
    }
   },
   "outputs": [],
   "source": [
    "from sklearn.impute import SimpleImputer"
   ]
  },
  {
   "cell_type": "code",
   "execution_count": 13,
   "id": "8f5c123d",
   "metadata": {
    "ExecuteTime": {
     "end_time": "2021-09-05T10:34:11.341935Z",
     "start_time": "2021-09-05T10:34:11.314010Z"
    }
   },
   "outputs": [],
   "source": [
    "new_col = []\n",
    "for row in df_clean['gross']:\n",
    "    if pd.notnull(row):\n",
    "        new_col.append(row.lstrip('$').rstrip('M'))\n",
    "    else:\n",
    "        new_col.append(np.nan)"
   ]
  },
  {
   "cell_type": "code",
   "execution_count": 14,
   "id": "258d08a1",
   "metadata": {
    "ExecuteTime": {
     "end_time": "2021-09-05T10:34:11.357892Z",
     "start_time": "2021-09-05T10:34:11.344928Z"
    }
   },
   "outputs": [],
   "source": [
    "clean_col = []\n",
    "for num in new_col:\n",
    "    if pd.notnull(num):\n",
    "        clean_col.append(float(num))\n",
    "    else:\n",
    "        clean_col.append(np.nan)"
   ]
  },
  {
   "cell_type": "code",
   "execution_count": 15,
   "id": "679a78d1",
   "metadata": {
    "ExecuteTime": {
     "end_time": "2021-09-05T10:34:11.373852Z",
     "start_time": "2021-09-05T10:34:11.360885Z"
    }
   },
   "outputs": [
    {
     "data": {
      "text/plain": [
       "1299"
      ]
     },
     "execution_count": 15,
     "metadata": {},
     "output_type": "execute_result"
    }
   ],
   "source": [
    "len(clean_col)"
   ]
  },
  {
   "cell_type": "code",
   "execution_count": 16,
   "id": "62cc576c",
   "metadata": {
    "ExecuteTime": {
     "end_time": "2021-09-05T10:34:11.389809Z",
     "start_time": "2021-09-05T10:34:11.376842Z"
    }
   },
   "outputs": [],
   "source": [
    "df_clean['gross'] = clean_col"
   ]
  },
  {
   "cell_type": "code",
   "execution_count": 17,
   "id": "c9d52106",
   "metadata": {
    "ExecuteTime": {
     "end_time": "2021-09-05T10:34:11.452638Z",
     "start_time": "2021-09-05T10:34:11.394804Z"
    }
   },
   "outputs": [
    {
     "data": {
      "text/html": [
       "<div>\n",
       "<style scoped>\n",
       "    .dataframe tbody tr th:only-of-type {\n",
       "        vertical-align: middle;\n",
       "    }\n",
       "\n",
       "    .dataframe tbody tr th {\n",
       "        vertical-align: top;\n",
       "    }\n",
       "\n",
       "    .dataframe thead th {\n",
       "        text-align: right;\n",
       "    }\n",
       "</style>\n",
       "<table border=\"1\" class=\"dataframe\">\n",
       "  <thead>\n",
       "    <tr style=\"text-align: right;\">\n",
       "      <th></th>\n",
       "      <th>id</th>\n",
       "      <th>name</th>\n",
       "      <th>year</th>\n",
       "      <th>run_time</th>\n",
       "      <th>genre</th>\n",
       "      <th>rating</th>\n",
       "      <th>about</th>\n",
       "      <th>director</th>\n",
       "      <th>actors</th>\n",
       "      <th>votes</th>\n",
       "      <th>gross</th>\n",
       "    </tr>\n",
       "  </thead>\n",
       "  <tbody>\n",
       "    <tr>\n",
       "      <th>0</th>\n",
       "      <td>1</td>\n",
       "      <td>The Shawshank Redemption</td>\n",
       "      <td>1994</td>\n",
       "      <td>142</td>\n",
       "      <td>Drama</td>\n",
       "      <td>9.3</td>\n",
       "      <td>imprisoned men bond over a number of years, fi...</td>\n",
       "      <td>Frank Darabont</td>\n",
       "      <td>Tim Robbins, Morgan Freeman, Bob Gunton, Willi...</td>\n",
       "      <td>2451775</td>\n",
       "      <td>28.34</td>\n",
       "    </tr>\n",
       "    <tr>\n",
       "      <th>1</th>\n",
       "      <td>2</td>\n",
       "      <td>The Godfather</td>\n",
       "      <td>1972</td>\n",
       "      <td>175</td>\n",
       "      <td>Crime, Drama</td>\n",
       "      <td>9.2</td>\n",
       "      <td>rganized crime dynasty's aging patriarch trans...</td>\n",
       "      <td>Francis Ford Coppola</td>\n",
       "      <td>Marlon Brando, Al Pacino, James Caan, Diane Ke...</td>\n",
       "      <td>1696937</td>\n",
       "      <td>134.97</td>\n",
       "    </tr>\n",
       "    <tr>\n",
       "      <th>2</th>\n",
       "      <td>3</td>\n",
       "      <td>The Dark Knight</td>\n",
       "      <td>2008</td>\n",
       "      <td>152</td>\n",
       "      <td>Action, Crime, Drama</td>\n",
       "      <td>9.0</td>\n",
       "      <td>the menace known as the Joker wreaks havoc an...</td>\n",
       "      <td>Christopher Nolan</td>\n",
       "      <td>Christian Bale, Heath Ledger, Aaron Eckhart, M...</td>\n",
       "      <td>2407467</td>\n",
       "      <td>534.86</td>\n",
       "    </tr>\n",
       "    <tr>\n",
       "      <th>3</th>\n",
       "      <td>4</td>\n",
       "      <td>The Godfather: Part II</td>\n",
       "      <td>1974</td>\n",
       "      <td>202</td>\n",
       "      <td>Crime, Drama</td>\n",
       "      <td>9.0</td>\n",
       "      <td>early life and career of Vito Corleone in 1920...</td>\n",
       "      <td>Francis Ford Coppola</td>\n",
       "      <td>Al Pacino, Robert De Niro, Robert Duvall, Dian...</td>\n",
       "      <td>1178645</td>\n",
       "      <td>57.30</td>\n",
       "    </tr>\n",
       "    <tr>\n",
       "      <th>4</th>\n",
       "      <td>5</td>\n",
       "      <td>Pulp Fiction</td>\n",
       "      <td>1994</td>\n",
       "      <td>154</td>\n",
       "      <td>Crime, Drama</td>\n",
       "      <td>8.9</td>\n",
       "      <td>lives of two mob hitmen, a boxer, a gangster a...</td>\n",
       "      <td>Quentin Tarantino</td>\n",
       "      <td>John Travolta, Uma Thurman, Samuel L. Jackson,...</td>\n",
       "      <td>1900380</td>\n",
       "      <td>107.93</td>\n",
       "    </tr>\n",
       "    <tr>\n",
       "      <th>...</th>\n",
       "      <td>...</td>\n",
       "      <td>...</td>\n",
       "      <td>...</td>\n",
       "      <td>...</td>\n",
       "      <td>...</td>\n",
       "      <td>...</td>\n",
       "      <td>...</td>\n",
       "      <td>...</td>\n",
       "      <td>...</td>\n",
       "      <td>...</td>\n",
       "      <td>...</td>\n",
       "    </tr>\n",
       "    <tr>\n",
       "      <th>1354</th>\n",
       "      <td>196</td>\n",
       "      <td>Ruby Sparks</td>\n",
       "      <td>2012</td>\n",
       "      <td>104</td>\n",
       "      <td>Comedy, Drama, Fantasy</td>\n",
       "      <td>7.2</td>\n",
       "      <td>velist struggling with writer's block finds ro...</td>\n",
       "      <td>Jonathan Dayton, Valerie Faris</td>\n",
       "      <td>Paul Dano, Zoe Kazan, Annette Bening, Antonio ...</td>\n",
       "      <td>98057</td>\n",
       "      <td>2.54</td>\n",
       "    </tr>\n",
       "    <tr>\n",
       "      <th>1355</th>\n",
       "      <td>197</td>\n",
       "      <td>Forgetting Sarah Marshall</td>\n",
       "      <td>2008</td>\n",
       "      <td>111</td>\n",
       "      <td>Comedy, Drama, Romance</td>\n",
       "      <td>7.1</td>\n",
       "      <td>stated Peter takes a Hawaiian vacation in orde...</td>\n",
       "      <td>Nicholas Stoller</td>\n",
       "      <td>Kristen Bell, Jason Segel, Paul Rudd, Mila Kunis</td>\n",
       "      <td>272993</td>\n",
       "      <td>63.17</td>\n",
       "    </tr>\n",
       "    <tr>\n",
       "      <th>1356</th>\n",
       "      <td>198</td>\n",
       "      <td>A Walk to Remember</td>\n",
       "      <td>2002</td>\n",
       "      <td>101</td>\n",
       "      <td>Drama, Romance</td>\n",
       "      <td>7.3</td>\n",
       "      <td>story of two North Carolina teens, Landon Cart...</td>\n",
       "      <td>Adam Shankman</td>\n",
       "      <td>Mandy Moore, Shane West, Peter Coyote, Daryl H...</td>\n",
       "      <td>204304</td>\n",
       "      <td>41.23</td>\n",
       "    </tr>\n",
       "    <tr>\n",
       "      <th>1357</th>\n",
       "      <td>199</td>\n",
       "      <td>Café Society</td>\n",
       "      <td>2016</td>\n",
       "      <td>96</td>\n",
       "      <td>Comedy, Drama, Romance</td>\n",
       "      <td>6.6</td>\n",
       "      <td>he 1930s, a Bronx native moves to Hollywood an...</td>\n",
       "      <td>Woody Allen</td>\n",
       "      <td>Jesse Eisenberg, Kristen Stewart, Steve Carell...</td>\n",
       "      <td>73899</td>\n",
       "      <td>11.10</td>\n",
       "    </tr>\n",
       "    <tr>\n",
       "      <th>1358</th>\n",
       "      <td>200</td>\n",
       "      <td>Easy A</td>\n",
       "      <td>2010</td>\n",
       "      <td>92</td>\n",
       "      <td>Comedy, Drama, Romance</td>\n",
       "      <td>7.0</td>\n",
       "      <td>ean-cut high school student relies on the scho...</td>\n",
       "      <td>Will Gluck</td>\n",
       "      <td>Emma Stone, Amanda Bynes, Penn Badgley, Dan Byrd</td>\n",
       "      <td>371420</td>\n",
       "      <td>58.40</td>\n",
       "    </tr>\n",
       "  </tbody>\n",
       "</table>\n",
       "<p>1299 rows × 11 columns</p>\n",
       "</div>"
      ],
      "text/plain": [
       "       id                       name  year  run_time  \\\n",
       "0       1   The Shawshank Redemption  1994       142   \n",
       "1       2              The Godfather  1972       175   \n",
       "2       3            The Dark Knight  2008       152   \n",
       "3       4     The Godfather: Part II  1974       202   \n",
       "4       5               Pulp Fiction  1994       154   \n",
       "...   ...                        ...   ...       ...   \n",
       "1354  196                Ruby Sparks  2012       104   \n",
       "1355  197  Forgetting Sarah Marshall  2008       111   \n",
       "1356  198         A Walk to Remember  2002       101   \n",
       "1357  199               Café Society  2016        96   \n",
       "1358  200                     Easy A  2010        92   \n",
       "\n",
       "                                   genre  rating  \\\n",
       "0                      Drama                 9.3   \n",
       "1               Crime, Drama                 9.2   \n",
       "2       Action, Crime, Drama                 9.0   \n",
       "3               Crime, Drama                 9.0   \n",
       "4               Crime, Drama                 8.9   \n",
       "...                                  ...     ...   \n",
       "1354  Comedy, Drama, Fantasy                 7.2   \n",
       "1355  Comedy, Drama, Romance                 7.1   \n",
       "1356          Drama, Romance                 7.3   \n",
       "1357  Comedy, Drama, Romance                 6.6   \n",
       "1358  Comedy, Drama, Romance                 7.0   \n",
       "\n",
       "                                                  about  \\\n",
       "0     imprisoned men bond over a number of years, fi...   \n",
       "1     rganized crime dynasty's aging patriarch trans...   \n",
       "2      the menace known as the Joker wreaks havoc an...   \n",
       "3     early life and career of Vito Corleone in 1920...   \n",
       "4     lives of two mob hitmen, a boxer, a gangster a...   \n",
       "...                                                 ...   \n",
       "1354  velist struggling with writer's block finds ro...   \n",
       "1355  stated Peter takes a Hawaiian vacation in orde...   \n",
       "1356  story of two North Carolina teens, Landon Cart...   \n",
       "1357  he 1930s, a Bronx native moves to Hollywood an...   \n",
       "1358  ean-cut high school student relies on the scho...   \n",
       "\n",
       "                             director  \\\n",
       "0                     Frank Darabont    \n",
       "1               Francis Ford Coppola    \n",
       "2                  Christopher Nolan    \n",
       "3               Francis Ford Coppola    \n",
       "4                  Quentin Tarantino    \n",
       "...                               ...   \n",
       "1354  Jonathan Dayton, Valerie Faris    \n",
       "1355                Nicholas Stoller    \n",
       "1356                   Adam Shankman    \n",
       "1357                     Woody Allen    \n",
       "1358                      Will Gluck    \n",
       "\n",
       "                                                 actors    votes   gross  \n",
       "0     Tim Robbins, Morgan Freeman, Bob Gunton, Willi...  2451775   28.34  \n",
       "1     Marlon Brando, Al Pacino, James Caan, Diane Ke...  1696937  134.97  \n",
       "2     Christian Bale, Heath Ledger, Aaron Eckhart, M...  2407467  534.86  \n",
       "3     Al Pacino, Robert De Niro, Robert Duvall, Dian...  1178645   57.30  \n",
       "4     John Travolta, Uma Thurman, Samuel L. Jackson,...  1900380  107.93  \n",
       "...                                                 ...      ...     ...  \n",
       "1354  Paul Dano, Zoe Kazan, Annette Bening, Antonio ...    98057    2.54  \n",
       "1355   Kristen Bell, Jason Segel, Paul Rudd, Mila Kunis   272993   63.17  \n",
       "1356  Mandy Moore, Shane West, Peter Coyote, Daryl H...   204304   41.23  \n",
       "1357  Jesse Eisenberg, Kristen Stewart, Steve Carell...    73899   11.10  \n",
       "1358   Emma Stone, Amanda Bynes, Penn Badgley, Dan Byrd   371420   58.40  \n",
       "\n",
       "[1299 rows x 11 columns]"
      ]
     },
     "execution_count": 17,
     "metadata": {},
     "output_type": "execute_result"
    }
   ],
   "source": [
    "df_clean"
   ]
  },
  {
   "cell_type": "code",
   "execution_count": 18,
   "id": "699d424c",
   "metadata": {
    "ExecuteTime": {
     "end_time": "2021-09-05T10:34:11.468596Z",
     "start_time": "2021-09-05T10:34:11.455633Z"
    }
   },
   "outputs": [
    {
     "data": {
      "text/plain": [
       "pandas.core.series.Series"
      ]
     },
     "execution_count": 18,
     "metadata": {},
     "output_type": "execute_result"
    }
   ],
   "source": [
    "type(df_clean['gross'])"
   ]
  },
  {
   "cell_type": "code",
   "execution_count": 19,
   "id": "b7d1fd3d",
   "metadata": {
    "ExecuteTime": {
     "end_time": "2021-09-05T10:34:11.500513Z",
     "start_time": "2021-09-05T10:34:11.473585Z"
    }
   },
   "outputs": [
    {
     "data": {
      "text/plain": [
       "SimpleImputer(strategy='median')"
      ]
     },
     "execution_count": 19,
     "metadata": {},
     "output_type": "execute_result"
    }
   ],
   "source": [
    "imp_mean = SimpleImputer(missing_values=np.nan, strategy='median')\n",
    "imp_mean.fit(df_clean['gross'].values.reshape(-1, 1))"
   ]
  },
  {
   "cell_type": "code",
   "execution_count": 20,
   "id": "fe6900b8",
   "metadata": {
    "ExecuteTime": {
     "end_time": "2021-09-05T10:34:11.516469Z",
     "start_time": "2021-09-05T10:34:11.503503Z"
    }
   },
   "outputs": [],
   "source": [
    "df_clean['gross'] = imp_mean.transform(df_clean['gross'].values.reshape(-1, 1))"
   ]
  },
  {
   "cell_type": "code",
   "execution_count": 21,
   "id": "351a6cef",
   "metadata": {
    "ExecuteTime": {
     "end_time": "2021-09-05T10:34:11.532428Z",
     "start_time": "2021-09-05T10:34:11.518463Z"
    }
   },
   "outputs": [
    {
     "data": {
      "text/plain": [
       "0"
      ]
     },
     "execution_count": 21,
     "metadata": {},
     "output_type": "execute_result"
    }
   ],
   "source": [
    "np.sum(df_clean['gross'].isnull())"
   ]
  },
  {
   "cell_type": "code",
   "execution_count": 22,
   "id": "d1f92b84",
   "metadata": {
    "ExecuteTime": {
     "end_time": "2021-09-05T10:34:11.563350Z",
     "start_time": "2021-09-05T10:34:11.543399Z"
    }
   },
   "outputs": [],
   "source": [
    "# name change\n",
    "df_clean.rename(columns={\n",
    "    'run_time': 'run_time_mins', 'gross': 'gross_millions'\n",
    "}, inplace=True)"
   ]
  },
  {
   "cell_type": "code",
   "execution_count": 23,
   "id": "d5678248",
   "metadata": {
    "ExecuteTime": {
     "end_time": "2021-09-05T10:34:11.595257Z",
     "start_time": "2021-09-05T10:34:11.567333Z"
    }
   },
   "outputs": [
    {
     "name": "stdout",
     "output_type": "stream",
     "text": [
      "<class 'pandas.core.frame.DataFrame'>\n",
      "Int64Index: 1299 entries, 0 to 1358\n",
      "Data columns (total 11 columns):\n",
      " #   Column          Non-Null Count  Dtype  \n",
      "---  ------          --------------  -----  \n",
      " 0   id              1299 non-null   int64  \n",
      " 1   name            1299 non-null   object \n",
      " 2   year            1299 non-null   int64  \n",
      " 3   run_time_mins   1299 non-null   int64  \n",
      " 4   genre           1299 non-null   object \n",
      " 5   rating          1299 non-null   float64\n",
      " 6   about           1299 non-null   object \n",
      " 7   director        1197 non-null   object \n",
      " 8   actors          1299 non-null   object \n",
      " 9   votes           1299 non-null   int64  \n",
      " 10  gross_millions  1299 non-null   float64\n",
      "dtypes: float64(2), int64(4), object(5)\n",
      "memory usage: 121.8+ KB\n"
     ]
    }
   ],
   "source": [
    "df_clean.info()"
   ]
  },
  {
   "cell_type": "code",
   "execution_count": 24,
   "id": "99fd542c",
   "metadata": {
    "ExecuteTime": {
     "end_time": "2021-09-05T10:34:11.611215Z",
     "start_time": "2021-09-05T10:34:11.599248Z"
    }
   },
   "outputs": [
    {
     "data": {
      "text/plain": [
       "102"
      ]
     },
     "execution_count": 24,
     "metadata": {},
     "output_type": "execute_result"
    }
   ],
   "source": [
    "np.sum(df['director'].isnull())"
   ]
  },
  {
   "cell_type": "code",
   "execution_count": 25,
   "id": "23765977",
   "metadata": {
    "ExecuteTime": {
     "end_time": "2021-09-05T10:34:11.659087Z",
     "start_time": "2021-09-05T10:34:11.614207Z"
    }
   },
   "outputs": [],
   "source": [
    "df_clean = df_clean.dropna()"
   ]
  },
  {
   "cell_type": "code",
   "execution_count": 26,
   "id": "d12bc27c",
   "metadata": {
    "ExecuteTime": {
     "end_time": "2021-09-05T10:34:11.691007Z",
     "start_time": "2021-09-05T10:34:11.662079Z"
    }
   },
   "outputs": [
    {
     "name": "stdout",
     "output_type": "stream",
     "text": [
      "<class 'pandas.core.frame.DataFrame'>\n",
      "Int64Index: 1197 entries, 0 to 1358\n",
      "Data columns (total 11 columns):\n",
      " #   Column          Non-Null Count  Dtype  \n",
      "---  ------          --------------  -----  \n",
      " 0   id              1197 non-null   int64  \n",
      " 1   name            1197 non-null   object \n",
      " 2   year            1197 non-null   int64  \n",
      " 3   run_time_mins   1197 non-null   int64  \n",
      " 4   genre           1197 non-null   object \n",
      " 5   rating          1197 non-null   float64\n",
      " 6   about           1197 non-null   object \n",
      " 7   director        1197 non-null   object \n",
      " 8   actors          1197 non-null   object \n",
      " 9   votes           1197 non-null   int64  \n",
      " 10  gross_millions  1197 non-null   float64\n",
      "dtypes: float64(2), int64(4), object(5)\n",
      "memory usage: 112.2+ KB\n"
     ]
    }
   ],
   "source": [
    "df_clean.info()"
   ]
  },
  {
   "cell_type": "code",
   "execution_count": 85,
   "id": "29abc079",
   "metadata": {
    "ExecuteTime": {
     "end_time": "2021-09-05T11:25:07.348656Z",
     "start_time": "2021-09-05T11:25:07.321726Z"
    }
   },
   "outputs": [],
   "source": [
    "df_clean = df_clean.drop_duplicates(subset=df_clean.columns)"
   ]
  },
  {
   "cell_type": "code",
   "execution_count": 86,
   "id": "9e02b325",
   "metadata": {
    "ExecuteTime": {
     "end_time": "2021-09-05T11:25:08.118773Z",
     "start_time": "2021-09-05T11:25:08.096835Z"
    }
   },
   "outputs": [
    {
     "name": "stdout",
     "output_type": "stream",
     "text": [
      "<class 'pandas.core.frame.DataFrame'>\n",
      "Int64Index: 1197 entries, 0 to 1358\n",
      "Data columns (total 11 columns):\n",
      " #   Column          Non-Null Count  Dtype  \n",
      "---  ------          --------------  -----  \n",
      " 0   id              1197 non-null   int64  \n",
      " 1   name            1197 non-null   object \n",
      " 2   year            1197 non-null   int64  \n",
      " 3   run_time_mins   1197 non-null   int64  \n",
      " 4   genre           1197 non-null   object \n",
      " 5   rating          1197 non-null   float64\n",
      " 6   about           1197 non-null   object \n",
      " 7   director        1197 non-null   object \n",
      " 8   actors          1197 non-null   object \n",
      " 9   votes           1197 non-null   int64  \n",
      " 10  gross_millions  1197 non-null   float64\n",
      "dtypes: float64(2), int64(4), object(5)\n",
      "memory usage: 112.2+ KB\n"
     ]
    }
   ],
   "source": [
    "df_clean.info()"
   ]
  },
  {
   "cell_type": "markdown",
   "id": "e9afd949",
   "metadata": {},
   "source": [
    "# EDA Proper"
   ]
  },
  {
   "cell_type": "code",
   "execution_count": 124,
   "id": "621b949e",
   "metadata": {
    "ExecuteTime": {
     "end_time": "2021-09-05T12:22:12.704316Z",
     "start_time": "2021-09-05T12:22:12.673121Z"
    }
   },
   "outputs": [],
   "source": [
    "df_clean = pd.read_csv('movies_imdb_clean.csv')"
   ]
  },
  {
   "cell_type": "code",
   "execution_count": 125,
   "id": "0ee89bcd",
   "metadata": {
    "ExecuteTime": {
     "end_time": "2021-09-05T12:22:14.375376Z",
     "start_time": "2021-09-05T12:22:14.337443Z"
    }
   },
   "outputs": [
    {
     "data": {
      "text/html": [
       "<div>\n",
       "<style scoped>\n",
       "    .dataframe tbody tr th:only-of-type {\n",
       "        vertical-align: middle;\n",
       "    }\n",
       "\n",
       "    .dataframe tbody tr th {\n",
       "        vertical-align: top;\n",
       "    }\n",
       "\n",
       "    .dataframe thead th {\n",
       "        text-align: right;\n",
       "    }\n",
       "</style>\n",
       "<table border=\"1\" class=\"dataframe\">\n",
       "  <thead>\n",
       "    <tr style=\"text-align: right;\">\n",
       "      <th></th>\n",
       "      <th>Unnamed: 0</th>\n",
       "      <th>id</th>\n",
       "      <th>name</th>\n",
       "      <th>year</th>\n",
       "      <th>run_time_mins</th>\n",
       "      <th>genre</th>\n",
       "      <th>rating</th>\n",
       "      <th>about</th>\n",
       "      <th>director</th>\n",
       "      <th>actors</th>\n",
       "      <th>votes</th>\n",
       "      <th>gross_millions</th>\n",
       "    </tr>\n",
       "  </thead>\n",
       "  <tbody>\n",
       "    <tr>\n",
       "      <th>0</th>\n",
       "      <td>0</td>\n",
       "      <td>1</td>\n",
       "      <td>The Shawshank Redemption</td>\n",
       "      <td>1994</td>\n",
       "      <td>142</td>\n",
       "      <td>Drama</td>\n",
       "      <td>9.3</td>\n",
       "      <td>imprisoned men bond over a number of years, fi...</td>\n",
       "      <td>Frank Darabont</td>\n",
       "      <td>Tim Robbins, Morgan Freeman, Bob Gunton, Willi...</td>\n",
       "      <td>2451775</td>\n",
       "      <td>28.34</td>\n",
       "    </tr>\n",
       "    <tr>\n",
       "      <th>1</th>\n",
       "      <td>1</td>\n",
       "      <td>2</td>\n",
       "      <td>The Godfather</td>\n",
       "      <td>1972</td>\n",
       "      <td>175</td>\n",
       "      <td>Crime, Drama</td>\n",
       "      <td>9.2</td>\n",
       "      <td>rganized crime dynasty's aging patriarch trans...</td>\n",
       "      <td>Francis Ford Coppola</td>\n",
       "      <td>Marlon Brando, Al Pacino, James Caan, Diane Ke...</td>\n",
       "      <td>1696937</td>\n",
       "      <td>134.97</td>\n",
       "    </tr>\n",
       "    <tr>\n",
       "      <th>2</th>\n",
       "      <td>2</td>\n",
       "      <td>3</td>\n",
       "      <td>The Dark Knight</td>\n",
       "      <td>2008</td>\n",
       "      <td>152</td>\n",
       "      <td>Action, Crime, Drama</td>\n",
       "      <td>9.0</td>\n",
       "      <td>the menace known as the Joker wreaks havoc an...</td>\n",
       "      <td>Christopher Nolan</td>\n",
       "      <td>Christian Bale, Heath Ledger, Aaron Eckhart, M...</td>\n",
       "      <td>2407467</td>\n",
       "      <td>534.86</td>\n",
       "    </tr>\n",
       "    <tr>\n",
       "      <th>3</th>\n",
       "      <td>3</td>\n",
       "      <td>4</td>\n",
       "      <td>The Godfather: Part II</td>\n",
       "      <td>1974</td>\n",
       "      <td>202</td>\n",
       "      <td>Crime, Drama</td>\n",
       "      <td>9.0</td>\n",
       "      <td>early life and career of Vito Corleone in 1920...</td>\n",
       "      <td>Francis Ford Coppola</td>\n",
       "      <td>Al Pacino, Robert De Niro, Robert Duvall, Dian...</td>\n",
       "      <td>1178645</td>\n",
       "      <td>57.30</td>\n",
       "    </tr>\n",
       "    <tr>\n",
       "      <th>4</th>\n",
       "      <td>4</td>\n",
       "      <td>5</td>\n",
       "      <td>Pulp Fiction</td>\n",
       "      <td>1994</td>\n",
       "      <td>154</td>\n",
       "      <td>Crime, Drama</td>\n",
       "      <td>8.9</td>\n",
       "      <td>lives of two mob hitmen, a boxer, a gangster a...</td>\n",
       "      <td>Quentin Tarantino</td>\n",
       "      <td>John Travolta, Uma Thurman, Samuel L. Jackson,...</td>\n",
       "      <td>1900380</td>\n",
       "      <td>107.93</td>\n",
       "    </tr>\n",
       "  </tbody>\n",
       "</table>\n",
       "</div>"
      ],
      "text/plain": [
       "   Unnamed: 0  id                      name  year  run_time_mins  \\\n",
       "0           0   1  The Shawshank Redemption  1994            142   \n",
       "1           1   2             The Godfather  1972            175   \n",
       "2           2   3           The Dark Knight  2008            152   \n",
       "3           3   4    The Godfather: Part II  1974            202   \n",
       "4           4   5              Pulp Fiction  1994            154   \n",
       "\n",
       "                              genre  rating  \\\n",
       "0                 Drama                 9.3   \n",
       "1          Crime, Drama                 9.2   \n",
       "2  Action, Crime, Drama                 9.0   \n",
       "3          Crime, Drama                 9.0   \n",
       "4          Crime, Drama                 8.9   \n",
       "\n",
       "                                               about               director  \\\n",
       "0  imprisoned men bond over a number of years, fi...        Frank Darabont    \n",
       "1  rganized crime dynasty's aging patriarch trans...  Francis Ford Coppola    \n",
       "2   the menace known as the Joker wreaks havoc an...     Christopher Nolan    \n",
       "3  early life and career of Vito Corleone in 1920...  Francis Ford Coppola    \n",
       "4  lives of two mob hitmen, a boxer, a gangster a...     Quentin Tarantino    \n",
       "\n",
       "                                              actors    votes  gross_millions  \n",
       "0  Tim Robbins, Morgan Freeman, Bob Gunton, Willi...  2451775           28.34  \n",
       "1  Marlon Brando, Al Pacino, James Caan, Diane Ke...  1696937          134.97  \n",
       "2  Christian Bale, Heath Ledger, Aaron Eckhart, M...  2407467          534.86  \n",
       "3  Al Pacino, Robert De Niro, Robert Duvall, Dian...  1178645           57.30  \n",
       "4  John Travolta, Uma Thurman, Samuel L. Jackson,...  1900380          107.93  "
      ]
     },
     "execution_count": 125,
     "metadata": {},
     "output_type": "execute_result"
    }
   ],
   "source": [
    "df_clean.head()"
   ]
  },
  {
   "cell_type": "code",
   "execution_count": 126,
   "id": "b4452b53",
   "metadata": {
    "ExecuteTime": {
     "end_time": "2021-09-05T12:22:25.729065Z",
     "start_time": "2021-09-05T12:22:25.703098Z"
    }
   },
   "outputs": [
    {
     "name": "stdout",
     "output_type": "stream",
     "text": [
      "<class 'pandas.core.frame.DataFrame'>\n",
      "RangeIndex: 1060 entries, 0 to 1059\n",
      "Data columns (total 12 columns):\n",
      " #   Column          Non-Null Count  Dtype  \n",
      "---  ------          --------------  -----  \n",
      " 0   Unnamed: 0      1060 non-null   int64  \n",
      " 1   id              1060 non-null   int64  \n",
      " 2   name            1060 non-null   object \n",
      " 3   year            1060 non-null   int64  \n",
      " 4   run_time_mins   1060 non-null   int64  \n",
      " 5   genre           1060 non-null   object \n",
      " 6   rating          1060 non-null   float64\n",
      " 7   about           1060 non-null   object \n",
      " 8   director        1060 non-null   object \n",
      " 9   actors          1060 non-null   object \n",
      " 10  votes           1060 non-null   int64  \n",
      " 11  gross_millions  1060 non-null   float64\n",
      "dtypes: float64(2), int64(5), object(5)\n",
      "memory usage: 99.5+ KB\n"
     ]
    }
   ],
   "source": [
    "df_clean.info()"
   ]
  },
  {
   "cell_type": "markdown",
   "id": "19293d76",
   "metadata": {},
   "source": [
    "# Pearson Correlational Heatmap"
   ]
  },
  {
   "cell_type": "code",
   "execution_count": 127,
   "id": "111b3725",
   "metadata": {
    "ExecuteTime": {
     "end_time": "2021-09-05T12:22:30.942560Z",
     "start_time": "2021-09-05T12:22:30.541440Z"
    }
   },
   "outputs": [
    {
     "data": {
      "text/plain": [
       "<AxesSubplot:>"
      ]
     },
     "execution_count": 127,
     "metadata": {},
     "output_type": "execute_result"
    },
    {
     "data": {
      "image/png": "[encoded data removed]",
      "text/plain": [
       "<Figure size 432x288 with 2 Axes>"
      ]
     },
     "metadata": {
      "needs_background": "light"
     },
     "output_type": "display_data"
    }
   ],
   "source": [
    "sns.heatmap(df_clean.corr())"
   ]
  },
  {
   "cell_type": "markdown",
   "id": "8ff5218d",
   "metadata": {},
   "source": [
    "The gross feature which is how much a movie made when it was released is highly correlated with:\n",
    "\n",
    "- votes\n",
    "- rating\n",
    "- runtime\n",
    "- year\n",
    "\n",
    "This implies that gross income has a strong linear correlation with these features which is a very good indicator of revenue generators."
   ]
  },
  {
   "cell_type": "markdown",
   "id": "5991286b",
   "metadata": {},
   "source": [
    "# Distribution of Gross"
   ]
  },
  {
   "cell_type": "code",
   "execution_count": 128,
   "id": "f57b7a5d",
   "metadata": {
    "ExecuteTime": {
     "end_time": "2021-09-05T12:22:33.405880Z",
     "start_time": "2021-09-05T12:22:33.180843Z"
    }
   },
   "outputs": [
    {
     "data": {
      "text/plain": [
       "<AxesSubplot:>"
      ]
     },
     "execution_count": 128,
     "metadata": {},
     "output_type": "execute_result"
    },
    {
     "data": {
      "image/png": "[encoded data removed]",
      "text/plain": [
       "<Figure size 432x288 with 1 Axes>"
      ]
     },
     "metadata": {
      "needs_background": "light"
     },
     "output_type": "display_data"
    }
   ],
   "source": [
    "df_clean['gross_millions'].hist()"
   ]
  },
  {
   "cell_type": "markdown",
   "id": "cd6d3ad1",
   "metadata": {},
   "source": [
    "# Distribution of Votes"
   ]
  },
  {
   "cell_type": "code",
   "execution_count": 129,
   "id": "0112e569",
   "metadata": {
    "ExecuteTime": {
     "end_time": "2021-09-05T12:22:34.926837Z",
     "start_time": "2021-09-05T12:22:34.672493Z"
    }
   },
   "outputs": [
    {
     "data": {
      "text/plain": [
       "<AxesSubplot:>"
      ]
     },
     "execution_count": 129,
     "metadata": {},
     "output_type": "execute_result"
    },
    {
     "data": {
      "image/png": "[encoded data removed]",
      "text/plain": [
       "<Figure size 432x288 with 1 Axes>"
      ]
     },
     "metadata": {
      "needs_background": "light"
     },
     "output_type": "display_data"
    }
   ],
   "source": [
    "df_clean['votes'].hist()"
   ]
  },
  {
   "cell_type": "markdown",
   "id": "3781c57c",
   "metadata": {},
   "source": [
    "# Distribution of Ratings"
   ]
  },
  {
   "cell_type": "code",
   "execution_count": 130,
   "id": "2a601b32",
   "metadata": {
    "ExecuteTime": {
     "end_time": "2021-09-05T12:22:36.385900Z",
     "start_time": "2021-09-05T12:22:36.141077Z"
    }
   },
   "outputs": [
    {
     "data": {
      "text/plain": [
       "<AxesSubplot:>"
      ]
     },
     "execution_count": 130,
     "metadata": {},
     "output_type": "execute_result"
    },
    {
     "data": {
      "image/png": "[encoded data removed]",
      "text/plain": [
       "<Figure size 432x288 with 1 Axes>"
      ]
     },
     "metadata": {
      "needs_background": "light"
     },
     "output_type": "display_data"
    }
   ],
   "source": [
    "df_clean['rating'].hist()"
   ]
  },
  {
   "cell_type": "markdown",
   "id": "f2041658",
   "metadata": {},
   "source": [
    "# Distribution of Run Time"
   ]
  },
  {
   "cell_type": "code",
   "execution_count": 131,
   "id": "f50daef1",
   "metadata": {
    "ExecuteTime": {
     "end_time": "2021-09-05T12:22:37.773897Z",
     "start_time": "2021-09-05T12:22:37.545044Z"
    }
   },
   "outputs": [
    {
     "data": {
      "text/plain": [
       "<AxesSubplot:>"
      ]
     },
     "execution_count": 131,
     "metadata": {},
     "output_type": "execute_result"
    },
    {
     "data": {
      "image/png": "[encoded data removed]",
      "text/plain": [
       "<Figure size 432x288 with 1 Axes>"
      ]
     },
     "metadata": {
      "needs_background": "light"
     },
     "output_type": "display_data"
    }
   ],
   "source": [
    "df_clean['run_time_mins'].hist()"
   ]
  },
  {
   "cell_type": "markdown",
   "id": "0bd81bac",
   "metadata": {},
   "source": [
    "# Distribution of Years"
   ]
  },
  {
   "cell_type": "code",
   "execution_count": 132,
   "id": "59730b6c",
   "metadata": {
    "ExecuteTime": {
     "end_time": "2021-09-05T12:22:39.276385Z",
     "start_time": "2021-09-05T12:22:39.015749Z"
    }
   },
   "outputs": [
    {
     "data": {
      "text/plain": [
       "<AxesSubplot:>"
      ]
     },
     "execution_count": 132,
     "metadata": {},
     "output_type": "execute_result"
    },
    {
     "data": {
      "image/png": "[encoded data removed]",
      "text/plain": [
       "<Figure size 432x288 with 1 Axes>"
      ]
     },
     "metadata": {
      "needs_background": "light"
     },
     "output_type": "display_data"
    }
   ],
   "source": [
    "df_clean['year'].hist()"
   ]
  },
  {
   "cell_type": "markdown",
   "id": "0bf2e514",
   "metadata": {},
   "source": [
    "# Which Directors create the highest grossing movies?"
   ]
  },
  {
   "cell_type": "code",
   "execution_count": 133,
   "id": "6d017e9f",
   "metadata": {
    "ExecuteTime": {
     "end_time": "2021-09-05T12:22:40.496392Z",
     "start_time": "2021-09-05T12:22:40.484423Z"
    }
   },
   "outputs": [],
   "source": [
    "director_gross = df_clean.groupby('director')['gross_millions'].mean().sort_values(ascending=False)"
   ]
  },
  {
   "cell_type": "code",
   "execution_count": 134,
   "id": "d07278c3",
   "metadata": {
    "ExecuteTime": {
     "end_time": "2021-09-05T12:22:41.377214Z",
     "start_time": "2021-09-05T12:22:41.110489Z"
    }
   },
   "outputs": [
    {
     "data": {
      "text/plain": [
       "<AxesSubplot:xlabel='director'>"
      ]
     },
     "execution_count": 134,
     "metadata": {},
     "output_type": "execute_result"
    },
    {
     "data": {
      "image/png": "[encoded data removed]",
      "text/plain": [
       "<Figure size 432x288 with 1 Axes>"
      ]
     },
     "metadata": {
      "needs_background": "light"
     },
     "output_type": "display_data"
    }
   ],
   "source": [
    "director_gross[:10].plot(kind='bar')"
   ]
  },
  {
   "cell_type": "markdown",
   "id": "913ec265",
   "metadata": {},
   "source": [
    "# Which Directors create the lowest grossing movies?"
   ]
  },
  {
   "cell_type": "code",
   "execution_count": 135,
   "id": "e0772723",
   "metadata": {
    "ExecuteTime": {
     "end_time": "2021-09-05T12:22:43.020758Z",
     "start_time": "2021-09-05T12:22:42.735312Z"
    }
   },
   "outputs": [
    {
     "data": {
      "text/plain": [
       "<AxesSubplot:xlabel='director'>"
      ]
     },
     "execution_count": 135,
     "metadata": {},
     "output_type": "execute_result"
    },
    {
     "data": {
      "image/png": "[encoded data removed]",
      "text/plain": [
       "<Figure size 432x288 with 1 Axes>"
      ]
     },
     "metadata": {
      "needs_background": "light"
     },
     "output_type": "display_data"
    }
   ],
   "source": [
    "director_gross[-10:].plot(kind='bar')"
   ]
  },
  {
   "cell_type": "markdown",
   "id": "6673d908",
   "metadata": {},
   "source": [
    "# Which is the highest Grossing movie?"
   ]
  },
  {
   "cell_type": "code",
   "execution_count": 136,
   "id": "527cbaea",
   "metadata": {
    "ExecuteTime": {
     "end_time": "2021-09-05T12:22:44.170376Z",
     "start_time": "2021-09-05T12:22:44.154714Z"
    }
   },
   "outputs": [
    {
     "data": {
      "text/plain": [
       "936.66"
      ]
     },
     "execution_count": 136,
     "metadata": {},
     "output_type": "execute_result"
    }
   ],
   "source": [
    "np.max(df_clean['gross_millions'])"
   ]
  },
  {
   "cell_type": "code",
   "execution_count": 137,
   "id": "66676929",
   "metadata": {
    "ExecuteTime": {
     "end_time": "2021-09-05T12:22:45.054167Z",
     "start_time": "2021-09-05T12:22:45.024025Z"
    }
   },
   "outputs": [
    {
     "data": {
      "text/html": [
       "<div>\n",
       "<style scoped>\n",
       "    .dataframe tbody tr th:only-of-type {\n",
       "        vertical-align: middle;\n",
       "    }\n",
       "\n",
       "    .dataframe tbody tr th {\n",
       "        vertical-align: top;\n",
       "    }\n",
       "\n",
       "    .dataframe thead th {\n",
       "        text-align: right;\n",
       "    }\n",
       "</style>\n",
       "<table border=\"1\" class=\"dataframe\">\n",
       "  <thead>\n",
       "    <tr style=\"text-align: right;\">\n",
       "      <th></th>\n",
       "      <th>Unnamed: 0</th>\n",
       "      <th>id</th>\n",
       "      <th>name</th>\n",
       "      <th>year</th>\n",
       "      <th>run_time_mins</th>\n",
       "      <th>genre</th>\n",
       "      <th>rating</th>\n",
       "      <th>about</th>\n",
       "      <th>director</th>\n",
       "      <th>actors</th>\n",
       "      <th>votes</th>\n",
       "      <th>gross_millions</th>\n",
       "    </tr>\n",
       "  </thead>\n",
       "  <tbody>\n",
       "    <tr>\n",
       "      <th>199</th>\n",
       "      <td>199</td>\n",
       "      <td>203</td>\n",
       "      <td>Star Wars: Episode VII - The Force Awakens</td>\n",
       "      <td>2015</td>\n",
       "      <td>138</td>\n",
       "      <td>Action, Adventure, Sci-Fi</td>\n",
       "      <td>7.8</td>\n",
       "      <td>new threat to the galaxy rises, Rey, a desert...</td>\n",
       "      <td>J.J. Abrams</td>\n",
       "      <td>Daisy Ridley, John Boyega, Oscar Isaac, Domhna...</td>\n",
       "      <td>882891</td>\n",
       "      <td>936.66</td>\n",
       "    </tr>\n",
       "  </tbody>\n",
       "</table>\n",
       "</div>"
      ],
      "text/plain": [
       "     Unnamed: 0   id                                        name  year  \\\n",
       "199         199  203  Star Wars: Episode VII - The Force Awakens  2015   \n",
       "\n",
       "     run_time_mins                                  genre  rating  \\\n",
       "199            138  Action, Adventure, Sci-Fi                 7.8   \n",
       "\n",
       "                                                 about      director  \\\n",
       "199   new threat to the galaxy rises, Rey, a desert...  J.J. Abrams    \n",
       "\n",
       "                                                actors   votes  gross_millions  \n",
       "199  Daisy Ridley, John Boyega, Oscar Isaac, Domhna...  882891          936.66  "
      ]
     },
     "execution_count": 137,
     "metadata": {},
     "output_type": "execute_result"
    }
   ],
   "source": [
    "df_clean[df_clean['gross_millions'] == 936.66]"
   ]
  },
  {
   "cell_type": "markdown",
   "id": "ca7d359b",
   "metadata": {},
   "source": [
    "The highest grossing film is `Star Wars: Episode VII - The Force Awakens` which was directed by J.J. Abrams\t"
   ]
  },
  {
   "cell_type": "markdown",
   "id": "6acbdbb6",
   "metadata": {},
   "source": [
    "# Which is the lowest Grossing movie?"
   ]
  },
  {
   "cell_type": "code",
   "execution_count": 138,
   "id": "f79f69ce",
   "metadata": {
    "ExecuteTime": {
     "end_time": "2021-09-05T12:22:47.135889Z",
     "start_time": "2021-09-05T12:22:47.117904Z"
    }
   },
   "outputs": [
    {
     "data": {
      "text/plain": [
       "0.0"
      ]
     },
     "execution_count": 138,
     "metadata": {},
     "output_type": "execute_result"
    }
   ],
   "source": [
    "np.min(df_clean['gross_millions'])"
   ]
  },
  {
   "cell_type": "code",
   "execution_count": 139,
   "id": "6193ae2b",
   "metadata": {
    "ExecuteTime": {
     "end_time": "2021-09-05T12:22:47.750723Z",
     "start_time": "2021-09-05T12:22:47.722761Z"
    }
   },
   "outputs": [
    {
     "data": {
      "text/html": [
       "<div>\n",
       "<style scoped>\n",
       "    .dataframe tbody tr th:only-of-type {\n",
       "        vertical-align: middle;\n",
       "    }\n",
       "\n",
       "    .dataframe tbody tr th {\n",
       "        vertical-align: top;\n",
       "    }\n",
       "\n",
       "    .dataframe thead th {\n",
       "        text-align: right;\n",
       "    }\n",
       "</style>\n",
       "<table border=\"1\" class=\"dataframe\">\n",
       "  <thead>\n",
       "    <tr style=\"text-align: right;\">\n",
       "      <th></th>\n",
       "      <th>Unnamed: 0</th>\n",
       "      <th>id</th>\n",
       "      <th>name</th>\n",
       "      <th>year</th>\n",
       "      <th>run_time_mins</th>\n",
       "      <th>genre</th>\n",
       "      <th>rating</th>\n",
       "      <th>about</th>\n",
       "      <th>director</th>\n",
       "      <th>actors</th>\n",
       "      <th>votes</th>\n",
       "      <th>gross_millions</th>\n",
       "    </tr>\n",
       "  </thead>\n",
       "  <tbody>\n",
       "    <tr>\n",
       "      <th>259</th>\n",
       "      <td>265</td>\n",
       "      <td>23</td>\n",
       "      <td>Oro</td>\n",
       "      <td>2017</td>\n",
       "      <td>103</td>\n",
       "      <td>Adventure, Drama, History</td>\n",
       "      <td>5.7</td>\n",
       "      <td>, ambition, treason and death clash in a never...</td>\n",
       "      <td>Agustín Díaz Yanes</td>\n",
       "      <td>Raúl Arévalo, Bárbara Lennie, Óscar Jaenada, J...</td>\n",
       "      <td>1623</td>\n",
       "      <td>0.0</td>\n",
       "    </tr>\n",
       "    <tr>\n",
       "      <th>324</th>\n",
       "      <td>335</td>\n",
       "      <td>96</td>\n",
       "      <td>Réparer les vivants</td>\n",
       "      <td>2016</td>\n",
       "      <td>103</td>\n",
       "      <td>Drama</td>\n",
       "      <td>6.9</td>\n",
       "      <td>ngle devastating event intertwines inextricabl...</td>\n",
       "      <td>Katell Quillévéré</td>\n",
       "      <td>Tahar Rahim, Emmanuelle Seigner, Anne Dorval, ...</td>\n",
       "      <td>3128</td>\n",
       "      <td>0.0</td>\n",
       "    </tr>\n",
       "    <tr>\n",
       "      <th>328</th>\n",
       "      <td>339</td>\n",
       "      <td>100</td>\n",
       "      <td>Ága</td>\n",
       "      <td>2018</td>\n",
       "      <td>96</td>\n",
       "      <td>Drama</td>\n",
       "      <td>7.3</td>\n",
       "      <td>he far north, Sedna and Nanook dream of bringi...</td>\n",
       "      <td>Milko Lazarov</td>\n",
       "      <td>Mikhail Aprosimov, Feodosia Ivanova, Sergei Eg...</td>\n",
       "      <td>1350</td>\n",
       "      <td>0.0</td>\n",
       "    </tr>\n",
       "    <tr>\n",
       "      <th>772</th>\n",
       "      <td>871</td>\n",
       "      <td>182</td>\n",
       "      <td>Hyena Road</td>\n",
       "      <td>2015</td>\n",
       "      <td>120</td>\n",
       "      <td>Action, Drama, War</td>\n",
       "      <td>6.5</td>\n",
       "      <td>e different men, three different worlds, three...</td>\n",
       "      <td>Paul Gross</td>\n",
       "      <td>Rossif Sutherland, Allan Hawco, David Richmond...</td>\n",
       "      <td>7455</td>\n",
       "      <td>0.0</td>\n",
       "    </tr>\n",
       "    <tr>\n",
       "      <th>819</th>\n",
       "      <td>918</td>\n",
       "      <td>2</td>\n",
       "      <td>Death of a Superhero</td>\n",
       "      <td>2011</td>\n",
       "      <td>97</td>\n",
       "      <td>Drama</td>\n",
       "      <td>7.1</td>\n",
       "      <td>ing 15-year-old boy draws stories of an invinc...</td>\n",
       "      <td>Ian Fitzgibbon</td>\n",
       "      <td>Thomas Brodie-Sangster, Lilly Forgách, Ian Fit...</td>\n",
       "      <td>3529</td>\n",
       "      <td>0.0</td>\n",
       "    </tr>\n",
       "    <tr>\n",
       "      <th>1016</th>\n",
       "      <td>1152</td>\n",
       "      <td>147</td>\n",
       "      <td>Death Defying Acts</td>\n",
       "      <td>2007</td>\n",
       "      <td>97</td>\n",
       "      <td>Drama, History, Romance</td>\n",
       "      <td>5.8</td>\n",
       "      <td>tour of Britain in 1926, Harry Houdini (Guy P...</td>\n",
       "      <td>Gillian Armstrong</td>\n",
       "      <td>Catherine Zeta-Jones, Guy Pearce, Timothy Spal...</td>\n",
       "      <td>9994</td>\n",
       "      <td>0.0</td>\n",
       "    </tr>\n",
       "  </tbody>\n",
       "</table>\n",
       "</div>"
      ],
      "text/plain": [
       "      Unnamed: 0   id                  name  year  run_time_mins  \\\n",
       "259          265   23                   Oro  2017            103   \n",
       "324          335   96   Réparer les vivants  2016            103   \n",
       "328          339  100                   Ága  2018             96   \n",
       "772          871  182            Hyena Road  2015            120   \n",
       "819          918    2  Death of a Superhero  2011             97   \n",
       "1016        1152  147    Death Defying Acts  2007             97   \n",
       "\n",
       "                                      genre  rating  \\\n",
       "259   Adventure, Drama, History                 5.7   \n",
       "324                       Drama                 6.9   \n",
       "328                       Drama                 7.3   \n",
       "772          Action, Drama, War                 6.5   \n",
       "819                       Drama                 7.1   \n",
       "1016    Drama, History, Romance                 5.8   \n",
       "\n",
       "                                                  about             director  \\\n",
       "259   , ambition, treason and death clash in a never...  Agustín Díaz Yanes    \n",
       "324   ngle devastating event intertwines inextricabl...   Katell Quillévéré    \n",
       "328   he far north, Sedna and Nanook dream of bringi...       Milko Lazarov    \n",
       "772   e different men, three different worlds, three...          Paul Gross    \n",
       "819   ing 15-year-old boy draws stories of an invinc...      Ian Fitzgibbon    \n",
       "1016   tour of Britain in 1926, Harry Houdini (Guy P...   Gillian Armstrong    \n",
       "\n",
       "                                                 actors  votes  gross_millions  \n",
       "259   Raúl Arévalo, Bárbara Lennie, Óscar Jaenada, J...   1623             0.0  \n",
       "324   Tahar Rahim, Emmanuelle Seigner, Anne Dorval, ...   3128             0.0  \n",
       "328   Mikhail Aprosimov, Feodosia Ivanova, Sergei Eg...   1350             0.0  \n",
       "772   Rossif Sutherland, Allan Hawco, David Richmond...   7455             0.0  \n",
       "819   Thomas Brodie-Sangster, Lilly Forgách, Ian Fit...   3529             0.0  \n",
       "1016  Catherine Zeta-Jones, Guy Pearce, Timothy Spal...   9994             0.0  "
      ]
     },
     "execution_count": 139,
     "metadata": {},
     "output_type": "execute_result"
    }
   ],
   "source": [
    "df_clean[df_clean['gross_millions'] == 0.0]"
   ]
  },
  {
   "cell_type": "markdown",
   "id": "b2e5dab6",
   "metadata": {},
   "source": [
    "# Which Directors create the highest voted movies?"
   ]
  },
  {
   "cell_type": "code",
   "execution_count": 140,
   "id": "fb8aaea6",
   "metadata": {
    "ExecuteTime": {
     "end_time": "2021-09-05T12:22:48.985548Z",
     "start_time": "2021-09-05T12:22:48.972549Z"
    }
   },
   "outputs": [],
   "source": [
    "director_vote = df_clean.groupby('director')['votes'].mean().sort_values(ascending=False)"
   ]
  },
  {
   "cell_type": "code",
   "execution_count": 141,
   "id": "246c3297",
   "metadata": {
    "ExecuteTime": {
     "end_time": "2021-09-05T12:22:49.855921Z",
     "start_time": "2021-09-05T12:22:49.554653Z"
    }
   },
   "outputs": [
    {
     "data": {
      "text/plain": [
       "<AxesSubplot:xlabel='director'>"
      ]
     },
     "execution_count": 141,
     "metadata": {},
     "output_type": "execute_result"
    },
    {
     "data": {
      "image/png": "[encoded data removed]",
      "text/plain": [
       "<Figure size 432x288 with 1 Axes>"
      ]
     },
     "metadata": {
      "needs_background": "light"
     },
     "output_type": "display_data"
    }
   ],
   "source": [
    "director_vote[:10].plot(kind='bar')"
   ]
  },
  {
   "cell_type": "markdown",
   "id": "739942c4",
   "metadata": {},
   "source": [
    "# Which Directors create the lowest voted movies?"
   ]
  },
  {
   "cell_type": "code",
   "execution_count": 142,
   "id": "00d169ec",
   "metadata": {
    "ExecuteTime": {
     "end_time": "2021-09-05T12:22:51.411297Z",
     "start_time": "2021-09-05T12:22:51.111177Z"
    }
   },
   "outputs": [
    {
     "data": {
      "text/plain": [
       "<AxesSubplot:xlabel='director'>"
      ]
     },
     "execution_count": 142,
     "metadata": {},
     "output_type": "execute_result"
    },
    {
     "data": {
      "image/png": "[encoded data removed]",
      "text/plain": [
       "<Figure size 432x288 with 1 Axes>"
      ]
     },
     "metadata": {
      "needs_background": "light"
     },
     "output_type": "display_data"
    }
   ],
   "source": [
    "director_vote[-10:].plot(kind='bar')"
   ]
  },
  {
   "cell_type": "markdown",
   "id": "cbda53da",
   "metadata": {},
   "source": [
    "# Which is the highest voted movie?"
   ]
  },
  {
   "cell_type": "code",
   "execution_count": 143,
   "id": "92ae8ba3",
   "metadata": {
    "ExecuteTime": {
     "end_time": "2021-09-05T12:22:52.507093Z",
     "start_time": "2021-09-05T12:22:52.494091Z"
    }
   },
   "outputs": [
    {
     "data": {
      "text/plain": [
       "2451775"
      ]
     },
     "execution_count": 143,
     "metadata": {},
     "output_type": "execute_result"
    }
   ],
   "source": [
    "np.max(df_clean['votes'])"
   ]
  },
  {
   "cell_type": "code",
   "execution_count": 144,
   "id": "a37f41d4",
   "metadata": {
    "ExecuteTime": {
     "end_time": "2021-09-05T12:22:53.180501Z",
     "start_time": "2021-09-05T12:22:53.142602Z"
    }
   },
   "outputs": [
    {
     "data": {
      "text/html": [
       "<div>\n",
       "<style scoped>\n",
       "    .dataframe tbody tr th:only-of-type {\n",
       "        vertical-align: middle;\n",
       "    }\n",
       "\n",
       "    .dataframe tbody tr th {\n",
       "        vertical-align: top;\n",
       "    }\n",
       "\n",
       "    .dataframe thead th {\n",
       "        text-align: right;\n",
       "    }\n",
       "</style>\n",
       "<table border=\"1\" class=\"dataframe\">\n",
       "  <thead>\n",
       "    <tr style=\"text-align: right;\">\n",
       "      <th></th>\n",
       "      <th>Unnamed: 0</th>\n",
       "      <th>id</th>\n",
       "      <th>name</th>\n",
       "      <th>year</th>\n",
       "      <th>run_time_mins</th>\n",
       "      <th>genre</th>\n",
       "      <th>rating</th>\n",
       "      <th>about</th>\n",
       "      <th>director</th>\n",
       "      <th>actors</th>\n",
       "      <th>votes</th>\n",
       "      <th>gross_millions</th>\n",
       "    </tr>\n",
       "  </thead>\n",
       "  <tbody>\n",
       "    <tr>\n",
       "      <th>0</th>\n",
       "      <td>0</td>\n",
       "      <td>1</td>\n",
       "      <td>The Shawshank Redemption</td>\n",
       "      <td>1994</td>\n",
       "      <td>142</td>\n",
       "      <td>Drama</td>\n",
       "      <td>9.3</td>\n",
       "      <td>imprisoned men bond over a number of years, fi...</td>\n",
       "      <td>Frank Darabont</td>\n",
       "      <td>Tim Robbins, Morgan Freeman, Bob Gunton, Willi...</td>\n",
       "      <td>2451775</td>\n",
       "      <td>28.34</td>\n",
       "    </tr>\n",
       "  </tbody>\n",
       "</table>\n",
       "</div>"
      ],
      "text/plain": [
       "   Unnamed: 0  id                      name  year  run_time_mins  \\\n",
       "0           0   1  The Shawshank Redemption  1994            142   \n",
       "\n",
       "               genre  rating  \\\n",
       "0  Drama                 9.3   \n",
       "\n",
       "                                               about         director  \\\n",
       "0  imprisoned men bond over a number of years, fi...  Frank Darabont    \n",
       "\n",
       "                                              actors    votes  gross_millions  \n",
       "0  Tim Robbins, Morgan Freeman, Bob Gunton, Willi...  2451775           28.34  "
      ]
     },
     "execution_count": 144,
     "metadata": {},
     "output_type": "execute_result"
    }
   ],
   "source": [
    "df_clean[df_clean['votes'] == 2451775]"
   ]
  },
  {
   "cell_type": "markdown",
   "id": "e5303d1f",
   "metadata": {},
   "source": [
    "The highest grossing film is `The Shawshank Redemption` which was directed by Frank Darabont"
   ]
  },
  {
   "cell_type": "markdown",
   "id": "e5f11ea4",
   "metadata": {},
   "source": [
    "# Which is the lowest voted movie?"
   ]
  },
  {
   "cell_type": "code",
   "execution_count": 145,
   "id": "a139f43d",
   "metadata": {
    "ExecuteTime": {
     "end_time": "2021-09-05T12:22:59.970177Z",
     "start_time": "2021-09-05T12:22:59.954329Z"
    }
   },
   "outputs": [
    {
     "data": {
      "text/plain": [
       "55"
      ]
     },
     "execution_count": 145,
     "metadata": {},
     "output_type": "execute_result"
    }
   ],
   "source": [
    "np.min(df_clean['votes'])"
   ]
  },
  {
   "cell_type": "code",
   "execution_count": 146,
   "id": "022fb922",
   "metadata": {
    "ExecuteTime": {
     "end_time": "2021-09-05T12:23:00.771978Z",
     "start_time": "2021-09-05T12:23:00.733047Z"
    }
   },
   "outputs": [
    {
     "data": {
      "text/html": [
       "<div>\n",
       "<style scoped>\n",
       "    .dataframe tbody tr th:only-of-type {\n",
       "        vertical-align: middle;\n",
       "    }\n",
       "\n",
       "    .dataframe tbody tr th {\n",
       "        vertical-align: top;\n",
       "    }\n",
       "\n",
       "    .dataframe thead th {\n",
       "        text-align: right;\n",
       "    }\n",
       "</style>\n",
       "<table border=\"1\" class=\"dataframe\">\n",
       "  <thead>\n",
       "    <tr style=\"text-align: right;\">\n",
       "      <th></th>\n",
       "      <th>Unnamed: 0</th>\n",
       "      <th>id</th>\n",
       "      <th>name</th>\n",
       "      <th>year</th>\n",
       "      <th>run_time_mins</th>\n",
       "      <th>genre</th>\n",
       "      <th>rating</th>\n",
       "      <th>about</th>\n",
       "      <th>director</th>\n",
       "      <th>actors</th>\n",
       "      <th>votes</th>\n",
       "      <th>gross_millions</th>\n",
       "    </tr>\n",
       "  </thead>\n",
       "  <tbody>\n",
       "    <tr>\n",
       "      <th>373</th>\n",
       "      <td>387</td>\n",
       "      <td>150</td>\n",
       "      <td>As I Lay Dying</td>\n",
       "      <td>2018</td>\n",
       "      <td>80</td>\n",
       "      <td>Drama</td>\n",
       "      <td>5.6</td>\n",
       "      <td>mily of four persons go to a remote village to...</td>\n",
       "      <td>Mostafa Sayari</td>\n",
       "      <td>Madjid Aghakarimi, Nader Fallah, Elham Korda, ...</td>\n",
       "      <td>55</td>\n",
       "      <td>16.27</td>\n",
       "    </tr>\n",
       "  </tbody>\n",
       "</table>\n",
       "</div>"
      ],
      "text/plain": [
       "     Unnamed: 0   id            name  year  run_time_mins              genre  \\\n",
       "373         387  150  As I Lay Dying  2018             80  Drama               \n",
       "\n",
       "     rating                                              about  \\\n",
       "373     5.6  mily of four persons go to a remote village to...   \n",
       "\n",
       "            director                                             actors  \\\n",
       "373  Mostafa Sayari   Madjid Aghakarimi, Nader Fallah, Elham Korda, ...   \n",
       "\n",
       "     votes  gross_millions  \n",
       "373     55           16.27  "
      ]
     },
     "execution_count": 146,
     "metadata": {},
     "output_type": "execute_result"
    }
   ],
   "source": [
    "df_clean[df_clean['votes'] == 55]"
   ]
  },
  {
   "cell_type": "markdown",
   "id": "0092bc4c",
   "metadata": {},
   "source": [
    "# Which Directors create the highest Rated movies?"
   ]
  },
  {
   "cell_type": "code",
   "execution_count": 147,
   "id": "b2b80e92",
   "metadata": {
    "ExecuteTime": {
     "end_time": "2021-09-05T12:23:02.044683Z",
     "start_time": "2021-09-05T12:23:02.029721Z"
    }
   },
   "outputs": [],
   "source": [
    "director_rates = df_clean.groupby('director')['rating'].mean().sort_values(ascending=False)"
   ]
  },
  {
   "cell_type": "code",
   "execution_count": 148,
   "id": "609addf6",
   "metadata": {
    "ExecuteTime": {
     "end_time": "2021-09-05T12:23:03.067983Z",
     "start_time": "2021-09-05T12:23:02.785652Z"
    }
   },
   "outputs": [
    {
     "data": {
      "text/plain": [
       "<AxesSubplot:xlabel='director'>"
      ]
     },
     "execution_count": 148,
     "metadata": {},
     "output_type": "execute_result"
    },
    {
     "data": {
      "image/png": "[encoded data removed]",
      "text/plain": [
       "<Figure size 432x288 with 1 Axes>"
      ]
     },
     "metadata": {
      "needs_background": "light"
     },
     "output_type": "display_data"
    }
   ],
   "source": [
    "director_rates[:10].plot(kind='bar')"
   ]
  },
  {
   "cell_type": "markdown",
   "id": "a584a1c2",
   "metadata": {},
   "source": [
    "# Which Directors create the lowest Rated movies?"
   ]
  },
  {
   "cell_type": "code",
   "execution_count": 149,
   "id": "4f9df87e",
   "metadata": {
    "ExecuteTime": {
     "end_time": "2021-09-05T12:23:04.634532Z",
     "start_time": "2021-09-05T12:23:04.342051Z"
    }
   },
   "outputs": [
    {
     "data": {
      "text/plain": [
       "<AxesSubplot:xlabel='director'>"
      ]
     },
     "execution_count": 149,
     "metadata": {},
     "output_type": "execute_result"
    },
    {
     "data": {
      "image/png": "[encoded data removed]",
      "text/plain": [
       "<Figure size 432x288 with 1 Axes>"
      ]
     },
     "metadata": {
      "needs_background": "light"
     },
     "output_type": "display_data"
    }
   ],
   "source": [
    "director_rates[-10:].plot(kind='bar')"
   ]
  },
  {
   "cell_type": "markdown",
   "id": "3a5de54d",
   "metadata": {},
   "source": [
    "# Which is the highest Rated movie?"
   ]
  },
  {
   "cell_type": "code",
   "execution_count": 150,
   "id": "6e10b72c",
   "metadata": {
    "ExecuteTime": {
     "end_time": "2021-09-05T12:23:05.995081Z",
     "start_time": "2021-09-05T12:23:05.983109Z"
    }
   },
   "outputs": [
    {
     "data": {
      "text/plain": [
       "9.3"
      ]
     },
     "execution_count": 150,
     "metadata": {},
     "output_type": "execute_result"
    }
   ],
   "source": [
    "np.max(df_clean['rating'])"
   ]
  },
  {
   "cell_type": "code",
   "execution_count": 151,
   "id": "011b770f",
   "metadata": {
    "ExecuteTime": {
     "end_time": "2021-09-05T12:23:06.644740Z",
     "start_time": "2021-09-05T12:23:06.609834Z"
    }
   },
   "outputs": [
    {
     "data": {
      "text/html": [
       "<div>\n",
       "<style scoped>\n",
       "    .dataframe tbody tr th:only-of-type {\n",
       "        vertical-align: middle;\n",
       "    }\n",
       "\n",
       "    .dataframe tbody tr th {\n",
       "        vertical-align: top;\n",
       "    }\n",
       "\n",
       "    .dataframe thead th {\n",
       "        text-align: right;\n",
       "    }\n",
       "</style>\n",
       "<table border=\"1\" class=\"dataframe\">\n",
       "  <thead>\n",
       "    <tr style=\"text-align: right;\">\n",
       "      <th></th>\n",
       "      <th>Unnamed: 0</th>\n",
       "      <th>id</th>\n",
       "      <th>name</th>\n",
       "      <th>year</th>\n",
       "      <th>run_time_mins</th>\n",
       "      <th>genre</th>\n",
       "      <th>rating</th>\n",
       "      <th>about</th>\n",
       "      <th>director</th>\n",
       "      <th>actors</th>\n",
       "      <th>votes</th>\n",
       "      <th>gross_millions</th>\n",
       "    </tr>\n",
       "  </thead>\n",
       "  <tbody>\n",
       "    <tr>\n",
       "      <th>0</th>\n",
       "      <td>0</td>\n",
       "      <td>1</td>\n",
       "      <td>The Shawshank Redemption</td>\n",
       "      <td>1994</td>\n",
       "      <td>142</td>\n",
       "      <td>Drama</td>\n",
       "      <td>9.3</td>\n",
       "      <td>imprisoned men bond over a number of years, fi...</td>\n",
       "      <td>Frank Darabont</td>\n",
       "      <td>Tim Robbins, Morgan Freeman, Bob Gunton, Willi...</td>\n",
       "      <td>2451775</td>\n",
       "      <td>28.34</td>\n",
       "    </tr>\n",
       "  </tbody>\n",
       "</table>\n",
       "</div>"
      ],
      "text/plain": [
       "   Unnamed: 0  id                      name  year  run_time_mins  \\\n",
       "0           0   1  The Shawshank Redemption  1994            142   \n",
       "\n",
       "               genre  rating  \\\n",
       "0  Drama                 9.3   \n",
       "\n",
       "                                               about         director  \\\n",
       "0  imprisoned men bond over a number of years, fi...  Frank Darabont    \n",
       "\n",
       "                                              actors    votes  gross_millions  \n",
       "0  Tim Robbins, Morgan Freeman, Bob Gunton, Willi...  2451775           28.34  "
      ]
     },
     "execution_count": 151,
     "metadata": {},
     "output_type": "execute_result"
    }
   ],
   "source": [
    "df_clean[df_clean['rating'] == 9.3]"
   ]
  },
  {
   "cell_type": "markdown",
   "id": "438aea62",
   "metadata": {},
   "source": [
    "The highest rated film is `The Shawshank Redemption` which was directed by Frank Darabont."
   ]
  },
  {
   "cell_type": "markdown",
   "id": "aab911f3",
   "metadata": {},
   "source": [
    "# Which is the lowest Rated movie?"
   ]
  },
  {
   "cell_type": "code",
   "execution_count": 152,
   "id": "86b42100",
   "metadata": {
    "ExecuteTime": {
     "end_time": "2021-09-05T12:23:09.840189Z",
     "start_time": "2021-09-05T12:23:09.834206Z"
    }
   },
   "outputs": [
    {
     "data": {
      "text/plain": [
       "4.2"
      ]
     },
     "execution_count": 152,
     "metadata": {},
     "output_type": "execute_result"
    }
   ],
   "source": [
    "np.min(df_clean['rating'])"
   ]
  },
  {
   "cell_type": "code",
   "execution_count": 153,
   "id": "864c012d",
   "metadata": {
    "ExecuteTime": {
     "end_time": "2021-09-05T12:23:10.572264Z",
     "start_time": "2021-09-05T12:23:10.548328Z"
    }
   },
   "outputs": [
    {
     "data": {
      "text/html": [
       "<div>\n",
       "<style scoped>\n",
       "    .dataframe tbody tr th:only-of-type {\n",
       "        vertical-align: middle;\n",
       "    }\n",
       "\n",
       "    .dataframe tbody tr th {\n",
       "        vertical-align: top;\n",
       "    }\n",
       "\n",
       "    .dataframe thead th {\n",
       "        text-align: right;\n",
       "    }\n",
       "</style>\n",
       "<table border=\"1\" class=\"dataframe\">\n",
       "  <thead>\n",
       "    <tr style=\"text-align: right;\">\n",
       "      <th></th>\n",
       "      <th>Unnamed: 0</th>\n",
       "      <th>id</th>\n",
       "      <th>name</th>\n",
       "      <th>year</th>\n",
       "      <th>run_time_mins</th>\n",
       "      <th>genre</th>\n",
       "      <th>rating</th>\n",
       "      <th>about</th>\n",
       "      <th>director</th>\n",
       "      <th>actors</th>\n",
       "      <th>votes</th>\n",
       "      <th>gross_millions</th>\n",
       "    </tr>\n",
       "  </thead>\n",
       "  <tbody>\n",
       "    <tr>\n",
       "      <th>868</th>\n",
       "      <td>973</td>\n",
       "      <td>60</td>\n",
       "      <td>Fantastic Four</td>\n",
       "      <td>2015</td>\n",
       "      <td>100</td>\n",
       "      <td>Action, Adventure, Sci-Fi</td>\n",
       "      <td>4.2</td>\n",
       "      <td>young outsiders teleport to an alternate and ...</td>\n",
       "      <td>Josh Trank, Stephen E. Rivkin</td>\n",
       "      <td>Miles Teller, Kate Mara, Michael B. Jordan, Ja...</td>\n",
       "      <td>158154</td>\n",
       "      <td>56.12</td>\n",
       "    </tr>\n",
       "  </tbody>\n",
       "</table>\n",
       "</div>"
      ],
      "text/plain": [
       "     Unnamed: 0  id            name  year  run_time_mins  \\\n",
       "868         973  60  Fantastic Four  2015            100   \n",
       "\n",
       "                                     genre  rating  \\\n",
       "868  Action, Adventure, Sci-Fi                 4.2   \n",
       "\n",
       "                                                 about  \\\n",
       "868   young outsiders teleport to an alternate and ...   \n",
       "\n",
       "                           director  \\\n",
       "868  Josh Trank, Stephen E. Rivkin    \n",
       "\n",
       "                                                actors   votes  gross_millions  \n",
       "868  Miles Teller, Kate Mara, Michael B. Jordan, Ja...  158154           56.12  "
      ]
     },
     "execution_count": 153,
     "metadata": {},
     "output_type": "execute_result"
    }
   ],
   "source": [
    "df_clean[df_clean['rating'] == 4.2]"
   ]
  },
  {
   "cell_type": "markdown",
   "id": "5433676b",
   "metadata": {},
   "source": [
    "# Word-Cloud from about feature"
   ]
  },
  {
   "cell_type": "code",
   "execution_count": 154,
   "id": "0598548d",
   "metadata": {
    "ExecuteTime": {
     "end_time": "2021-09-05T12:23:12.497498Z",
     "start_time": "2021-09-05T12:23:11.944372Z"
    }
   },
   "outputs": [
    {
     "data": {
      "image/png": "[encoded data removed]",
      "text/plain": [
       "<Figure size 800x800 with 1 Axes>"
      ]
     },
     "metadata": {
      "needs_background": "light"
     },
     "output_type": "display_data"
    }
   ],
   "source": [
    "from wordcloud import WordCloud, STOPWORDS, ImageColorGenerator\n",
    "\n",
    "text = ' '.join([word for review in df_clean['about']\n",
    "                     for word in review.split()])\n",
    "wordcloud_about = WordCloud(background_color=\"white\",\n",
    "                          colormap='viridis', max_words=50,\n",
    "                          collocations=False).generate(text)\n",
    "plt.figure(figsize=(4, 4), dpi=200)\n",
    "plt.title('Word Cloud of about column', fontsize=7)\n",
    "plt.imshow(wordcloud_about, interpolation='bilinear')\n",
    "plt.axis(\"off\")\n",
    "plt.show()"
   ]
  },
  {
   "cell_type": "markdown",
   "id": "1dd9aff4",
   "metadata": {},
   "source": [
    "Common words that can be seen are World, War, love, life, find, woman etc."
   ]
  }
 ],
 "metadata": {
  "kernelspec": {
   "display_name": "Python 3",
   "language": "python",
   "name": "python3"
  },
  "language_info": {
   "codemirror_mode": {
    "name": "ipython",
    "version": 3
   },
   "file_extension": ".py",
   "mimetype": "text/x-python",
   "name": "python",
   "nbconvert_exporter": "python",
   "pygments_lexer": "ipython3",
   "version": "3.8.8"
  },
  "latex_envs": {
   "LaTeX_envs_menu_present": true,
   "autoclose": false,
   "autocomplete": true,
   "bibliofile": "biblio.bib",
   "cite_by": "apalike",
   "current_citInitial": 1,
   "eqLabelWithNumbers": true,
   "eqNumInitial": 1,
   "hotkeys": {
    "equation": "Ctrl-E",
    "itemize": "Ctrl-I"
   },
   "labels_anchors": false,
   "latex_user_defs": false,
   "report_style_numbering": false,
   "user_envs_cfg": false
  }
 },
 "nbformat": 4,
 "nbformat_minor": 5
}
