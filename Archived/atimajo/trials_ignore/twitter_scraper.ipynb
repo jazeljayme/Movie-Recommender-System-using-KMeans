{
 "cells": [
  {
   "cell_type": "code",
   "execution_count": 9,
   "id": "559a364d",
   "metadata": {
    "ExecuteTime": {
     "end_time": "2021-08-25T11:02:29.092899Z",
     "start_time": "2021-08-25T11:02:29.077943Z"
    }
   },
   "outputs": [],
   "source": [
    "key = 'huy6txRfkRqiGYDWu2zYstemI'\n",
    "secret = 'jsN7AUtvWg7vQClonGZ6op6wgtNUYOBNkY61cBo9dtjPPBfpOn'\n",
    "at = '1149663947676479488-SqSmdgkOqEv8kYql2AqymVzu7N3owf'\n",
    "ats = 'qAzpgAJEG4sBhwoCOuK4qk1EPLFrx7uTQcABLHJ8ZsRPM'\n",
    "bearer_token = 'AAAAAAAAAAAAAAAAAAAAAN%2BVHwEAAAAAvz3LJ4BUYy6RQ5fLPYloJedOUn0%3D3aicDernDbCYlVz4rvRS5UGY6mINKYS7pFzR2IdbpLRuUohh7o'\n",
    "\n",
    "limit = 150\n",
    "word_q = '#VACCINE'"
   ]
  },
  {
   "cell_type": "code",
   "execution_count": 3,
   "id": "213363cb",
   "metadata": {
    "ExecuteTime": {
     "end_time": "2021-08-25T10:52:51.803242Z",
     "start_time": "2021-08-25T10:52:38.623738Z"
    }
   },
   "outputs": [
    {
     "name": "stdout",
     "output_type": "stream",
     "text": [
      "Collecting tweepy\n",
      "  Downloading tweepy-3.10.0-py2.py3-none-any.whl (30 kB)\n",
      "Collecting requests-oauthlib>=0.7.0\n",
      "  Downloading requests_oauthlib-1.3.0-py2.py3-none-any.whl (23 kB)\n",
      "Requirement already satisfied: six>=1.10.0 in c:\\users\\timaj\\anaconda3\\lib\\site-packages (from tweepy) (1.15.0)\n",
      "Requirement already satisfied: requests[socks]>=2.11.1 in c:\\users\\timaj\\anaconda3\\lib\\site-packages (from tweepy) (2.25.1)\n",
      "Collecting oauthlib>=3.0.0\n",
      "  Downloading oauthlib-3.1.1-py2.py3-none-any.whl (146 kB)\n",
      "Requirement already satisfied: certifi>=2017.4.17 in c:\\users\\timaj\\anaconda3\\lib\\site-packages (from requests[socks]>=2.11.1->tweepy) (2020.12.5)\n",
      "Requirement already satisfied: urllib3<1.27,>=1.21.1 in c:\\users\\timaj\\anaconda3\\lib\\site-packages (from requests[socks]>=2.11.1->tweepy) (1.26.4)\n",
      "Requirement already satisfied: idna<3,>=2.5 in c:\\users\\timaj\\anaconda3\\lib\\site-packages (from requests[socks]>=2.11.1->tweepy) (2.10)\n",
      "Requirement already satisfied: chardet<5,>=3.0.2 in c:\\users\\timaj\\anaconda3\\lib\\site-packages (from requests[socks]>=2.11.1->tweepy) (4.0.0)\n",
      "Requirement already satisfied: PySocks!=1.5.7,>=1.5.6 in c:\\users\\timaj\\anaconda3\\lib\\site-packages (from requests[socks]>=2.11.1->tweepy) (1.7.1)\n",
      "Installing collected packages: oauthlib, requests-oauthlib, tweepy\n",
      "Successfully installed oauthlib-3.1.1 requests-oauthlib-1.3.0 tweepy-3.10.0\n",
      "Collecting textblob\n",
      "  Downloading textblob-0.15.3-py2.py3-none-any.whl (636 kB)\n",
      "Requirement already satisfied: nltk>=3.1 in c:\\users\\timaj\\anaconda3\\lib\\site-packages (from textblob) (3.6.1)\n",
      "Requirement already satisfied: click in c:\\users\\timaj\\anaconda3\\lib\\site-packages (from nltk>=3.1->textblob) (7.1.2)\n",
      "Requirement already satisfied: joblib in c:\\users\\timaj\\anaconda3\\lib\\site-packages (from nltk>=3.1->textblob) (1.0.1)\n",
      "Requirement already satisfied: tqdm in c:\\users\\timaj\\anaconda3\\lib\\site-packages (from nltk>=3.1->textblob) (4.59.0)\n",
      "Requirement already satisfied: regex in c:\\users\\timaj\\anaconda3\\lib\\site-packages (from nltk>=3.1->textblob) (2021.4.4)\n",
      "Installing collected packages: textblob\n",
      "Successfully installed textblob-0.15.3\n"
     ]
    }
   ],
   "source": [
    "!pip3 install tweepy\n",
    "!pip3 install textblob"
   ]
  },
  {
   "cell_type": "code",
   "execution_count": 10,
   "id": "da0f3800",
   "metadata": {
    "ExecuteTime": {
     "end_time": "2021-08-25T11:02:31.400184Z",
     "start_time": "2021-08-25T11:02:31.387185Z"
    }
   },
   "outputs": [],
   "source": [
    "filename = 'vaccines.csv'"
   ]
  },
  {
   "cell_type": "code",
   "execution_count": 11,
   "id": "de311cd0",
   "metadata": {
    "ExecuteTime": {
     "end_time": "2021-08-25T11:02:32.328548Z",
     "start_time": "2021-08-25T11:02:32.272259Z"
    }
   },
   "outputs": [
    {
     "ename": "NameError",
     "evalue": "name '__file__' is not defined",
     "output_type": "error",
     "traceback": [
      "\u001b[1;31m---------------------------------------------------------------------------\u001b[0m",
      "\u001b[1;31mNameError\u001b[0m                                 Traceback (most recent call last)",
      "\u001b[1;32m<ipython-input-11-c426bcf0860e>\u001b[0m in \u001b[0;36m<module>\u001b[1;34m\u001b[0m\n\u001b[0;32m     61\u001b[0m \u001b[0mnew_file\u001b[0m\u001b[1;33m.\u001b[0m\u001b[0mcreate_file\u001b[0m\u001b[1;33m(\u001b[0m\u001b[0mfilename\u001b[0m\u001b[1;33m)\u001b[0m\u001b[1;33m\u001b[0m\u001b[1;33m\u001b[0m\u001b[0m\n\u001b[0;32m     62\u001b[0m \u001b[0mnamefile\u001b[0m \u001b[1;33m=\u001b[0m \u001b[0mfilename\u001b[0m\u001b[1;33m\u001b[0m\u001b[1;33m\u001b[0m\u001b[0m\n\u001b[1;32m---> 63\u001b[1;33m \u001b[0mdir_name\u001b[0m \u001b[1;33m=\u001b[0m \u001b[0mos\u001b[0m\u001b[1;33m.\u001b[0m\u001b[0mpath\u001b[0m\u001b[1;33m.\u001b[0m\u001b[0mdirname\u001b[0m\u001b[1;33m(\u001b[0m\u001b[0mos\u001b[0m\u001b[1;33m.\u001b[0m\u001b[0mpath\u001b[0m\u001b[1;33m.\u001b[0m\u001b[0mabspath\u001b[0m\u001b[1;33m(\u001b[0m\u001b[0m__file__\u001b[0m\u001b[1;33m)\u001b[0m\u001b[1;33m)\u001b[0m\u001b[1;33m\u001b[0m\u001b[1;33m\u001b[0m\u001b[0m\n\u001b[0m\u001b[0;32m     64\u001b[0m \u001b[0mfile_dir\u001b[0m \u001b[1;33m=\u001b[0m \u001b[0mopen\u001b[0m\u001b[1;33m(\u001b[0m\u001b[0mdir_name\u001b[0m\u001b[1;33m+\u001b[0m\u001b[1;34m\"/\"\u001b[0m\u001b[1;33m+\u001b[0m\u001b[0mnamefile\u001b[0m\u001b[1;33m,\u001b[0m\u001b[1;34m'r'\u001b[0m\u001b[1;33m,\u001b[0m \u001b[0mencoding\u001b[0m\u001b[1;33m=\u001b[0m\u001b[1;34m'ISO-8859-1'\u001b[0m\u001b[1;33m)\u001b[0m\u001b[1;33m\u001b[0m\u001b[1;33m\u001b[0m\u001b[0m\n\u001b[0;32m     65\u001b[0m \u001b[0mcsvFile\u001b[0m \u001b[1;33m=\u001b[0m \u001b[0mopen\u001b[0m\u001b[1;33m(\u001b[0m\u001b[0mdir_name\u001b[0m\u001b[1;33m+\u001b[0m\u001b[1;34m\"/\"\u001b[0m\u001b[1;33m+\u001b[0m\u001b[0mnamefile\u001b[0m\u001b[1;33m,\u001b[0m\u001b[1;34m'a'\u001b[0m\u001b[1;33m)\u001b[0m\u001b[1;33m\u001b[0m\u001b[1;33m\u001b[0m\u001b[0m\n",
      "\u001b[1;31mNameError\u001b[0m: name '__file__' is not defined"
     ]
    }
   ],
   "source": [
    "import csv, tweepy, os\n",
    "from textblob import TextBlob\n",
    "import new_file\n",
    "\n",
    "class Conn:\n",
    "    '''\n",
    "        twitter credentials class\n",
    "    '''\n",
    "    def __init__(self, *args):\n",
    "        self.ck = key    #consumer key\n",
    "        self.cs = secret    #consumer secret\n",
    "        self.at = at  #access token\n",
    "        self.ats = ats  #access token secret\n",
    "\n",
    "    def tweep_creds(self):\n",
    "        auth = tweepy.OAuthHandler(self.ck, self.cs)\n",
    "        auth.set_access_token(self.at, self.ats)\n",
    "        return tweepy.API(auth, wait_on_rate_limit=True)\n",
    "\n",
    "#initialize api w/ twitter api credentials object\n",
    "api = Conn().tweep_creds()\n",
    "\n",
    "#function to add language to csv row\n",
    "def add_language(query_word, twt_lmt):\n",
    "    for tweet in list(tweepy.Cursor(api.search, q=query_word).items(twt_lmt)):\n",
    "\n",
    "        tweet = TextBlob(tweet.text)\n",
    "\n",
    "        language = tweet.detect_language()\n",
    "\n",
    "    return language\n",
    "\n",
    "#function to gather polarity of a specific tweet to estimate sentiments\n",
    "def add_sentiment(query_word,twt_lmt):\n",
    "    for tweet in list(tweepy.Cursor(api.search, q=query_word).items(twt_lmt)):\n",
    "\n",
    "        tweet = TextBlob(tweet.text)\n",
    "\n",
    "        if tweet.sentiment.polarity > 0:\n",
    "            sentiment = str(\"Positive_Tweet\")\n",
    "\n",
    "        elif tweet.sentiment.polarity < 0:\n",
    "            sentiment = str(\"Negative_Tweet\")\n",
    "\n",
    "        else:\n",
    "            sentiment = str(\"Neutral_Tweet\")\n",
    "\n",
    "    return sentiment\n",
    "\n",
    "# gather tweets using the initialized twitter api. \n",
    "def gather_tweets_sentiments(query_word,twt_lmt, sentiment, language):\n",
    "    counter = 0\n",
    "    for tweet in list(tweepy.Cursor(api.search, q=query_word).items(twt_lmt)):\n",
    "        csvWriter.writerow([tweet.text, tweet.user.screen_name, tweet.created_at, tweet.user.location, tweet.retweet_count, tweet.favorite_count, sentiment, language])\n",
    "        counter = counter + 1\n",
    "    return counter\n",
    "\n",
    "\n",
    "# tweet filename\n",
    "global csvWriter\n",
    "new_file.create_file(filename)\n",
    "namefile = filename\n",
    "dir_name = os.path.dirname(os.path.abspath(__file__))\n",
    "file_dir = open(dir_name+\"/\"+namefile,'r', encoding='ISO-8859-1')\n",
    "csvFile = open(dir_name+\"/\"+namefile,'a')\n",
    "csvreader = csv.reader(file_dir)\n",
    "csvWriter = csv.writer(csvFile)\n",
    "row_cnt = sum(1 for row in file_dir)\n",
    "\n",
    "\n",
    "q_words = query # enter query words here (separate by spaces)\n",
    "q_words = q_words.split()\n",
    "\n",
    "t_lmt = tweet_limit = 100 #adjust tweet limit accordingly\n",
    "limit_num = tweet_limit * len(q_words)\n",
    "new_rc = row_cnt\n",
    "\n",
    "for q in q_words:\n",
    "    new_rc += gather_tweets_sentiments(q, t_lmt, add_sentiment(q, t_lmt), add_language(q, t_lmt))\n",
    "\n",
    "\n",
    "print(\"initial rows: %s\\ngathered rows: %s\"%(row_cnt,new_rc-row_cnt))\n",
    "csvFile.close()"
   ]
  },
  {
   "cell_type": "code",
   "execution_count": null,
   "id": "be9dc07f",
   "metadata": {},
   "outputs": [],
   "source": []
  }
 ],
 "metadata": {
  "kernelspec": {
   "display_name": "Python 3",
   "language": "python",
   "name": "python3"
  },
  "language_info": {
   "codemirror_mode": {
    "name": "ipython",
    "version": 3
   },
   "file_extension": ".py",
   "mimetype": "text/x-python",
   "name": "python",
   "nbconvert_exporter": "python",
   "pygments_lexer": "ipython3",
   "version": "3.8.8"
  },
  "latex_envs": {
   "LaTeX_envs_menu_present": true,
   "autoclose": false,
   "autocomplete": true,
   "bibliofile": "biblio.bib",
   "cite_by": "apalike",
   "current_citInitial": 1,
   "eqLabelWithNumbers": true,
   "eqNumInitial": 1,
   "hotkeys": {
    "equation": "Ctrl-E",
    "itemize": "Ctrl-I"
   },
   "labels_anchors": false,
   "latex_user_defs": false,
   "report_style_numbering": false,
   "user_envs_cfg": false
  }
 },
 "nbformat": 4,
 "nbformat_minor": 5
}
