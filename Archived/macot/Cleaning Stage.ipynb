{
 "cells": [
  {
   "cell_type": "code",
   "execution_count": 263,
   "id": "ae056fb0",
   "metadata": {
    "ExecuteTime": {
     "end_time": "2021-09-05T07:37:45.803828Z",
     "start_time": "2021-09-05T07:37:45.799444Z"
    }
   },
   "outputs": [],
   "source": [
    "import pandas as pd\n",
    "import matplotlib.pyplot as plt"
   ]
  },
  {
   "cell_type": "code",
   "execution_count": 264,
   "id": "d10d4413",
   "metadata": {
    "ExecuteTime": {
     "end_time": "2021-09-05T07:37:46.762855Z",
     "start_time": "2021-09-05T07:37:46.722451Z"
    }
   },
   "outputs": [
    {
     "data": {
      "text/html": [
       "<div>\n",
       "<style scoped>\n",
       "    .dataframe tbody tr th:only-of-type {\n",
       "        vertical-align: middle;\n",
       "    }\n",
       "\n",
       "    .dataframe tbody tr th {\n",
       "        vertical-align: top;\n",
       "    }\n",
       "\n",
       "    .dataframe thead th {\n",
       "        text-align: right;\n",
       "    }\n",
       "</style>\n",
       "<table border=\"1\" class=\"dataframe\">\n",
       "  <thead>\n",
       "    <tr style=\"text-align: right;\">\n",
       "      <th></th>\n",
       "      <th>Unnamed: 0</th>\n",
       "      <th>id</th>\n",
       "      <th>name</th>\n",
       "      <th>year</th>\n",
       "      <th>run_time</th>\n",
       "      <th>genre</th>\n",
       "      <th>rating</th>\n",
       "      <th>about</th>\n",
       "      <th>director</th>\n",
       "      <th>actors</th>\n",
       "      <th>votes</th>\n",
       "      <th>gross</th>\n",
       "    </tr>\n",
       "  </thead>\n",
       "  <tbody>\n",
       "    <tr>\n",
       "      <th>0</th>\n",
       "      <td>0</td>\n",
       "      <td>1</td>\n",
       "      <td>The Shawshank Redemption</td>\n",
       "      <td>1994</td>\n",
       "      <td>142 min</td>\n",
       "      <td>Drama</td>\n",
       "      <td>9.3</td>\n",
       "      <td>imprisoned men bond over a number of years, fi...</td>\n",
       "      <td>Frank Darabont</td>\n",
       "      <td>Tim Robbins, Morgan Freeman, Bob Gunton, Willi...</td>\n",
       "      <td>2451775</td>\n",
       "      <td>$28.34M</td>\n",
       "    </tr>\n",
       "    <tr>\n",
       "      <th>1</th>\n",
       "      <td>1</td>\n",
       "      <td>2</td>\n",
       "      <td>The Godfather</td>\n",
       "      <td>1972</td>\n",
       "      <td>175 min</td>\n",
       "      <td>Crime, Drama</td>\n",
       "      <td>9.2</td>\n",
       "      <td>rganized crime dynasty's aging patriarch trans...</td>\n",
       "      <td>Francis Ford Coppola</td>\n",
       "      <td>Marlon Brando, Al Pacino, James Caan, Diane Ke...</td>\n",
       "      <td>1696937</td>\n",
       "      <td>$134.97M</td>\n",
       "    </tr>\n",
       "    <tr>\n",
       "      <th>2</th>\n",
       "      <td>2</td>\n",
       "      <td>3</td>\n",
       "      <td>The Dark Knight</td>\n",
       "      <td>2008</td>\n",
       "      <td>152 min</td>\n",
       "      <td>Action, Crime, Drama</td>\n",
       "      <td>9.0</td>\n",
       "      <td>the menace known as the Joker wreaks havoc an...</td>\n",
       "      <td>Christopher Nolan</td>\n",
       "      <td>Christian Bale, Heath Ledger, Aaron Eckhart, M...</td>\n",
       "      <td>2407467</td>\n",
       "      <td>$534.86M</td>\n",
       "    </tr>\n",
       "    <tr>\n",
       "      <th>3</th>\n",
       "      <td>3</td>\n",
       "      <td>4</td>\n",
       "      <td>The Godfather: Part II</td>\n",
       "      <td>1974</td>\n",
       "      <td>202 min</td>\n",
       "      <td>Crime, Drama</td>\n",
       "      <td>9.0</td>\n",
       "      <td>early life and career of Vito Corleone in 1920...</td>\n",
       "      <td>Francis Ford Coppola</td>\n",
       "      <td>Al Pacino, Robert De Niro, Robert Duvall, Dian...</td>\n",
       "      <td>1178645</td>\n",
       "      <td>$57.30M</td>\n",
       "    </tr>\n",
       "    <tr>\n",
       "      <th>4</th>\n",
       "      <td>4</td>\n",
       "      <td>5</td>\n",
       "      <td>Pulp Fiction</td>\n",
       "      <td>1994</td>\n",
       "      <td>154 min</td>\n",
       "      <td>Crime, Drama</td>\n",
       "      <td>8.9</td>\n",
       "      <td>lives of two mob hitmen, a boxer, a gangster a...</td>\n",
       "      <td>Quentin Tarantino</td>\n",
       "      <td>John Travolta, Uma Thurman, Samuel L. Jackson,...</td>\n",
       "      <td>1900380</td>\n",
       "      <td>$107.93M</td>\n",
       "    </tr>\n",
       "  </tbody>\n",
       "</table>\n",
       "</div>"
      ],
      "text/plain": [
       "   Unnamed: 0  id                      name  year run_time  \\\n",
       "0           0   1  The Shawshank Redemption  1994  142 min   \n",
       "1           1   2             The Godfather  1972  175 min   \n",
       "2           2   3           The Dark Knight  2008  152 min   \n",
       "3           3   4    The Godfather: Part II  1974  202 min   \n",
       "4           4   5              Pulp Fiction  1994  154 min   \n",
       "\n",
       "                              genre  rating  \\\n",
       "0                 Drama                 9.3   \n",
       "1          Crime, Drama                 9.2   \n",
       "2  Action, Crime, Drama                 9.0   \n",
       "3          Crime, Drama                 9.0   \n",
       "4          Crime, Drama                 8.9   \n",
       "\n",
       "                                               about               director  \\\n",
       "0  imprisoned men bond over a number of years, fi...        Frank Darabont    \n",
       "1  rganized crime dynasty's aging patriarch trans...  Francis Ford Coppola    \n",
       "2   the menace known as the Joker wreaks havoc an...     Christopher Nolan    \n",
       "3  early life and career of Vito Corleone in 1920...  Francis Ford Coppola    \n",
       "4  lives of two mob hitmen, a boxer, a gangster a...     Quentin Tarantino    \n",
       "\n",
       "                                              actors    votes     gross  \n",
       "0  Tim Robbins, Morgan Freeman, Bob Gunton, Willi...  2451775   $28.34M  \n",
       "1  Marlon Brando, Al Pacino, James Caan, Diane Ke...  1696937  $134.97M  \n",
       "2  Christian Bale, Heath Ledger, Aaron Eckhart, M...  2407467  $534.86M  \n",
       "3  Al Pacino, Robert De Niro, Robert Duvall, Dian...  1178645   $57.30M  \n",
       "4  John Travolta, Uma Thurman, Samuel L. Jackson,...  1900380  $107.93M  "
      ]
     },
     "execution_count": 264,
     "metadata": {},
     "output_type": "execute_result"
    }
   ],
   "source": [
    "df1 = pd.read_csv('first_250.csv')\n",
    "df1.head()"
   ]
  },
  {
   "cell_type": "code",
   "execution_count": 265,
   "id": "0148c39d",
   "metadata": {
    "ExecuteTime": {
     "end_time": "2021-09-05T07:37:47.172323Z",
     "start_time": "2021-09-05T07:37:47.159059Z"
    }
   },
   "outputs": [],
   "source": [
    "df2 = pd.read_csv('second_200.csv')"
   ]
  },
  {
   "cell_type": "code",
   "execution_count": 266,
   "id": "bb1bdedd",
   "metadata": {
    "ExecuteTime": {
     "end_time": "2021-09-05T07:37:47.443317Z",
     "start_time": "2021-09-05T07:37:47.433143Z"
    }
   },
   "outputs": [],
   "source": [
    "df3 = pd.read_csv('third_60_anime.csv')"
   ]
  },
  {
   "cell_type": "code",
   "execution_count": 267,
   "id": "50e4488b",
   "metadata": {
    "ExecuteTime": {
     "end_time": "2021-09-05T07:37:47.648924Z",
     "start_time": "2021-09-05T07:37:47.639714Z"
    }
   },
   "outputs": [],
   "source": [
    "df4 = pd.read_csv('fourth_23_cartoons.csv')"
   ]
  },
  {
   "cell_type": "code",
   "execution_count": 268,
   "id": "5d3d5d06",
   "metadata": {
    "ExecuteTime": {
     "end_time": "2021-09-05T07:37:47.829785Z",
     "start_time": "2021-09-05T07:37:47.820610Z"
    }
   },
   "outputs": [],
   "source": [
    "df5 = pd.read_csv('fifth_27_jb.csv')"
   ]
  },
  {
   "cell_type": "code",
   "execution_count": 269,
   "id": "8bf41903",
   "metadata": {
    "ExecuteTime": {
     "end_time": "2021-09-05T07:37:48.002411Z",
     "start_time": "2021-09-05T07:37:47.991383Z"
    }
   },
   "outputs": [],
   "source": [
    "df6 = pd.read_csv('sixth_250_classic.csv')"
   ]
  },
  {
   "cell_type": "code",
   "execution_count": 270,
   "id": "73f4c439",
   "metadata": {
    "ExecuteTime": {
     "end_time": "2021-09-05T07:37:48.175444Z",
     "start_time": "2021-09-05T07:37:48.165692Z"
    }
   },
   "outputs": [],
   "source": [
    "df7 = pd.read_csv('seventh_13_documentary.csv')"
   ]
  },
  {
   "cell_type": "code",
   "execution_count": 271,
   "id": "e42b4c48",
   "metadata": {
    "ExecuteTime": {
     "end_time": "2021-09-05T07:37:48.403680Z",
     "start_time": "2021-09-05T07:37:48.390495Z"
    }
   },
   "outputs": [],
   "source": [
    "df8 = pd.read_csv('eighth_230_War.csv')"
   ]
  },
  {
   "cell_type": "code",
   "execution_count": 272,
   "id": "dc9a5c8e",
   "metadata": {
    "ExecuteTime": {
     "end_time": "2021-09-05T07:37:48.586120Z",
     "start_time": "2021-09-05T07:37:48.576301Z"
    }
   },
   "outputs": [],
   "source": [
    "df9 = pd.read_csv('ninth_105_modern.csv')"
   ]
  },
  {
   "cell_type": "code",
   "execution_count": 273,
   "id": "269d9ed2",
   "metadata": {
    "ExecuteTime": {
     "end_time": "2021-09-05T07:37:48.782877Z",
     "start_time": "2021-09-05T07:37:48.770504Z"
    }
   },
   "outputs": [],
   "source": [
    "df10 = pd.read_csv('tenth_200_romantic_movies.csv')"
   ]
  },
  {
   "cell_type": "code",
   "execution_count": 274,
   "id": "eed10086",
   "metadata": {
    "ExecuteTime": {
     "end_time": "2021-09-05T07:37:58.103900Z",
     "start_time": "2021-09-05T07:37:58.081327Z"
    }
   },
   "outputs": [],
   "source": [
    "df = pd.concat([df1, df2, df3, df4, df5, df6, df7, df8, df9, df10], ignore_index=True)"
   ]
  },
  {
   "cell_type": "code",
   "execution_count": 275,
   "id": "428c68d7",
   "metadata": {
    "ExecuteTime": {
     "end_time": "2021-09-05T07:37:59.549824Z",
     "start_time": "2021-09-05T07:37:59.524126Z"
    }
   },
   "outputs": [],
   "source": [
    "df.to_csv('final.csv')"
   ]
  },
  {
   "cell_type": "code",
   "execution_count": null,
   "id": "3f273338",
   "metadata": {},
   "outputs": [],
   "source": []
  },
  {
   "cell_type": "code",
   "execution_count": 276,
   "id": "65fe747b",
   "metadata": {
    "ExecuteTime": {
     "end_time": "2021-09-05T07:38:04.452316Z",
     "start_time": "2021-09-05T07:38:04.432688Z"
    }
   },
   "outputs": [
    {
     "data": {
      "text/html": [
       "<div>\n",
       "<style scoped>\n",
       "    .dataframe tbody tr th:only-of-type {\n",
       "        vertical-align: middle;\n",
       "    }\n",
       "\n",
       "    .dataframe tbody tr th {\n",
       "        vertical-align: top;\n",
       "    }\n",
       "\n",
       "    .dataframe thead th {\n",
       "        text-align: right;\n",
       "    }\n",
       "</style>\n",
       "<table border=\"1\" class=\"dataframe\">\n",
       "  <thead>\n",
       "    <tr style=\"text-align: right;\">\n",
       "      <th></th>\n",
       "      <th>Unnamed: 0</th>\n",
       "      <th>id</th>\n",
       "      <th>name</th>\n",
       "      <th>year</th>\n",
       "      <th>run_time</th>\n",
       "      <th>genre</th>\n",
       "      <th>rating</th>\n",
       "      <th>about</th>\n",
       "      <th>director</th>\n",
       "      <th>actors</th>\n",
       "      <th>votes</th>\n",
       "      <th>gross</th>\n",
       "    </tr>\n",
       "  </thead>\n",
       "  <tbody>\n",
       "    <tr>\n",
       "      <th>0</th>\n",
       "      <td>0</td>\n",
       "      <td>1</td>\n",
       "      <td>The Shawshank Redemption</td>\n",
       "      <td>1994</td>\n",
       "      <td>142 min</td>\n",
       "      <td>Drama</td>\n",
       "      <td>9.3</td>\n",
       "      <td>imprisoned men bond over a number of years, fi...</td>\n",
       "      <td>Frank Darabont</td>\n",
       "      <td>Tim Robbins, Morgan Freeman, Bob Gunton, Willi...</td>\n",
       "      <td>2451775</td>\n",
       "      <td>$28.34M</td>\n",
       "    </tr>\n",
       "    <tr>\n",
       "      <th>1</th>\n",
       "      <td>1</td>\n",
       "      <td>2</td>\n",
       "      <td>The Godfather</td>\n",
       "      <td>1972</td>\n",
       "      <td>175 min</td>\n",
       "      <td>Crime, Drama</td>\n",
       "      <td>9.2</td>\n",
       "      <td>rganized crime dynasty's aging patriarch trans...</td>\n",
       "      <td>Francis Ford Coppola</td>\n",
       "      <td>Marlon Brando, Al Pacino, James Caan, Diane Ke...</td>\n",
       "      <td>1696937</td>\n",
       "      <td>$134.97M</td>\n",
       "    </tr>\n",
       "    <tr>\n",
       "      <th>2</th>\n",
       "      <td>2</td>\n",
       "      <td>3</td>\n",
       "      <td>The Dark Knight</td>\n",
       "      <td>2008</td>\n",
       "      <td>152 min</td>\n",
       "      <td>Action, Crime, Drama</td>\n",
       "      <td>9.0</td>\n",
       "      <td>the menace known as the Joker wreaks havoc an...</td>\n",
       "      <td>Christopher Nolan</td>\n",
       "      <td>Christian Bale, Heath Ledger, Aaron Eckhart, M...</td>\n",
       "      <td>2407467</td>\n",
       "      <td>$534.86M</td>\n",
       "    </tr>\n",
       "    <tr>\n",
       "      <th>3</th>\n",
       "      <td>3</td>\n",
       "      <td>4</td>\n",
       "      <td>The Godfather: Part II</td>\n",
       "      <td>1974</td>\n",
       "      <td>202 min</td>\n",
       "      <td>Crime, Drama</td>\n",
       "      <td>9.0</td>\n",
       "      <td>early life and career of Vito Corleone in 1920...</td>\n",
       "      <td>Francis Ford Coppola</td>\n",
       "      <td>Al Pacino, Robert De Niro, Robert Duvall, Dian...</td>\n",
       "      <td>1178645</td>\n",
       "      <td>$57.30M</td>\n",
       "    </tr>\n",
       "    <tr>\n",
       "      <th>4</th>\n",
       "      <td>4</td>\n",
       "      <td>5</td>\n",
       "      <td>Pulp Fiction</td>\n",
       "      <td>1994</td>\n",
       "      <td>154 min</td>\n",
       "      <td>Crime, Drama</td>\n",
       "      <td>8.9</td>\n",
       "      <td>lives of two mob hitmen, a boxer, a gangster a...</td>\n",
       "      <td>Quentin Tarantino</td>\n",
       "      <td>John Travolta, Uma Thurman, Samuel L. Jackson,...</td>\n",
       "      <td>1900380</td>\n",
       "      <td>$107.93M</td>\n",
       "    </tr>\n",
       "  </tbody>\n",
       "</table>\n",
       "</div>"
      ],
      "text/plain": [
       "   Unnamed: 0  id                      name  year run_time  \\\n",
       "0           0   1  The Shawshank Redemption  1994  142 min   \n",
       "1           1   2             The Godfather  1972  175 min   \n",
       "2           2   3           The Dark Knight  2008  152 min   \n",
       "3           3   4    The Godfather: Part II  1974  202 min   \n",
       "4           4   5              Pulp Fiction  1994  154 min   \n",
       "\n",
       "                              genre  rating  \\\n",
       "0                 Drama                 9.3   \n",
       "1          Crime, Drama                 9.2   \n",
       "2  Action, Crime, Drama                 9.0   \n",
       "3          Crime, Drama                 9.0   \n",
       "4          Crime, Drama                 8.9   \n",
       "\n",
       "                                               about               director  \\\n",
       "0  imprisoned men bond over a number of years, fi...        Frank Darabont    \n",
       "1  rganized crime dynasty's aging patriarch trans...  Francis Ford Coppola    \n",
       "2   the menace known as the Joker wreaks havoc an...     Christopher Nolan    \n",
       "3  early life and career of Vito Corleone in 1920...  Francis Ford Coppola    \n",
       "4  lives of two mob hitmen, a boxer, a gangster a...     Quentin Tarantino    \n",
       "\n",
       "                                              actors    votes     gross  \n",
       "0  Tim Robbins, Morgan Freeman, Bob Gunton, Willi...  2451775   $28.34M  \n",
       "1  Marlon Brando, Al Pacino, James Caan, Diane Ke...  1696937  $134.97M  \n",
       "2  Christian Bale, Heath Ledger, Aaron Eckhart, M...  2407467  $534.86M  \n",
       "3  Al Pacino, Robert De Niro, Robert Duvall, Dian...  1178645   $57.30M  \n",
       "4  John Travolta, Uma Thurman, Samuel L. Jackson,...  1900380  $107.93M  "
      ]
     },
     "execution_count": 276,
     "metadata": {},
     "output_type": "execute_result"
    }
   ],
   "source": [
    "df.head()"
   ]
  },
  {
   "cell_type": "code",
   "execution_count": 277,
   "id": "c0982af2",
   "metadata": {
    "ExecuteTime": {
     "end_time": "2021-09-05T07:38:05.981991Z",
     "start_time": "2021-09-05T07:38:05.973896Z"
    }
   },
   "outputs": [],
   "source": [
    "df = df.drop(['Unnamed: 0', 'id'], axis=1)"
   ]
  },
  {
   "cell_type": "code",
   "execution_count": 278,
   "id": "85ae19c7",
   "metadata": {
    "ExecuteTime": {
     "end_time": "2021-09-05T07:38:06.467845Z",
     "start_time": "2021-09-05T07:38:06.444187Z"
    }
   },
   "outputs": [
    {
     "data": {
      "text/html": [
       "<div>\n",
       "<style scoped>\n",
       "    .dataframe tbody tr th:only-of-type {\n",
       "        vertical-align: middle;\n",
       "    }\n",
       "\n",
       "    .dataframe tbody tr th {\n",
       "        vertical-align: top;\n",
       "    }\n",
       "\n",
       "    .dataframe thead th {\n",
       "        text-align: right;\n",
       "    }\n",
       "</style>\n",
       "<table border=\"1\" class=\"dataframe\">\n",
       "  <thead>\n",
       "    <tr style=\"text-align: right;\">\n",
       "      <th></th>\n",
       "      <th>name</th>\n",
       "      <th>year</th>\n",
       "      <th>run_time</th>\n",
       "      <th>genre</th>\n",
       "      <th>rating</th>\n",
       "      <th>about</th>\n",
       "      <th>director</th>\n",
       "      <th>actors</th>\n",
       "      <th>votes</th>\n",
       "      <th>gross</th>\n",
       "    </tr>\n",
       "  </thead>\n",
       "  <tbody>\n",
       "    <tr>\n",
       "      <th>0</th>\n",
       "      <td>The Shawshank Redemption</td>\n",
       "      <td>1994</td>\n",
       "      <td>142 min</td>\n",
       "      <td>Drama</td>\n",
       "      <td>9.3</td>\n",
       "      <td>imprisoned men bond over a number of years, fi...</td>\n",
       "      <td>Frank Darabont</td>\n",
       "      <td>Tim Robbins, Morgan Freeman, Bob Gunton, Willi...</td>\n",
       "      <td>2451775</td>\n",
       "      <td>$28.34M</td>\n",
       "    </tr>\n",
       "    <tr>\n",
       "      <th>1</th>\n",
       "      <td>The Godfather</td>\n",
       "      <td>1972</td>\n",
       "      <td>175 min</td>\n",
       "      <td>Crime, Drama</td>\n",
       "      <td>9.2</td>\n",
       "      <td>rganized crime dynasty's aging patriarch trans...</td>\n",
       "      <td>Francis Ford Coppola</td>\n",
       "      <td>Marlon Brando, Al Pacino, James Caan, Diane Ke...</td>\n",
       "      <td>1696937</td>\n",
       "      <td>$134.97M</td>\n",
       "    </tr>\n",
       "    <tr>\n",
       "      <th>2</th>\n",
       "      <td>The Dark Knight</td>\n",
       "      <td>2008</td>\n",
       "      <td>152 min</td>\n",
       "      <td>Action, Crime, Drama</td>\n",
       "      <td>9.0</td>\n",
       "      <td>the menace known as the Joker wreaks havoc an...</td>\n",
       "      <td>Christopher Nolan</td>\n",
       "      <td>Christian Bale, Heath Ledger, Aaron Eckhart, M...</td>\n",
       "      <td>2407467</td>\n",
       "      <td>$534.86M</td>\n",
       "    </tr>\n",
       "    <tr>\n",
       "      <th>3</th>\n",
       "      <td>The Godfather: Part II</td>\n",
       "      <td>1974</td>\n",
       "      <td>202 min</td>\n",
       "      <td>Crime, Drama</td>\n",
       "      <td>9.0</td>\n",
       "      <td>early life and career of Vito Corleone in 1920...</td>\n",
       "      <td>Francis Ford Coppola</td>\n",
       "      <td>Al Pacino, Robert De Niro, Robert Duvall, Dian...</td>\n",
       "      <td>1178645</td>\n",
       "      <td>$57.30M</td>\n",
       "    </tr>\n",
       "    <tr>\n",
       "      <th>4</th>\n",
       "      <td>Pulp Fiction</td>\n",
       "      <td>1994</td>\n",
       "      <td>154 min</td>\n",
       "      <td>Crime, Drama</td>\n",
       "      <td>8.9</td>\n",
       "      <td>lives of two mob hitmen, a boxer, a gangster a...</td>\n",
       "      <td>Quentin Tarantino</td>\n",
       "      <td>John Travolta, Uma Thurman, Samuel L. Jackson,...</td>\n",
       "      <td>1900380</td>\n",
       "      <td>$107.93M</td>\n",
       "    </tr>\n",
       "    <tr>\n",
       "      <th>...</th>\n",
       "      <td>...</td>\n",
       "      <td>...</td>\n",
       "      <td>...</td>\n",
       "      <td>...</td>\n",
       "      <td>...</td>\n",
       "      <td>...</td>\n",
       "      <td>...</td>\n",
       "      <td>...</td>\n",
       "      <td>...</td>\n",
       "      <td>...</td>\n",
       "    </tr>\n",
       "    <tr>\n",
       "      <th>1354</th>\n",
       "      <td>Ruby Sparks</td>\n",
       "      <td>2012</td>\n",
       "      <td>104 min</td>\n",
       "      <td>Comedy, Drama, Fantasy</td>\n",
       "      <td>7.2</td>\n",
       "      <td>velist struggling with writer's block finds ro...</td>\n",
       "      <td>Jonathan Dayton, Valerie Faris</td>\n",
       "      <td>Paul Dano, Zoe Kazan, Annette Bening, Antonio ...</td>\n",
       "      <td>98057</td>\n",
       "      <td>$2.54M</td>\n",
       "    </tr>\n",
       "    <tr>\n",
       "      <th>1355</th>\n",
       "      <td>Forgetting Sarah Marshall</td>\n",
       "      <td>2008</td>\n",
       "      <td>111 min</td>\n",
       "      <td>Comedy, Drama, Romance</td>\n",
       "      <td>7.1</td>\n",
       "      <td>stated Peter takes a Hawaiian vacation in orde...</td>\n",
       "      <td>Nicholas Stoller</td>\n",
       "      <td>Kristen Bell, Jason Segel, Paul Rudd, Mila Kunis</td>\n",
       "      <td>272993</td>\n",
       "      <td>$63.17M</td>\n",
       "    </tr>\n",
       "    <tr>\n",
       "      <th>1356</th>\n",
       "      <td>A Walk to Remember</td>\n",
       "      <td>2002</td>\n",
       "      <td>101 min</td>\n",
       "      <td>Drama, Romance</td>\n",
       "      <td>7.3</td>\n",
       "      <td>story of two North Carolina teens, Landon Cart...</td>\n",
       "      <td>Adam Shankman</td>\n",
       "      <td>Mandy Moore, Shane West, Peter Coyote, Daryl H...</td>\n",
       "      <td>204304</td>\n",
       "      <td>$41.23M</td>\n",
       "    </tr>\n",
       "    <tr>\n",
       "      <th>1357</th>\n",
       "      <td>Café Society</td>\n",
       "      <td>2016</td>\n",
       "      <td>96 min</td>\n",
       "      <td>Comedy, Drama, Romance</td>\n",
       "      <td>6.6</td>\n",
       "      <td>he 1930s, a Bronx native moves to Hollywood an...</td>\n",
       "      <td>Woody Allen</td>\n",
       "      <td>Jesse Eisenberg, Kristen Stewart, Steve Carell...</td>\n",
       "      <td>73899</td>\n",
       "      <td>$11.10M</td>\n",
       "    </tr>\n",
       "    <tr>\n",
       "      <th>1358</th>\n",
       "      <td>Easy A</td>\n",
       "      <td>2010</td>\n",
       "      <td>92 min</td>\n",
       "      <td>Comedy, Drama, Romance</td>\n",
       "      <td>7.0</td>\n",
       "      <td>ean-cut high school student relies on the scho...</td>\n",
       "      <td>Will Gluck</td>\n",
       "      <td>Emma Stone, Amanda Bynes, Penn Badgley, Dan Byrd</td>\n",
       "      <td>371420</td>\n",
       "      <td>$58.40M</td>\n",
       "    </tr>\n",
       "  </tbody>\n",
       "</table>\n",
       "<p>1359 rows × 10 columns</p>\n",
       "</div>"
      ],
      "text/plain": [
       "                           name  year run_time  \\\n",
       "0      The Shawshank Redemption  1994  142 min   \n",
       "1                 The Godfather  1972  175 min   \n",
       "2               The Dark Knight  2008  152 min   \n",
       "3        The Godfather: Part II  1974  202 min   \n",
       "4                  Pulp Fiction  1994  154 min   \n",
       "...                         ...   ...      ...   \n",
       "1354                Ruby Sparks  2012  104 min   \n",
       "1355  Forgetting Sarah Marshall  2008  111 min   \n",
       "1356         A Walk to Remember  2002  101 min   \n",
       "1357               Café Society  2016   96 min   \n",
       "1358                     Easy A  2010   92 min   \n",
       "\n",
       "                                   genre  rating  \\\n",
       "0                      Drama                 9.3   \n",
       "1               Crime, Drama                 9.2   \n",
       "2       Action, Crime, Drama                 9.0   \n",
       "3               Crime, Drama                 9.0   \n",
       "4               Crime, Drama                 8.9   \n",
       "...                                  ...     ...   \n",
       "1354  Comedy, Drama, Fantasy                 7.2   \n",
       "1355  Comedy, Drama, Romance                 7.1   \n",
       "1356          Drama, Romance                 7.3   \n",
       "1357  Comedy, Drama, Romance                 6.6   \n",
       "1358  Comedy, Drama, Romance                 7.0   \n",
       "\n",
       "                                                  about  \\\n",
       "0     imprisoned men bond over a number of years, fi...   \n",
       "1     rganized crime dynasty's aging patriarch trans...   \n",
       "2      the menace known as the Joker wreaks havoc an...   \n",
       "3     early life and career of Vito Corleone in 1920...   \n",
       "4     lives of two mob hitmen, a boxer, a gangster a...   \n",
       "...                                                 ...   \n",
       "1354  velist struggling with writer's block finds ro...   \n",
       "1355  stated Peter takes a Hawaiian vacation in orde...   \n",
       "1356  story of two North Carolina teens, Landon Cart...   \n",
       "1357  he 1930s, a Bronx native moves to Hollywood an...   \n",
       "1358  ean-cut high school student relies on the scho...   \n",
       "\n",
       "                             director  \\\n",
       "0                     Frank Darabont    \n",
       "1               Francis Ford Coppola    \n",
       "2                  Christopher Nolan    \n",
       "3               Francis Ford Coppola    \n",
       "4                  Quentin Tarantino    \n",
       "...                               ...   \n",
       "1354  Jonathan Dayton, Valerie Faris    \n",
       "1355                Nicholas Stoller    \n",
       "1356                   Adam Shankman    \n",
       "1357                     Woody Allen    \n",
       "1358                      Will Gluck    \n",
       "\n",
       "                                                 actors    votes     gross  \n",
       "0     Tim Robbins, Morgan Freeman, Bob Gunton, Willi...  2451775   $28.34M  \n",
       "1     Marlon Brando, Al Pacino, James Caan, Diane Ke...  1696937  $134.97M  \n",
       "2     Christian Bale, Heath Ledger, Aaron Eckhart, M...  2407467  $534.86M  \n",
       "3     Al Pacino, Robert De Niro, Robert Duvall, Dian...  1178645   $57.30M  \n",
       "4     John Travolta, Uma Thurman, Samuel L. Jackson,...  1900380  $107.93M  \n",
       "...                                                 ...      ...       ...  \n",
       "1354  Paul Dano, Zoe Kazan, Annette Bening, Antonio ...    98057    $2.54M  \n",
       "1355   Kristen Bell, Jason Segel, Paul Rudd, Mila Kunis   272993   $63.17M  \n",
       "1356  Mandy Moore, Shane West, Peter Coyote, Daryl H...   204304   $41.23M  \n",
       "1357  Jesse Eisenberg, Kristen Stewart, Steve Carell...    73899   $11.10M  \n",
       "1358   Emma Stone, Amanda Bynes, Penn Badgley, Dan Byrd   371420   $58.40M  \n",
       "\n",
       "[1359 rows x 10 columns]"
      ]
     },
     "execution_count": 278,
     "metadata": {},
     "output_type": "execute_result"
    }
   ],
   "source": [
    "df"
   ]
  },
  {
   "cell_type": "code",
   "execution_count": 279,
   "id": "a39797d4",
   "metadata": {
    "ExecuteTime": {
     "end_time": "2021-09-05T07:38:06.975009Z",
     "start_time": "2021-09-05T07:38:06.966788Z"
    }
   },
   "outputs": [
    {
     "data": {
      "text/plain": [
       "1214"
      ]
     },
     "execution_count": 279,
     "metadata": {},
     "output_type": "execute_result"
    }
   ],
   "source": [
    "df['name'].nunique()"
   ]
  },
  {
   "cell_type": "markdown",
   "id": "2dcee6d3",
   "metadata": {},
   "source": [
    "951 unique titles out of 1053.. let's check for duplicates.."
   ]
  },
  {
   "cell_type": "code",
   "execution_count": 280,
   "id": "f805edb3",
   "metadata": {
    "ExecuteTime": {
     "end_time": "2021-09-05T07:38:07.772485Z",
     "start_time": "2021-09-05T07:38:07.760720Z"
    }
   },
   "outputs": [
    {
     "data": {
      "text/plain": [
       "Hacksaw Ridge                  3\n",
       "Interstellar                   3\n",
       "The Kid                        3\n",
       "Casino Royale                  3\n",
       "Per qualche dollaro in più     3\n",
       "                              ..\n",
       "Black Lagoon                   1\n",
       "Rang De Basanti                1\n",
       "The Best Years of Our Lives    1\n",
       "Tobruk                         1\n",
       "Limitless                      1\n",
       "Name: name, Length: 1214, dtype: int64"
      ]
     },
     "execution_count": 280,
     "metadata": {},
     "output_type": "execute_result"
    }
   ],
   "source": [
    "df['name'].value_counts()"
   ]
  },
  {
   "cell_type": "code",
   "execution_count": 281,
   "id": "8a55f352",
   "metadata": {
    "ExecuteTime": {
     "end_time": "2021-09-05T07:38:08.307934Z",
     "start_time": "2021-09-05T07:38:08.289641Z"
    }
   },
   "outputs": [
    {
     "data": {
      "text/html": [
       "<div>\n",
       "<style scoped>\n",
       "    .dataframe tbody tr th:only-of-type {\n",
       "        vertical-align: middle;\n",
       "    }\n",
       "\n",
       "    .dataframe tbody tr th {\n",
       "        vertical-align: top;\n",
       "    }\n",
       "\n",
       "    .dataframe thead th {\n",
       "        text-align: right;\n",
       "    }\n",
       "</style>\n",
       "<table border=\"1\" class=\"dataframe\">\n",
       "  <thead>\n",
       "    <tr style=\"text-align: right;\">\n",
       "      <th></th>\n",
       "      <th>name</th>\n",
       "      <th>year</th>\n",
       "      <th>run_time</th>\n",
       "      <th>genre</th>\n",
       "      <th>rating</th>\n",
       "      <th>about</th>\n",
       "      <th>director</th>\n",
       "      <th>actors</th>\n",
       "      <th>votes</th>\n",
       "      <th>gross</th>\n",
       "    </tr>\n",
       "  </thead>\n",
       "  <tbody>\n",
       "    <tr>\n",
       "      <th>155</th>\n",
       "      <td>The Kid</td>\n",
       "      <td>1921</td>\n",
       "      <td>68 min</td>\n",
       "      <td>Comedy, Drama, Family</td>\n",
       "      <td>8.3</td>\n",
       "      <td>Tramp cares for an abandoned child, but events...</td>\n",
       "      <td>Charles Chaplin</td>\n",
       "      <td>Charles Chaplin, Edna Purviance, Jackie Coogan...</td>\n",
       "      <td>119485</td>\n",
       "      <td>$5.45M</td>\n",
       "    </tr>\n",
       "    <tr>\n",
       "      <th>310</th>\n",
       "      <td>The Kid</td>\n",
       "      <td>1921</td>\n",
       "      <td>68 min</td>\n",
       "      <td>Comedy, Drama, Family</td>\n",
       "      <td>8.3</td>\n",
       "      <td>Tramp cares for an abandoned child, but events...</td>\n",
       "      <td>Charles Chaplin</td>\n",
       "      <td>Charles Chaplin, Edna Purviance, Jackie Coogan...</td>\n",
       "      <td>119485</td>\n",
       "      <td>$5.45M</td>\n",
       "    </tr>\n",
       "    <tr>\n",
       "      <th>589</th>\n",
       "      <td>The Kid</td>\n",
       "      <td>1921</td>\n",
       "      <td>68 min</td>\n",
       "      <td>Comedy, Drama, Family</td>\n",
       "      <td>8.3</td>\n",
       "      <td>Tramp cares for an abandoned child, but events...</td>\n",
       "      <td>Charles Chaplin</td>\n",
       "      <td>Charles Chaplin, Edna Purviance, Jackie Coogan...</td>\n",
       "      <td>119633</td>\n",
       "      <td>$5.45M</td>\n",
       "    </tr>\n",
       "  </tbody>\n",
       "</table>\n",
       "</div>"
      ],
      "text/plain": [
       "        name  year run_time                              genre  rating  \\\n",
       "155  The Kid  1921   68 min  Comedy, Drama, Family                 8.3   \n",
       "310  The Kid  1921   68 min  Comedy, Drama, Family                 8.3   \n",
       "589  The Kid  1921   68 min  Comedy, Drama, Family                 8.3   \n",
       "\n",
       "                                                 about          director  \\\n",
       "155  Tramp cares for an abandoned child, but events...  Charles Chaplin    \n",
       "310  Tramp cares for an abandoned child, but events...  Charles Chaplin    \n",
       "589  Tramp cares for an abandoned child, but events...  Charles Chaplin    \n",
       "\n",
       "                                                actors   votes   gross  \n",
       "155  Charles Chaplin, Edna Purviance, Jackie Coogan...  119485  $5.45M  \n",
       "310  Charles Chaplin, Edna Purviance, Jackie Coogan...  119485  $5.45M  \n",
       "589  Charles Chaplin, Edna Purviance, Jackie Coogan...  119633  $5.45M  "
      ]
     },
     "execution_count": 281,
     "metadata": {},
     "output_type": "execute_result"
    }
   ],
   "source": [
    "df.loc[df['name'] == 'The Kid']"
   ]
  },
  {
   "cell_type": "code",
   "execution_count": 282,
   "id": "e090bb38",
   "metadata": {
    "ExecuteTime": {
     "end_time": "2021-09-05T07:38:08.820756Z",
     "start_time": "2021-09-05T07:38:08.799912Z"
    }
   },
   "outputs": [
    {
     "data": {
      "text/html": [
       "<div>\n",
       "<style scoped>\n",
       "    .dataframe tbody tr th:only-of-type {\n",
       "        vertical-align: middle;\n",
       "    }\n",
       "\n",
       "    .dataframe tbody tr th {\n",
       "        vertical-align: top;\n",
       "    }\n",
       "\n",
       "    .dataframe thead th {\n",
       "        text-align: right;\n",
       "    }\n",
       "</style>\n",
       "<table border=\"1\" class=\"dataframe\">\n",
       "  <thead>\n",
       "    <tr style=\"text-align: right;\">\n",
       "      <th></th>\n",
       "      <th>name</th>\n",
       "      <th>year</th>\n",
       "      <th>run_time</th>\n",
       "      <th>genre</th>\n",
       "      <th>rating</th>\n",
       "      <th>about</th>\n",
       "      <th>director</th>\n",
       "      <th>actors</th>\n",
       "      <th>votes</th>\n",
       "      <th>gross</th>\n",
       "    </tr>\n",
       "  </thead>\n",
       "  <tbody>\n",
       "    <tr>\n",
       "      <th>196</th>\n",
       "      <td>Smultronstället</td>\n",
       "      <td>1957</td>\n",
       "      <td>91 min</td>\n",
       "      <td>Drama, Romance</td>\n",
       "      <td>8.2</td>\n",
       "      <td>r living a life marked by coldness, an aging p...</td>\n",
       "      <td>Ingmar Bergman</td>\n",
       "      <td>Victor Sjöström, Bibi Andersson, Ingrid Thulin...</td>\n",
       "      <td>101549</td>\n",
       "      <td>NaN</td>\n",
       "    </tr>\n",
       "    <tr>\n",
       "      <th>319</th>\n",
       "      <td>Smultronstället</td>\n",
       "      <td>1957</td>\n",
       "      <td>91 min</td>\n",
       "      <td>Drama, Romance</td>\n",
       "      <td>8.2</td>\n",
       "      <td>r living a life marked by coldness, an aging p...</td>\n",
       "      <td>Ingmar Bergman</td>\n",
       "      <td>Victor Sjöström, Bibi Andersson, Ingrid Thulin...</td>\n",
       "      <td>101549</td>\n",
       "      <td>NaN</td>\n",
       "    </tr>\n",
       "    <tr>\n",
       "      <th>605</th>\n",
       "      <td>Smultronstället</td>\n",
       "      <td>1957</td>\n",
       "      <td>91 min</td>\n",
       "      <td>Drama, Romance</td>\n",
       "      <td>8.2</td>\n",
       "      <td>r living a life marked by coldness, an aging p...</td>\n",
       "      <td>Ingmar Bergman</td>\n",
       "      <td>Victor Sjöström, Bibi Andersson, Ingrid Thulin...</td>\n",
       "      <td>101700</td>\n",
       "      <td>NaN</td>\n",
       "    </tr>\n",
       "  </tbody>\n",
       "</table>\n",
       "</div>"
      ],
      "text/plain": [
       "                name  year run_time                       genre  rating  \\\n",
       "196  Smultronstället  1957   91 min  Drama, Romance                 8.2   \n",
       "319  Smultronstället  1957   91 min  Drama, Romance                 8.2   \n",
       "605  Smultronstället  1957   91 min  Drama, Romance                 8.2   \n",
       "\n",
       "                                                 about         director  \\\n",
       "196  r living a life marked by coldness, an aging p...  Ingmar Bergman    \n",
       "319  r living a life marked by coldness, an aging p...  Ingmar Bergman    \n",
       "605  r living a life marked by coldness, an aging p...  Ingmar Bergman    \n",
       "\n",
       "                                                actors   votes gross  \n",
       "196  Victor Sjöström, Bibi Andersson, Ingrid Thulin...  101549   NaN  \n",
       "319  Victor Sjöström, Bibi Andersson, Ingrid Thulin...  101549   NaN  \n",
       "605  Victor Sjöström, Bibi Andersson, Ingrid Thulin...  101700   NaN  "
      ]
     },
     "execution_count": 282,
     "metadata": {},
     "output_type": "execute_result"
    }
   ],
   "source": [
    "df.loc[df['name'] == 'Smultronstället']"
   ]
  },
  {
   "cell_type": "markdown",
   "id": "e1eceebf",
   "metadata": {},
   "source": [
    "Looks the same... so there must be duplicates"
   ]
  },
  {
   "cell_type": "code",
   "execution_count": 283,
   "id": "e6c1e217",
   "metadata": {
    "ExecuteTime": {
     "end_time": "2021-09-05T07:38:10.290740Z",
     "start_time": "2021-09-05T07:38:10.262664Z"
    }
   },
   "outputs": [
    {
     "data": {
      "text/html": [
       "<div>\n",
       "<style scoped>\n",
       "    .dataframe tbody tr th:only-of-type {\n",
       "        vertical-align: middle;\n",
       "    }\n",
       "\n",
       "    .dataframe tbody tr th {\n",
       "        vertical-align: top;\n",
       "    }\n",
       "\n",
       "    .dataframe thead th {\n",
       "        text-align: right;\n",
       "    }\n",
       "</style>\n",
       "<table border=\"1\" class=\"dataframe\">\n",
       "  <thead>\n",
       "    <tr style=\"text-align: right;\">\n",
       "      <th></th>\n",
       "      <th>name</th>\n",
       "      <th>year</th>\n",
       "      <th>run_time</th>\n",
       "      <th>genre</th>\n",
       "      <th>rating</th>\n",
       "      <th>about</th>\n",
       "      <th>director</th>\n",
       "      <th>actors</th>\n",
       "      <th>votes</th>\n",
       "      <th>gross</th>\n",
       "    </tr>\n",
       "  </thead>\n",
       "  <tbody>\n",
       "    <tr>\n",
       "      <th>0</th>\n",
       "      <td>The Shawshank Redemption</td>\n",
       "      <td>1994</td>\n",
       "      <td>142 min</td>\n",
       "      <td>Drama</td>\n",
       "      <td>9.3</td>\n",
       "      <td>imprisoned men bond over a number of years, fi...</td>\n",
       "      <td>Frank Darabont</td>\n",
       "      <td>Tim Robbins, Morgan Freeman, Bob Gunton, Willi...</td>\n",
       "      <td>2451775</td>\n",
       "      <td>$28.34M</td>\n",
       "    </tr>\n",
       "    <tr>\n",
       "      <th>1</th>\n",
       "      <td>The Godfather</td>\n",
       "      <td>1972</td>\n",
       "      <td>175 min</td>\n",
       "      <td>Crime, Drama</td>\n",
       "      <td>9.2</td>\n",
       "      <td>rganized crime dynasty's aging patriarch trans...</td>\n",
       "      <td>Francis Ford Coppola</td>\n",
       "      <td>Marlon Brando, Al Pacino, James Caan, Diane Ke...</td>\n",
       "      <td>1696937</td>\n",
       "      <td>$134.97M</td>\n",
       "    </tr>\n",
       "    <tr>\n",
       "      <th>2</th>\n",
       "      <td>The Dark Knight</td>\n",
       "      <td>2008</td>\n",
       "      <td>152 min</td>\n",
       "      <td>Action, Crime, Drama</td>\n",
       "      <td>9.0</td>\n",
       "      <td>the menace known as the Joker wreaks havoc an...</td>\n",
       "      <td>Christopher Nolan</td>\n",
       "      <td>Christian Bale, Heath Ledger, Aaron Eckhart, M...</td>\n",
       "      <td>2407467</td>\n",
       "      <td>$534.86M</td>\n",
       "    </tr>\n",
       "    <tr>\n",
       "      <th>3</th>\n",
       "      <td>The Godfather: Part II</td>\n",
       "      <td>1974</td>\n",
       "      <td>202 min</td>\n",
       "      <td>Crime, Drama</td>\n",
       "      <td>9.0</td>\n",
       "      <td>early life and career of Vito Corleone in 1920...</td>\n",
       "      <td>Francis Ford Coppola</td>\n",
       "      <td>Al Pacino, Robert De Niro, Robert Duvall, Dian...</td>\n",
       "      <td>1178645</td>\n",
       "      <td>$57.30M</td>\n",
       "    </tr>\n",
       "    <tr>\n",
       "      <th>4</th>\n",
       "      <td>Pulp Fiction</td>\n",
       "      <td>1994</td>\n",
       "      <td>154 min</td>\n",
       "      <td>Crime, Drama</td>\n",
       "      <td>8.9</td>\n",
       "      <td>lives of two mob hitmen, a boxer, a gangster a...</td>\n",
       "      <td>Quentin Tarantino</td>\n",
       "      <td>John Travolta, Uma Thurman, Samuel L. Jackson,...</td>\n",
       "      <td>1900380</td>\n",
       "      <td>$107.93M</td>\n",
       "    </tr>\n",
       "    <tr>\n",
       "      <th>...</th>\n",
       "      <td>...</td>\n",
       "      <td>...</td>\n",
       "      <td>...</td>\n",
       "      <td>...</td>\n",
       "      <td>...</td>\n",
       "      <td>...</td>\n",
       "      <td>...</td>\n",
       "      <td>...</td>\n",
       "      <td>...</td>\n",
       "      <td>...</td>\n",
       "    </tr>\n",
       "    <tr>\n",
       "      <th>1354</th>\n",
       "      <td>Ruby Sparks</td>\n",
       "      <td>2012</td>\n",
       "      <td>104 min</td>\n",
       "      <td>Comedy, Drama, Fantasy</td>\n",
       "      <td>7.2</td>\n",
       "      <td>velist struggling with writer's block finds ro...</td>\n",
       "      <td>Jonathan Dayton, Valerie Faris</td>\n",
       "      <td>Paul Dano, Zoe Kazan, Annette Bening, Antonio ...</td>\n",
       "      <td>98057</td>\n",
       "      <td>$2.54M</td>\n",
       "    </tr>\n",
       "    <tr>\n",
       "      <th>1355</th>\n",
       "      <td>Forgetting Sarah Marshall</td>\n",
       "      <td>2008</td>\n",
       "      <td>111 min</td>\n",
       "      <td>Comedy, Drama, Romance</td>\n",
       "      <td>7.1</td>\n",
       "      <td>stated Peter takes a Hawaiian vacation in orde...</td>\n",
       "      <td>Nicholas Stoller</td>\n",
       "      <td>Kristen Bell, Jason Segel, Paul Rudd, Mila Kunis</td>\n",
       "      <td>272993</td>\n",
       "      <td>$63.17M</td>\n",
       "    </tr>\n",
       "    <tr>\n",
       "      <th>1356</th>\n",
       "      <td>A Walk to Remember</td>\n",
       "      <td>2002</td>\n",
       "      <td>101 min</td>\n",
       "      <td>Drama, Romance</td>\n",
       "      <td>7.3</td>\n",
       "      <td>story of two North Carolina teens, Landon Cart...</td>\n",
       "      <td>Adam Shankman</td>\n",
       "      <td>Mandy Moore, Shane West, Peter Coyote, Daryl H...</td>\n",
       "      <td>204304</td>\n",
       "      <td>$41.23M</td>\n",
       "    </tr>\n",
       "    <tr>\n",
       "      <th>1357</th>\n",
       "      <td>Café Society</td>\n",
       "      <td>2016</td>\n",
       "      <td>96 min</td>\n",
       "      <td>Comedy, Drama, Romance</td>\n",
       "      <td>6.6</td>\n",
       "      <td>he 1930s, a Bronx native moves to Hollywood an...</td>\n",
       "      <td>Woody Allen</td>\n",
       "      <td>Jesse Eisenberg, Kristen Stewart, Steve Carell...</td>\n",
       "      <td>73899</td>\n",
       "      <td>$11.10M</td>\n",
       "    </tr>\n",
       "    <tr>\n",
       "      <th>1358</th>\n",
       "      <td>Easy A</td>\n",
       "      <td>2010</td>\n",
       "      <td>92 min</td>\n",
       "      <td>Comedy, Drama, Romance</td>\n",
       "      <td>7.0</td>\n",
       "      <td>ean-cut high school student relies on the scho...</td>\n",
       "      <td>Will Gluck</td>\n",
       "      <td>Emma Stone, Amanda Bynes, Penn Badgley, Dan Byrd</td>\n",
       "      <td>371420</td>\n",
       "      <td>$58.40M</td>\n",
       "    </tr>\n",
       "  </tbody>\n",
       "</table>\n",
       "<p>1218 rows × 10 columns</p>\n",
       "</div>"
      ],
      "text/plain": [
       "                           name  year run_time  \\\n",
       "0      The Shawshank Redemption  1994  142 min   \n",
       "1                 The Godfather  1972  175 min   \n",
       "2               The Dark Knight  2008  152 min   \n",
       "3        The Godfather: Part II  1974  202 min   \n",
       "4                  Pulp Fiction  1994  154 min   \n",
       "...                         ...   ...      ...   \n",
       "1354                Ruby Sparks  2012  104 min   \n",
       "1355  Forgetting Sarah Marshall  2008  111 min   \n",
       "1356         A Walk to Remember  2002  101 min   \n",
       "1357               Café Society  2016   96 min   \n",
       "1358                     Easy A  2010   92 min   \n",
       "\n",
       "                                   genre  rating  \\\n",
       "0                      Drama                 9.3   \n",
       "1               Crime, Drama                 9.2   \n",
       "2       Action, Crime, Drama                 9.0   \n",
       "3               Crime, Drama                 9.0   \n",
       "4               Crime, Drama                 8.9   \n",
       "...                                  ...     ...   \n",
       "1354  Comedy, Drama, Fantasy                 7.2   \n",
       "1355  Comedy, Drama, Romance                 7.1   \n",
       "1356          Drama, Romance                 7.3   \n",
       "1357  Comedy, Drama, Romance                 6.6   \n",
       "1358  Comedy, Drama, Romance                 7.0   \n",
       "\n",
       "                                                  about  \\\n",
       "0     imprisoned men bond over a number of years, fi...   \n",
       "1     rganized crime dynasty's aging patriarch trans...   \n",
       "2      the menace known as the Joker wreaks havoc an...   \n",
       "3     early life and career of Vito Corleone in 1920...   \n",
       "4     lives of two mob hitmen, a boxer, a gangster a...   \n",
       "...                                                 ...   \n",
       "1354  velist struggling with writer's block finds ro...   \n",
       "1355  stated Peter takes a Hawaiian vacation in orde...   \n",
       "1356  story of two North Carolina teens, Landon Cart...   \n",
       "1357  he 1930s, a Bronx native moves to Hollywood an...   \n",
       "1358  ean-cut high school student relies on the scho...   \n",
       "\n",
       "                             director  \\\n",
       "0                     Frank Darabont    \n",
       "1               Francis Ford Coppola    \n",
       "2                  Christopher Nolan    \n",
       "3               Francis Ford Coppola    \n",
       "4                  Quentin Tarantino    \n",
       "...                               ...   \n",
       "1354  Jonathan Dayton, Valerie Faris    \n",
       "1355                Nicholas Stoller    \n",
       "1356                   Adam Shankman    \n",
       "1357                     Woody Allen    \n",
       "1358                      Will Gluck    \n",
       "\n",
       "                                                 actors    votes     gross  \n",
       "0     Tim Robbins, Morgan Freeman, Bob Gunton, Willi...  2451775   $28.34M  \n",
       "1     Marlon Brando, Al Pacino, James Caan, Diane Ke...  1696937  $134.97M  \n",
       "2     Christian Bale, Heath Ledger, Aaron Eckhart, M...  2407467  $534.86M  \n",
       "3     Al Pacino, Robert De Niro, Robert Duvall, Dian...  1178645   $57.30M  \n",
       "4     John Travolta, Uma Thurman, Samuel L. Jackson,...  1900380  $107.93M  \n",
       "...                                                 ...      ...       ...  \n",
       "1354  Paul Dano, Zoe Kazan, Annette Bening, Antonio ...    98057    $2.54M  \n",
       "1355   Kristen Bell, Jason Segel, Paul Rudd, Mila Kunis   272993   $63.17M  \n",
       "1356  Mandy Moore, Shane West, Peter Coyote, Daryl H...   204304   $41.23M  \n",
       "1357  Jesse Eisenberg, Kristen Stewart, Steve Carell...    73899   $11.10M  \n",
       "1358   Emma Stone, Amanda Bynes, Penn Badgley, Dan Byrd   371420   $58.40M  \n",
       "\n",
       "[1218 rows x 10 columns]"
      ]
     },
     "execution_count": 283,
     "metadata": {},
     "output_type": "execute_result"
    }
   ],
   "source": [
    "#sorted_data = df.sort_values('name', axis=0, ascending=True,\n",
    "#                             inplace=False, kind='quicksort',\n",
    "#                             na_position='last')\n",
    "df_final = df.drop_duplicates(subset={\"name\", \"run_time\"},\n",
    "                              keep='first', inplace=False)\n",
    "df_final"
   ]
  },
  {
   "cell_type": "code",
   "execution_count": 284,
   "id": "12622e68",
   "metadata": {
    "ExecuteTime": {
     "end_time": "2021-09-05T07:38:10.942151Z",
     "start_time": "2021-09-05T07:38:10.930727Z"
    }
   },
   "outputs": [
    {
     "data": {
      "text/plain": [
       "Casino Royale                2\n",
       "Hannibal                     2\n",
       "Shingeki no kyojin           2\n",
       "X-Men                        2\n",
       "In Darkness                  1\n",
       "                            ..\n",
       "Môsô dairinin                1\n",
       "The Man Who Knew Infinity    1\n",
       "Viceroy's House              1\n",
       "Dai-bosatsu tôge             1\n",
       "Limitless                    1\n",
       "Name: name, Length: 1214, dtype: int64"
      ]
     },
     "execution_count": 284,
     "metadata": {},
     "output_type": "execute_result"
    }
   ],
   "source": [
    "df_final['name'].value_counts()"
   ]
  },
  {
   "cell_type": "code",
   "execution_count": 285,
   "id": "e4bb42f1",
   "metadata": {
    "ExecuteTime": {
     "end_time": "2021-09-05T07:38:12.957468Z",
     "start_time": "2021-09-05T07:38:12.936804Z"
    }
   },
   "outputs": [
    {
     "data": {
      "text/html": [
       "<div>\n",
       "<style scoped>\n",
       "    .dataframe tbody tr th:only-of-type {\n",
       "        vertical-align: middle;\n",
       "    }\n",
       "\n",
       "    .dataframe tbody tr th {\n",
       "        vertical-align: top;\n",
       "    }\n",
       "\n",
       "    .dataframe thead th {\n",
       "        text-align: right;\n",
       "    }\n",
       "</style>\n",
       "<table border=\"1\" class=\"dataframe\">\n",
       "  <thead>\n",
       "    <tr style=\"text-align: right;\">\n",
       "      <th></th>\n",
       "      <th>name</th>\n",
       "      <th>year</th>\n",
       "      <th>run_time</th>\n",
       "      <th>genre</th>\n",
       "      <th>rating</th>\n",
       "      <th>about</th>\n",
       "      <th>director</th>\n",
       "      <th>actors</th>\n",
       "      <th>votes</th>\n",
       "      <th>gross</th>\n",
       "    </tr>\n",
       "  </thead>\n",
       "  <tbody>\n",
       "    <tr>\n",
       "      <th>73</th>\n",
       "      <td>X-Men</td>\n",
       "      <td>2000</td>\n",
       "      <td>104 min</td>\n",
       "      <td>Action, Adventure, Sci-Fi</td>\n",
       "      <td>7.4</td>\n",
       "      <td>world where mutants (evolved super-powered hu...</td>\n",
       "      <td>Bryan Singer</td>\n",
       "      <td>Patrick Stewart, Hugh Jackman, Ian McKellen, F...</td>\n",
       "      <td>586380</td>\n",
       "      <td>$157.30M</td>\n",
       "    </tr>\n",
       "    <tr>\n",
       "      <th>512</th>\n",
       "      <td>X-Men</td>\n",
       "      <td>1992</td>\n",
       "      <td>23 min</td>\n",
       "      <td>Animation, Action, Family</td>\n",
       "      <td>8.4</td>\n",
       "      <td>am of mutant superheroes fight for justice and...</td>\n",
       "      <td>NaN</td>\n",
       "      <td>Cedric Smith, Cal Dodd, Lenore Zann, George Buza</td>\n",
       "      <td>39333</td>\n",
       "      <td>NaN</td>\n",
       "    </tr>\n",
       "  </tbody>\n",
       "</table>\n",
       "</div>"
      ],
      "text/plain": [
       "      name  year run_time                                  genre  rating  \\\n",
       "73   X-Men  2000  104 min  Action, Adventure, Sci-Fi                 7.4   \n",
       "512  X-Men  1992   23 min  Animation, Action, Family                 8.4   \n",
       "\n",
       "                                                 about       director  \\\n",
       "73    world where mutants (evolved super-powered hu...  Bryan Singer    \n",
       "512  am of mutant superheroes fight for justice and...            NaN   \n",
       "\n",
       "                                                actors   votes     gross  \n",
       "73   Patrick Stewart, Hugh Jackman, Ian McKellen, F...  586380  $157.30M  \n",
       "512   Cedric Smith, Cal Dodd, Lenore Zann, George Buza   39333       NaN  "
      ]
     },
     "execution_count": 285,
     "metadata": {},
     "output_type": "execute_result"
    }
   ],
   "source": [
    "df_final.loc[df['name'] == 'X-Men']"
   ]
  },
  {
   "cell_type": "code",
   "execution_count": 287,
   "id": "479183f6",
   "metadata": {
    "ExecuteTime": {
     "end_time": "2021-09-05T07:38:43.086437Z",
     "start_time": "2021-09-05T07:38:43.075136Z"
    }
   },
   "outputs": [
    {
     "data": {
      "text/plain": [
       "name          0\n",
       "year          0\n",
       "run_time      0\n",
       "genre         0\n",
       "rating        0\n",
       "about         0\n",
       "director    101\n",
       "actors        0\n",
       "votes         0\n",
       "gross       395\n",
       "dtype: int64"
      ]
     },
     "execution_count": 287,
     "metadata": {},
     "output_type": "execute_result"
    }
   ],
   "source": [
    "df_final.isnull().sum()"
   ]
  },
  {
   "cell_type": "code",
   "execution_count": 288,
   "id": "547b3e39",
   "metadata": {
    "ExecuteTime": {
     "end_time": "2021-09-05T07:38:45.755895Z",
     "start_time": "2021-09-05T07:38:45.749089Z"
    }
   },
   "outputs": [],
   "source": [
    "df_final = df_final.drop(['gross'], axis=1)"
   ]
  },
  {
   "cell_type": "code",
   "execution_count": 289,
   "id": "a6fc187f",
   "metadata": {
    "ExecuteTime": {
     "end_time": "2021-09-05T07:38:46.175762Z",
     "start_time": "2021-09-05T07:38:46.164914Z"
    }
   },
   "outputs": [
    {
     "data": {
      "text/plain": [
       "Casino Royale                2\n",
       "Hannibal                     2\n",
       "Shingeki no kyojin           2\n",
       "X-Men                        2\n",
       "In Darkness                  1\n",
       "                            ..\n",
       "Môsô dairinin                1\n",
       "The Man Who Knew Infinity    1\n",
       "Viceroy's House              1\n",
       "Dai-bosatsu tôge             1\n",
       "Limitless                    1\n",
       "Name: name, Length: 1214, dtype: int64"
      ]
     },
     "execution_count": 289,
     "metadata": {},
     "output_type": "execute_result"
    }
   ],
   "source": [
    "df_final['name'].value_counts()"
   ]
  },
  {
   "cell_type": "code",
   "execution_count": 290,
   "id": "cb97182e",
   "metadata": {
    "ExecuteTime": {
     "end_time": "2021-09-05T07:38:48.305328Z",
     "start_time": "2021-09-05T07:38:48.297975Z"
    }
   },
   "outputs": [],
   "source": [
    "df_final = df_final.reset_index()"
   ]
  },
  {
   "cell_type": "code",
   "execution_count": 291,
   "id": "851b40ee",
   "metadata": {
    "ExecuteTime": {
     "end_time": "2021-09-05T07:38:48.737497Z",
     "start_time": "2021-09-05T07:38:48.729938Z"
    }
   },
   "outputs": [],
   "source": [
    "df_final = df_final.drop(['index'], axis=1) "
   ]
  },
  {
   "cell_type": "code",
   "execution_count": 292,
   "id": "beaa3a17",
   "metadata": {
    "ExecuteTime": {
     "end_time": "2021-09-05T07:38:49.308583Z",
     "start_time": "2021-09-05T07:38:49.282823Z"
    }
   },
   "outputs": [
    {
     "data": {
      "text/html": [
       "<div>\n",
       "<style scoped>\n",
       "    .dataframe tbody tr th:only-of-type {\n",
       "        vertical-align: middle;\n",
       "    }\n",
       "\n",
       "    .dataframe tbody tr th {\n",
       "        vertical-align: top;\n",
       "    }\n",
       "\n",
       "    .dataframe thead th {\n",
       "        text-align: right;\n",
       "    }\n",
       "</style>\n",
       "<table border=\"1\" class=\"dataframe\">\n",
       "  <thead>\n",
       "    <tr style=\"text-align: right;\">\n",
       "      <th></th>\n",
       "      <th>name</th>\n",
       "      <th>year</th>\n",
       "      <th>run_time</th>\n",
       "      <th>genre</th>\n",
       "      <th>rating</th>\n",
       "      <th>about</th>\n",
       "      <th>director</th>\n",
       "      <th>actors</th>\n",
       "      <th>votes</th>\n",
       "    </tr>\n",
       "  </thead>\n",
       "  <tbody>\n",
       "    <tr>\n",
       "      <th>0</th>\n",
       "      <td>The Shawshank Redemption</td>\n",
       "      <td>1994</td>\n",
       "      <td>142 min</td>\n",
       "      <td>Drama</td>\n",
       "      <td>9.3</td>\n",
       "      <td>imprisoned men bond over a number of years, fi...</td>\n",
       "      <td>Frank Darabont</td>\n",
       "      <td>Tim Robbins, Morgan Freeman, Bob Gunton, Willi...</td>\n",
       "      <td>2451775</td>\n",
       "    </tr>\n",
       "    <tr>\n",
       "      <th>1</th>\n",
       "      <td>The Godfather</td>\n",
       "      <td>1972</td>\n",
       "      <td>175 min</td>\n",
       "      <td>Crime, Drama</td>\n",
       "      <td>9.2</td>\n",
       "      <td>rganized crime dynasty's aging patriarch trans...</td>\n",
       "      <td>Francis Ford Coppola</td>\n",
       "      <td>Marlon Brando, Al Pacino, James Caan, Diane Ke...</td>\n",
       "      <td>1696937</td>\n",
       "    </tr>\n",
       "    <tr>\n",
       "      <th>2</th>\n",
       "      <td>The Dark Knight</td>\n",
       "      <td>2008</td>\n",
       "      <td>152 min</td>\n",
       "      <td>Action, Crime, Drama</td>\n",
       "      <td>9.0</td>\n",
       "      <td>the menace known as the Joker wreaks havoc an...</td>\n",
       "      <td>Christopher Nolan</td>\n",
       "      <td>Christian Bale, Heath Ledger, Aaron Eckhart, M...</td>\n",
       "      <td>2407467</td>\n",
       "    </tr>\n",
       "    <tr>\n",
       "      <th>3</th>\n",
       "      <td>The Godfather: Part II</td>\n",
       "      <td>1974</td>\n",
       "      <td>202 min</td>\n",
       "      <td>Crime, Drama</td>\n",
       "      <td>9.0</td>\n",
       "      <td>early life and career of Vito Corleone in 1920...</td>\n",
       "      <td>Francis Ford Coppola</td>\n",
       "      <td>Al Pacino, Robert De Niro, Robert Duvall, Dian...</td>\n",
       "      <td>1178645</td>\n",
       "    </tr>\n",
       "    <tr>\n",
       "      <th>4</th>\n",
       "      <td>Pulp Fiction</td>\n",
       "      <td>1994</td>\n",
       "      <td>154 min</td>\n",
       "      <td>Crime, Drama</td>\n",
       "      <td>8.9</td>\n",
       "      <td>lives of two mob hitmen, a boxer, a gangster a...</td>\n",
       "      <td>Quentin Tarantino</td>\n",
       "      <td>John Travolta, Uma Thurman, Samuel L. Jackson,...</td>\n",
       "      <td>1900380</td>\n",
       "    </tr>\n",
       "    <tr>\n",
       "      <th>...</th>\n",
       "      <td>...</td>\n",
       "      <td>...</td>\n",
       "      <td>...</td>\n",
       "      <td>...</td>\n",
       "      <td>...</td>\n",
       "      <td>...</td>\n",
       "      <td>...</td>\n",
       "      <td>...</td>\n",
       "      <td>...</td>\n",
       "    </tr>\n",
       "    <tr>\n",
       "      <th>1213</th>\n",
       "      <td>Ruby Sparks</td>\n",
       "      <td>2012</td>\n",
       "      <td>104 min</td>\n",
       "      <td>Comedy, Drama, Fantasy</td>\n",
       "      <td>7.2</td>\n",
       "      <td>velist struggling with writer's block finds ro...</td>\n",
       "      <td>Jonathan Dayton, Valerie Faris</td>\n",
       "      <td>Paul Dano, Zoe Kazan, Annette Bening, Antonio ...</td>\n",
       "      <td>98057</td>\n",
       "    </tr>\n",
       "    <tr>\n",
       "      <th>1214</th>\n",
       "      <td>Forgetting Sarah Marshall</td>\n",
       "      <td>2008</td>\n",
       "      <td>111 min</td>\n",
       "      <td>Comedy, Drama, Romance</td>\n",
       "      <td>7.1</td>\n",
       "      <td>stated Peter takes a Hawaiian vacation in orde...</td>\n",
       "      <td>Nicholas Stoller</td>\n",
       "      <td>Kristen Bell, Jason Segel, Paul Rudd, Mila Kunis</td>\n",
       "      <td>272993</td>\n",
       "    </tr>\n",
       "    <tr>\n",
       "      <th>1215</th>\n",
       "      <td>A Walk to Remember</td>\n",
       "      <td>2002</td>\n",
       "      <td>101 min</td>\n",
       "      <td>Drama, Romance</td>\n",
       "      <td>7.3</td>\n",
       "      <td>story of two North Carolina teens, Landon Cart...</td>\n",
       "      <td>Adam Shankman</td>\n",
       "      <td>Mandy Moore, Shane West, Peter Coyote, Daryl H...</td>\n",
       "      <td>204304</td>\n",
       "    </tr>\n",
       "    <tr>\n",
       "      <th>1216</th>\n",
       "      <td>Café Society</td>\n",
       "      <td>2016</td>\n",
       "      <td>96 min</td>\n",
       "      <td>Comedy, Drama, Romance</td>\n",
       "      <td>6.6</td>\n",
       "      <td>he 1930s, a Bronx native moves to Hollywood an...</td>\n",
       "      <td>Woody Allen</td>\n",
       "      <td>Jesse Eisenberg, Kristen Stewart, Steve Carell...</td>\n",
       "      <td>73899</td>\n",
       "    </tr>\n",
       "    <tr>\n",
       "      <th>1217</th>\n",
       "      <td>Easy A</td>\n",
       "      <td>2010</td>\n",
       "      <td>92 min</td>\n",
       "      <td>Comedy, Drama, Romance</td>\n",
       "      <td>7.0</td>\n",
       "      <td>ean-cut high school student relies on the scho...</td>\n",
       "      <td>Will Gluck</td>\n",
       "      <td>Emma Stone, Amanda Bynes, Penn Badgley, Dan Byrd</td>\n",
       "      <td>371420</td>\n",
       "    </tr>\n",
       "  </tbody>\n",
       "</table>\n",
       "<p>1218 rows × 9 columns</p>\n",
       "</div>"
      ],
      "text/plain": [
       "                           name  year run_time  \\\n",
       "0      The Shawshank Redemption  1994  142 min   \n",
       "1                 The Godfather  1972  175 min   \n",
       "2               The Dark Knight  2008  152 min   \n",
       "3        The Godfather: Part II  1974  202 min   \n",
       "4                  Pulp Fiction  1994  154 min   \n",
       "...                         ...   ...      ...   \n",
       "1213                Ruby Sparks  2012  104 min   \n",
       "1214  Forgetting Sarah Marshall  2008  111 min   \n",
       "1215         A Walk to Remember  2002  101 min   \n",
       "1216               Café Society  2016   96 min   \n",
       "1217                     Easy A  2010   92 min   \n",
       "\n",
       "                                   genre  rating  \\\n",
       "0                      Drama                 9.3   \n",
       "1               Crime, Drama                 9.2   \n",
       "2       Action, Crime, Drama                 9.0   \n",
       "3               Crime, Drama                 9.0   \n",
       "4               Crime, Drama                 8.9   \n",
       "...                                  ...     ...   \n",
       "1213  Comedy, Drama, Fantasy                 7.2   \n",
       "1214  Comedy, Drama, Romance                 7.1   \n",
       "1215          Drama, Romance                 7.3   \n",
       "1216  Comedy, Drama, Romance                 6.6   \n",
       "1217  Comedy, Drama, Romance                 7.0   \n",
       "\n",
       "                                                  about  \\\n",
       "0     imprisoned men bond over a number of years, fi...   \n",
       "1     rganized crime dynasty's aging patriarch trans...   \n",
       "2      the menace known as the Joker wreaks havoc an...   \n",
       "3     early life and career of Vito Corleone in 1920...   \n",
       "4     lives of two mob hitmen, a boxer, a gangster a...   \n",
       "...                                                 ...   \n",
       "1213  velist struggling with writer's block finds ro...   \n",
       "1214  stated Peter takes a Hawaiian vacation in orde...   \n",
       "1215  story of two North Carolina teens, Landon Cart...   \n",
       "1216  he 1930s, a Bronx native moves to Hollywood an...   \n",
       "1217  ean-cut high school student relies on the scho...   \n",
       "\n",
       "                             director  \\\n",
       "0                     Frank Darabont    \n",
       "1               Francis Ford Coppola    \n",
       "2                  Christopher Nolan    \n",
       "3               Francis Ford Coppola    \n",
       "4                  Quentin Tarantino    \n",
       "...                               ...   \n",
       "1213  Jonathan Dayton, Valerie Faris    \n",
       "1214                Nicholas Stoller    \n",
       "1215                   Adam Shankman    \n",
       "1216                     Woody Allen    \n",
       "1217                      Will Gluck    \n",
       "\n",
       "                                                 actors    votes  \n",
       "0     Tim Robbins, Morgan Freeman, Bob Gunton, Willi...  2451775  \n",
       "1     Marlon Brando, Al Pacino, James Caan, Diane Ke...  1696937  \n",
       "2     Christian Bale, Heath Ledger, Aaron Eckhart, M...  2407467  \n",
       "3     Al Pacino, Robert De Niro, Robert Duvall, Dian...  1178645  \n",
       "4     John Travolta, Uma Thurman, Samuel L. Jackson,...  1900380  \n",
       "...                                                 ...      ...  \n",
       "1213  Paul Dano, Zoe Kazan, Annette Bening, Antonio ...    98057  \n",
       "1214   Kristen Bell, Jason Segel, Paul Rudd, Mila Kunis   272993  \n",
       "1215  Mandy Moore, Shane West, Peter Coyote, Daryl H...   204304  \n",
       "1216  Jesse Eisenberg, Kristen Stewart, Steve Carell...    73899  \n",
       "1217   Emma Stone, Amanda Bynes, Penn Badgley, Dan Byrd   371420  \n",
       "\n",
       "[1218 rows x 9 columns]"
      ]
     },
     "execution_count": 292,
     "metadata": {},
     "output_type": "execute_result"
    }
   ],
   "source": [
    "df_final"
   ]
  },
  {
   "cell_type": "code",
   "execution_count": 259,
   "id": "c6ac8383",
   "metadata": {
    "ExecuteTime": {
     "end_time": "2021-09-04T14:38:47.433378Z",
     "start_time": "2021-09-04T14:38:46.787486Z"
    }
   },
   "outputs": [
    {
     "data": {
      "image/png": "[encoded data removed]",
      "text/plain": [
       "<Figure size 1440x1440 with 1 Axes>"
      ]
     },
     "metadata": {
      "needs_background": "light"
     },
     "output_type": "display_data"
    }
   ],
   "source": [
    "df['rating'].value_counts(sort=True).plot(kind='barh', figsize=(20, 20), color='#FF9900')\n",
    "\n",
    "plt.title('Rating', fontsize=15)\n",
    "plt.xlabel('Counts', fontsize=14)\n",
    "plt.ylabel('Score', fontsize=14)\n",
    "plt.show()"
   ]
  },
  {
   "cell_type": "code",
   "execution_count": 260,
   "id": "0c97c8b1",
   "metadata": {
    "ExecuteTime": {
     "end_time": "2021-09-04T14:38:48.370292Z",
     "start_time": "2021-09-04T14:38:47.934402Z"
    }
   },
   "outputs": [
    {
     "data": {
      "image/png": "[encoded data removed]",
      "text/plain": [
       "<Figure size 800x800 with 1 Axes>"
      ]
     },
     "metadata": {
      "needs_background": "light"
     },
     "output_type": "display_data"
    }
   ],
   "source": [
    "from wordcloud import WordCloud, STOPWORDS, ImageColorGenerator\n",
    "\n",
    "text = ' '.join([word for review in df_final['about']\n",
    "                     for word in review.split()])\n",
    "wordcloud_about = WordCloud(background_color=\"white\",\n",
    "                          colormap='viridis', max_words=50,\n",
    "                          collocations=False).generate(text)\n",
    "plt.figure(figsize=(4, 4), dpi=200)\n",
    "plt.title('Word Cloud of about column', fontsize=7)\n",
    "plt.imshow(wordcloud_about, interpolation='bilinear')\n",
    "plt.axis(\"off\")\n",
    "plt.show()"
   ]
  },
  {
   "cell_type": "code",
   "execution_count": null,
   "id": "9206a6cc",
   "metadata": {},
   "outputs": [],
   "source": []
  }
 ],
 "metadata": {
  "hide_input": false,
  "kernelspec": {
   "display_name": "Python 3",
   "language": "python",
   "name": "python3"
  },
  "language_info": {
   "codemirror_mode": {
    "name": "ipython",
    "version": 3
   },
   "file_extension": ".py",
   "mimetype": "text/x-python",
   "name": "python",
   "nbconvert_exporter": "python",
   "pygments_lexer": "ipython3",
   "version": "3.8.8"
  },
  "latex_envs": {
   "LaTeX_envs_menu_present": true,
   "autoclose": false,
   "autocomplete": true,
   "bibliofile": "biblio.bib",
   "cite_by": "apalike",
   "current_citInitial": 1,
   "eqLabelWithNumbers": true,
   "eqNumInitial": 1,
   "hotkeys": {
    "equation": "Ctrl-E",
    "itemize": "Ctrl-I"
   },
   "labels_anchors": false,
   "latex_user_defs": false,
   "report_style_numbering": false,
   "user_envs_cfg": false
  }
 },
 "nbformat": 4,
 "nbformat_minor": 5
}
